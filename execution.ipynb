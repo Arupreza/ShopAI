{
 "cells": [
  {
   "cell_type": "markdown",
   "id": "838088e2",
   "metadata": {},
   "source": [
    "Roberta Model Fine Tune"
   ]
  },
  {
   "cell_type": "code",
   "execution_count": 1,
   "id": "db849968",
   "metadata": {},
   "outputs": [
    {
     "name": "stderr",
     "output_type": "stream",
     "text": [
      "/home/lisa/anaconda3/envs/llm_env/lib/python3.10/site-packages/tqdm/auto.py:21: TqdmWarning: IProgress not found. Please update jupyter and ipywidgets. See https://ipywidgets.readthedocs.io/en/stable/user_install.html\n",
      "  from .autonotebook import tqdm as notebook_tqdm\n",
      "Map: 100%|██████████| 2000/2000 [00:00<00:00, 11673.61 examples/s]\n",
      "Some weights of RobertaForSequenceClassification were not initialized from the model checkpoint at FacebookAI/roberta-base and are newly initialized: ['classifier.dense.bias', 'classifier.dense.weight', 'classifier.out_proj.bias', 'classifier.out_proj.weight']\n",
      "You should probably TRAIN this model on a down-stream task to be able to use it for predictions and inference.\n",
      "/home/lisa/Arupreza/ShopAI/model_src/roberta_base_fine_tune.py:157: FutureWarning: `tokenizer` is deprecated and will be removed in version 5.0.0 for `Trainer.__init__`. Use `processing_class` instead.\n",
      "  trainer = Trainer(\n"
     ]
    },
    {
     "data": {
      "text/html": [
       "\n",
       "    <div>\n",
       "      \n",
       "      <progress value='8000' max='33750' style='width:300px; height:20px; vertical-align: middle;'></progress>\n",
       "      [ 8000/33750 21:56 < 1:10:37, 6.08 it/s, Epoch 0/3]\n",
       "    </div>\n",
       "    <table border=\"1\" class=\"dataframe\">\n",
       "  <thead>\n",
       " <tr style=\"text-align: left;\">\n",
       "      <th>Step</th>\n",
       "      <th>Training Loss</th>\n",
       "      <th>Validation Loss</th>\n",
       "      <th>Rmse</th>\n",
       "      <th>Mae</th>\n",
       "      <th>R2</th>\n",
       "    </tr>\n",
       "  </thead>\n",
       "  <tbody>\n",
       "    <tr>\n",
       "      <td>500</td>\n",
       "      <td>15.544700</td>\n",
       "      <td>14.559072</td>\n",
       "      <td>287.939575</td>\n",
       "      <td>217.006348</td>\n",
       "      <td>-1.314369</td>\n",
       "    </tr>\n",
       "    <tr>\n",
       "      <td>1000</td>\n",
       "      <td>0.977900</td>\n",
       "      <td>0.890997</td>\n",
       "      <td>176.437424</td>\n",
       "      <td>120.645210</td>\n",
       "      <td>0.131017</td>\n",
       "    </tr>\n",
       "    <tr>\n",
       "      <td>1500</td>\n",
       "      <td>0.694600</td>\n",
       "      <td>0.703207</td>\n",
       "      <td>158.974655</td>\n",
       "      <td>112.898949</td>\n",
       "      <td>0.294518</td>\n",
       "    </tr>\n",
       "    <tr>\n",
       "      <td>2000</td>\n",
       "      <td>0.195600</td>\n",
       "      <td>0.188815</td>\n",
       "      <td>169.201813</td>\n",
       "      <td>110.696526</td>\n",
       "      <td>0.200829</td>\n",
       "    </tr>\n",
       "    <tr>\n",
       "      <td>2500</td>\n",
       "      <td>0.093400</td>\n",
       "      <td>0.080346</td>\n",
       "      <td>122.888908</td>\n",
       "      <td>75.294235</td>\n",
       "      <td>0.578444</td>\n",
       "    </tr>\n",
       "    <tr>\n",
       "      <td>3000</td>\n",
       "      <td>0.068400</td>\n",
       "      <td>0.043254</td>\n",
       "      <td>109.873390</td>\n",
       "      <td>56.812489</td>\n",
       "      <td>0.663012</td>\n",
       "    </tr>\n",
       "    <tr>\n",
       "      <td>3500</td>\n",
       "      <td>0.052400</td>\n",
       "      <td>0.030408</td>\n",
       "      <td>84.135246</td>\n",
       "      <td>43.545132</td>\n",
       "      <td>0.802400</td>\n",
       "    </tr>\n",
       "    <tr>\n",
       "      <td>4000</td>\n",
       "      <td>0.046800</td>\n",
       "      <td>0.032830</td>\n",
       "      <td>100.425034</td>\n",
       "      <td>47.959381</td>\n",
       "      <td>0.718477</td>\n",
       "    </tr>\n",
       "    <tr>\n",
       "      <td>4500</td>\n",
       "      <td>0.040100</td>\n",
       "      <td>0.031249</td>\n",
       "      <td>96.855003</td>\n",
       "      <td>46.911621</td>\n",
       "      <td>0.738137</td>\n",
       "    </tr>\n",
       "    <tr>\n",
       "      <td>5000</td>\n",
       "      <td>0.035100</td>\n",
       "      <td>0.016704</td>\n",
       "      <td>75.063004</td>\n",
       "      <td>32.138050</td>\n",
       "      <td>0.842717</td>\n",
       "    </tr>\n",
       "    <tr>\n",
       "      <td>5500</td>\n",
       "      <td>0.033600</td>\n",
       "      <td>0.031277</td>\n",
       "      <td>100.202209</td>\n",
       "      <td>50.389397</td>\n",
       "      <td>0.719725</td>\n",
       "    </tr>\n",
       "    <tr>\n",
       "      <td>6000</td>\n",
       "      <td>0.032500</td>\n",
       "      <td>0.023198</td>\n",
       "      <td>86.810829</td>\n",
       "      <td>41.496498</td>\n",
       "      <td>0.789633</td>\n",
       "    </tr>\n",
       "    <tr>\n",
       "      <td>6500</td>\n",
       "      <td>0.028300</td>\n",
       "      <td>0.016085</td>\n",
       "      <td>73.467285</td>\n",
       "      <td>31.877796</td>\n",
       "      <td>0.849333</td>\n",
       "    </tr>\n",
       "    <tr>\n",
       "      <td>7000</td>\n",
       "      <td>0.027700</td>\n",
       "      <td>0.020667</td>\n",
       "      <td>81.041908</td>\n",
       "      <td>37.943089</td>\n",
       "      <td>0.816663</td>\n",
       "    </tr>\n",
       "    <tr>\n",
       "      <td>7500</td>\n",
       "      <td>0.027100</td>\n",
       "      <td>0.015802</td>\n",
       "      <td>74.896851</td>\n",
       "      <td>33.839577</td>\n",
       "      <td>0.843413</td>\n",
       "    </tr>\n",
       "    <tr>\n",
       "      <td>8000</td>\n",
       "      <td>0.024300</td>\n",
       "      <td>0.017829</td>\n",
       "      <td>76.651970</td>\n",
       "      <td>35.400452</td>\n",
       "      <td>0.835988</td>\n",
       "    </tr>\n",
       "  </tbody>\n",
       "</table><p>"
      ],
      "text/plain": [
       "<IPython.core.display.HTML object>"
      ]
     },
     "metadata": {},
     "output_type": "display_data"
    },
    {
     "data": {
      "text/html": [
       "\n",
       "    <div>\n",
       "      \n",
       "      <progress value='2625' max='2500' style='width:300px; height:20px; vertical-align: middle;'></progress>\n",
       "      [2500/2500 00:41]\n",
       "    </div>\n",
       "    "
      ],
      "text/plain": [
       "<IPython.core.display.HTML object>"
      ]
     },
     "metadata": {},
     "output_type": "display_data"
    },
    {
     "name": "stdout",
     "output_type": "stream",
     "text": [
      "Validation metrics: {'eval_loss': 0.016085434705018997, 'eval_rmse': 73.46728515625, 'eval_mae': 31.877796173095703, 'eval_r2': 0.8493330711305338, 'eval_runtime': 39.7625, 'eval_samples_per_second': 1005.974, 'eval_steps_per_second': 62.873, 'epoch': 0.7111111111111111}\n",
      "Test metrics: {'eval_loss': 1.402895450592041, 'eval_rmse': 224.31961059570312, 'eval_mae': 154.30364990234375, 'eval_r2': -0.4710033425457487, 'eval_runtime': 2.0528, 'eval_samples_per_second': 974.258, 'eval_steps_per_second': 60.891, 'epoch': 0.7111111111111111}\n",
      "✅ Model saved to ./price_roberta_lora\n"
     ]
    }
   ],
   "source": [
    "from model_src.roberta_base_fine_tune import train_model\n",
    "\n",
    "trainer, model, tok, dataset = train_model(\n",
    "    source=\"ed-donner/pricer-data\",\n",
    "    text_column=\"text\",\n",
    "    label_column=\"price\",\n",
    "    epochs=3,\n",
    "    batch_size=16,\n",
    "    eval_steps=500\n",
    ")\n"
   ]
  },
  {
   "cell_type": "code",
   "execution_count": 3,
   "id": "7e300a6a",
   "metadata": {},
   "outputs": [
    {
     "name": "stderr",
     "output_type": "stream",
     "text": [
      "Some weights of RobertaForSequenceClassification were not initialized from the model checkpoint at FacebookAI/roberta-base and are newly initialized: ['classifier.dense.bias', 'classifier.dense.weight', 'classifier.out_proj.bias', 'classifier.out_proj.weight']\n",
      "You should probably TRAIN this model on a down-stream task to be able to use it for predictions and inference.\n"
     ]
    },
    {
     "data": {
      "image/png": "[encoded data removed]",
      "text/plain": [
       "<Figure size 800x600 with 1 Axes>"
      ]
     },
     "metadata": {},
     "output_type": "display_data"
    },
    {
     "name": "stdout",
     "output_type": "stream",
     "text": [
      "{'mae': 154.31402530077656, 'rmse': 222.39675161721857, 'r2': -0.4883020307624757, 'rmsle': 1.1910769360450686, 'avg_diff': -127.51351284671159}\n"
     ]
    }
   ],
   "source": [
    "from model_src.evaluation import evaluate_model\n",
    "\n",
    "metrics = evaluate_model(\"price_roberta_lora/checkpoint-6500\", num_samples=1000)\n",
    "print(metrics)"
   ]
  },
  {
   "cell_type": "code",
   "execution_count": null,
   "id": "4bc7e522",
   "metadata": {},
   "outputs": [],
   "source": []
  },
  {
   "cell_type": "code",
   "execution_count": null,
   "id": "48897bfa",
   "metadata": {},
   "outputs": [],
   "source": []
  },
  {
   "cell_type": "code",
   "execution_count": null,
   "id": "a7a2210d",
   "metadata": {},
   "outputs": [],
   "source": []
  },
  {
   "cell_type": "code",
   "execution_count": null,
   "id": "eaf4288d",
   "metadata": {},
   "outputs": [],
   "source": []
  },
  {
   "cell_type": "code",
   "execution_count": null,
   "id": "3f4595a3",
   "metadata": {},
   "outputs": [],
   "source": []
  },
  {
   "cell_type": "markdown",
   "id": "5ca7ea1b",
   "metadata": {},
   "source": [
    "Llama Model Fine Tune"
   ]
  },
  {
   "cell_type": "code",
   "execution_count": 1,
   "id": "a966ffe9",
   "metadata": {},
   "outputs": [
    {
     "name": "stderr",
     "output_type": "stream",
     "text": [
      "Note: Environment variable`HF_TOKEN` is set and is the current active token independently from the token you've just configured.\n",
      "\u001b[34m\u001b[1mwandb\u001b[0m: \u001b[33mWARNING\u001b[0m If you're specifying your api key in code, ensure this code is not shared publicly.\n",
      "\u001b[34m\u001b[1mwandb\u001b[0m: \u001b[33mWARNING\u001b[0m Consider setting the WANDB_API_KEY environment variable, or running `wandb login` from the command line.\n",
      "\u001b[34m\u001b[1mwandb\u001b[0m: Appending key for api.wandb.ai to your netrc file: /home/lisa/.netrc\n",
      "\u001b[34m\u001b[1mwandb\u001b[0m: Currently logged in as: \u001b[33marupreza\u001b[0m (\u001b[33marupreza-soonchunhyang-university\u001b[0m) to \u001b[32mhttps://api.wandb.ai\u001b[0m. Use \u001b[1m`wandb login --relogin`\u001b[0m to force relogin\n"
     ]
    },
    {
     "data": {
      "application/vnd.jupyter.widget-view+json": {
       "model_id": "ca4e2ddf33d14beeaac316923f7deaf4",
       "version_major": 2,
       "version_minor": 0
      },
      "text/plain": [
       "Map:   0%|          | 0/400000 [00:00<?, ? examples/s]"
      ]
     },
     "metadata": {},
     "output_type": "display_data"
    },
    {
     "data": {
      "application/vnd.jupyter.widget-view+json": {
       "model_id": "bd4475145a554ac49e756204b804b08c",
       "version_major": 2,
       "version_minor": 0
      },
      "text/plain": [
       "Map:   0%|          | 0/2000 [00:00<?, ? examples/s]"
      ]
     },
     "metadata": {},
     "output_type": "display_data"
    },
    {
     "data": {
      "application/vnd.jupyter.widget-view+json": {
       "model_id": "af80e5d1f45c4de7b4cc1fa49cc34594",
       "version_major": 2,
       "version_minor": 0
      },
      "text/plain": [
       "Loading checkpoint shards:   0%|          | 0/4 [00:00<?, ?it/s]"
      ]
     },
     "metadata": {},
     "output_type": "display_data"
    },
    {
     "name": "stdout",
     "output_type": "stream",
     "text": [
      "Memory footprint: 5591.5 MB\n"
     ]
    },
    {
     "data": {
      "application/vnd.jupyter.widget-view+json": {
       "model_id": "cd849f5201ca446dbb3a4284b59ae8c1",
       "version_major": 2,
       "version_minor": 0
      },
      "text/plain": [
       "Map:   0%|          | 0/1000 [00:00<?, ? examples/s]"
      ]
     },
     "metadata": {},
     "output_type": "display_data"
    },
    {
     "data": {
      "application/vnd.jupyter.widget-view+json": {
       "model_id": "d6219362c0c0460a845dbfea7c176121",
       "version_major": 2,
       "version_minor": 0
      },
      "text/plain": [
       "Map:   0%|          | 0/100 [00:00<?, ? examples/s]"
      ]
     },
     "metadata": {},
     "output_type": "display_data"
    },
    {
     "name": "stderr",
     "output_type": "stream",
     "text": [
      "The tokenizer has new PAD/BOS/EOS tokens that differ from the model config and generation config. The model config and generation config were aligned accordingly, being updated with the tokenizer's values. Updated tokens: {'pad_token_id': 128001}.\n"
     ]
    },
    {
     "data": {
      "text/html": [
       "creating run (0.2s)"
      ],
      "text/plain": [
       "<IPython.core.display.HTML object>"
      ]
     },
     "metadata": {},
     "output_type": "display_data"
    },
    {
     "data": {
      "text/html": [
       "Tracking run with wandb version 0.21.3"
      ],
      "text/plain": [
       "<IPython.core.display.HTML object>"
      ]
     },
     "metadata": {},
     "output_type": "display_data"
    },
    {
     "data": {
      "text/html": [
       "Run data is saved locally in <code>/home/lisa/Arupreza/ShopAI/wandb/run-20250914_115608-feu8uivl</code>"
      ],
      "text/plain": [
       "<IPython.core.display.HTML object>"
      ]
     },
     "metadata": {},
     "output_type": "display_data"
    },
    {
     "data": {
      "text/html": [
       "Syncing run <strong><a href='https://wandb.ai/arupreza-soonchunhyang-university/huggingface/runs/feu8uivl' target=\"_blank\">debug_run</a></strong> to <a href='https://wandb.ai/arupreza-soonchunhyang-university/huggingface' target=\"_blank\">Weights & Biases</a> (<a href='https://wandb.me/developer-guide' target=\"_blank\">docs</a>)<br>"
      ],
      "text/plain": [
       "<IPython.core.display.HTML object>"
      ]
     },
     "metadata": {},
     "output_type": "display_data"
    },
    {
     "data": {
      "text/html": [
       " View project at <a href='https://wandb.ai/arupreza-soonchunhyang-university/huggingface' target=\"_blank\">https://wandb.ai/arupreza-soonchunhyang-university/huggingface</a>"
      ],
      "text/plain": [
       "<IPython.core.display.HTML object>"
      ]
     },
     "metadata": {},
     "output_type": "display_data"
    },
    {
     "data": {
      "text/html": [
       " View run at <a href='https://wandb.ai/arupreza-soonchunhyang-university/huggingface/runs/feu8uivl' target=\"_blank\">https://wandb.ai/arupreza-soonchunhyang-university/huggingface/runs/feu8uivl</a>"
      ],
      "text/plain": [
       "<IPython.core.display.HTML object>"
      ]
     },
     "metadata": {},
     "output_type": "display_data"
    },
    {
     "data": {
      "text/html": [
       "\n",
       "    <div>\n",
       "      \n",
       "      <progress value='250' max='250' style='width:300px; height:20px; vertical-align: middle;'></progress>\n",
       "      [250/250 02:57, Epoch 1/1]\n",
       "    </div>\n",
       "    <table border=\"1\" class=\"dataframe\">\n",
       "  <thead>\n",
       " <tr style=\"text-align: left;\">\n",
       "      <th>Step</th>\n",
       "      <th>Training Loss</th>\n",
       "      <th>Validation Loss</th>\n",
       "    </tr>\n",
       "  </thead>\n",
       "  <tbody>\n",
       "    <tr>\n",
       "      <td>200</td>\n",
       "      <td>2.315800</td>\n",
       "      <td>2.230994</td>\n",
       "    </tr>\n",
       "  </tbody>\n",
       "</table><p>"
      ],
      "text/plain": [
       "<IPython.core.display.HTML object>"
      ]
     },
     "metadata": {},
     "output_type": "display_data"
    },
    {
     "name": "stderr",
     "output_type": "stream",
     "text": [
      "\u001b[34m\u001b[1mwandb\u001b[0m: \u001b[32m\u001b[41mERROR\u001b[0m The nbformat package was not found. It is required to save notebook history.\n"
     ]
    },
    {
     "data": {
      "text/html": [],
      "text/plain": [
       "<IPython.core.display.HTML object>"
      ]
     },
     "metadata": {},
     "output_type": "display_data"
    },
    {
     "data": {
      "text/html": [
       "<br>    <style><br>        .wandb-row {<br>            display: flex;<br>            flex-direction: row;<br>            flex-wrap: wrap;<br>            justify-content: flex-start;<br>            width: 100%;<br>        }<br>        .wandb-col {<br>            display: flex;<br>            flex-direction: column;<br>            flex-basis: 100%;<br>            flex: 1;<br>            padding: 10px;<br>        }<br>    </style><br><div class=\"wandb-row\"><div class=\"wandb-col\"><h3>Run history:</h3><br/><table class=\"wandb\"><tr><td>eval/loss</td><td>▁</td></tr><tr><td>eval/runtime</td><td>▁</td></tr><tr><td>eval/samples_per_second</td><td>▁</td></tr><tr><td>eval/steps_per_second</td><td>▁</td></tr><tr><td>train/epoch</td><td>▁▃▅▆▆██</td></tr><tr><td>train/global_step</td><td>▁▃▅▆▆██</td></tr><tr><td>train/grad_norm</td><td>▂▁▂▂█</td></tr><tr><td>train/learning_rate</td><td>█▆▄▂▁</td></tr><tr><td>train/loss</td><td>█▂▁▂▂</td></tr></table><br/></div><div class=\"wandb-col\"><h3>Run summary:</h3><br/><table class=\"wandb\"><tr><td>eval/loss</td><td>2.23099</td></tr><tr><td>eval/runtime</td><td>20.4774</td></tr><tr><td>eval/samples_per_second</td><td>4.883</td></tr><tr><td>eval/steps_per_second</td><td>4.883</td></tr><tr><td>total_flos</td><td>8034976237879296.0</td></tr><tr><td>train/epoch</td><td>1</td></tr><tr><td>train/global_step</td><td>250</td></tr><tr><td>train/grad_norm</td><td>1.96918</td></tr><tr><td>train/learning_rate</td><td>0.0</td></tr><tr><td>train/loss</td><td>2.3112</td></tr><tr><td>+4</td><td>...</td></tr></table><br/></div></div>"
      ],
      "text/plain": [
       "<IPython.core.display.HTML object>"
      ]
     },
     "metadata": {},
     "output_type": "display_data"
    },
    {
     "data": {
      "text/html": [
       " View run <strong style=\"color:#cdcd00\">debug_run</strong> at: <a href='https://wandb.ai/arupreza-soonchunhyang-university/huggingface/runs/feu8uivl' target=\"_blank\">https://wandb.ai/arupreza-soonchunhyang-university/huggingface/runs/feu8uivl</a><br> View project at: <a href='https://wandb.ai/arupreza-soonchunhyang-university/huggingface' target=\"_blank\">https://wandb.ai/arupreza-soonchunhyang-university/huggingface</a><br>Synced 5 W&B file(s), 0 media file(s), 0 artifact file(s) and 0 other file(s)"
      ],
      "text/plain": [
       "<IPython.core.display.HTML object>"
      ]
     },
     "metadata": {},
     "output_type": "display_data"
    },
    {
     "data": {
      "text/html": [
       "Find logs at: <code>./wandb/run-20250914_115608-feu8uivl/logs</code>"
      ],
      "text/plain": [
       "<IPython.core.display.HTML object>"
      ]
     },
     "metadata": {},
     "output_type": "display_data"
    }
   ],
   "source": [
    "from model_src.llama_8_b_base_fine_tune import train_sft\n",
    "\n",
    "trainer, model, tokenizer, ds = train_sft(\n",
    "    hf_user=\"Arupreza\",\n",
    "    dataset_name=\"ed-donner/pricer-data\",\n",
    "    base_model=\"meta-llama/Meta-Llama-3.1-8B\",\n",
    "    project_name=\"pricer\",\n",
    "    log_to_wandb=True,\n",
    "    epochs=1,\n",
    "    batch_size=4,\n",
    "    save_steps=2000,\n",
    "    run_name=\"debug_run\",\n",
    "    push_to_hub=False,       # don’t push when debugging\n",
    "    train_size=1000,       # optional: subset\n",
    "    eval_size=100           # optional: subset\n",
    ")"
   ]
  },
  {
   "cell_type": "code",
   "execution_count": null,
   "id": "54242dc3",
   "metadata": {},
   "outputs": [],
   "source": []
  },
  {
   "cell_type": "code",
   "execution_count": null,
   "id": "c79fc3e8",
   "metadata": {},
   "outputs": [],
   "source": []
  },
  {
   "cell_type": "code",
   "execution_count": null,
   "id": "84463c2d",
   "metadata": {},
   "outputs": [],
   "source": []
  },
  {
   "cell_type": "code",
   "execution_count": null,
   "id": "815e4e7f",
   "metadata": {},
   "outputs": [],
   "source": []
  },
  {
   "cell_type": "code",
   "execution_count": 2,
   "id": "835b8b52",
   "metadata": {},
   "outputs": [],
   "source": [
    "from model_src.evaluation import llama_evaluation"
   ]
  },
  {
   "cell_type": "code",
   "execution_count": 4,
   "id": "dbf8f1de",
   "metadata": {},
   "outputs": [
    {
     "data": {
      "application/vnd.jupyter.widget-view+json": {
       "model_id": "a45fe7c34f214560ba7a7a0736e7c251",
       "version_major": 2,
       "version_minor": 0
      },
      "text/plain": [
       "Loading checkpoint shards:   0%|          | 0/4 [00:00<?, ?it/s]"
      ]
     },
     "metadata": {},
     "output_type": "display_data"
    },
    {
     "name": "stdout",
     "output_type": "stream",
     "text": [
      "Memory footprint: 5700.6 MB\n",
      "\u001b[92m1: Guess: $329.50 Truth: $374.41 Error: $44.91 SLE: 0.02 Item: OEM AC Compressor w/...\u001b[0m\n",
      "\u001b[93m2: Guess: $158.25 Truth: $225.11 Error: $66.86 SLE: 0.12 Item: Motorcraft YB3125 Fa...\u001b[0m\n",
      "\u001b[92m3: Guess: $44.69 Truth: $61.68 Error: $16.99 SLE: 0.10 Item: Dorman Front Washer ...\u001b[0m\n",
      "\u001b[92m4: Guess: $486.00 Truth: $599.99 Error: $113.99 SLE: 0.04 Item: HP Premium HD Plus T...\u001b[0m\n",
      "\u001b[92m5: Guess: $18.14 Truth: $16.99 Error: $1.15 SLE: 0.00 Item: Super Switch Pickup ...\u001b[0m\n",
      "\u001b[92m6: Guess: $12.98 Truth: $31.99 Error: $19.01 SLE: 0.74 Item: Horror Bookmarks, Re...\u001b[0m\n",
      "\u001b[93m7: Guess: $149.75 Truth: $101.79 Error: $47.96 SLE: 0.15 Item: SK6241 - Stinger 4 G...\u001b[0m\n",
      "\u001b[92m8: Guess: $270.25 Truth: $289.00 Error: $18.75 SLE: 0.00 Item: Godox ML60Bi LED Lig...\u001b[0m\n",
      "\u001b[93m9: Guess: $771.00 Truth: $635.86 Error: $135.14 SLE: 0.04 Item: Randall G3 Plus Comb...\u001b[0m\n",
      "\u001b[92m10: Guess: $76.12 Truth: $65.99 Error: $10.14 SLE: 0.02 Item: HOLDWILL 6 Pack LED ...\u001b[0m\n",
      "\u001b[92m11: Guess: $256.50 Truth: $254.21 Error: $2.29 SLE: 0.00 Item: Viking Horns 3 Gallo...\u001b[0m\n",
      "\u001b[92m12: Guess: $403.00 Truth: $412.99 Error: $9.99 SLE: 0.00 Item: CURT 70110 Custom To...\u001b[0m\n",
      "\u001b[92m13: Guess: $198.25 Truth: $205.50 Error: $7.25 SLE: 0.00 Item: Solar HAMMERED BRONZ...\u001b[0m\n",
      "\u001b[92m14: Guess: $260.25 Truth: $248.23 Error: $12.02 SLE: 0.00 Item: COSTWAY Electric Tum...\u001b[0m\n",
      "\u001b[92m15: Guess: $326.00 Truth: $399.00 Error: $73.00 SLE: 0.04 Item: FREE SIGNAL TV Trans...\u001b[0m\n",
      "\u001b[92m16: Guess: $367.00 Truth: $373.94 Error: $6.94 SLE: 0.00 Item: Bilstein 5100 Monotu...\u001b[0m\n",
      "\u001b[93m17: Guess: $133.62 Truth: $92.89 Error: $40.73 SLE: 0.13 Item: Sangean K-200 Multi-...\u001b[0m\n",
      "\u001b[93m18: Guess: $98.12 Truth: $51.99 Error: $46.13 SLE: 0.39 Item: Charles Leonard Magn...\u001b[0m\n",
      "\u001b[93m19: Guess: $243.62 Truth: $179.00 Error: $64.62 SLE: 0.09 Item: Gigabyte AMD Radeon ...\u001b[0m\n",
      "\u001b[92m20: Guess: $16.44 Truth: $19.42 Error: $2.98 SLE: 0.02 Item: 3dRose LLC 8 x 8 x 0...\u001b[0m\n",
      "\u001b[92m21: Guess: $534.50 Truth: $539.95 Error: $5.45 SLE: 0.00 Item: ROKINON 85mm F1.4 Au...\u001b[0m\n",
      "\u001b[93m22: Guess: $68.94 Truth: $147.67 Error: $78.73 SLE: 0.57 Item: Headlight Assembly C...\u001b[0m\n",
      "\u001b[92m23: Guess: $32.06 Truth: $24.99 Error: $7.07 SLE: 0.06 Item: ASI NAUTICAL 2.5 Inc...\u001b[0m\n",
      "\u001b[92m24: Guess: $118.19 Truth: $149.00 Error: $30.81 SLE: 0.05 Item: Behringer TUBE OVERD...\u001b[0m\n",
      "\u001b[92m25: Guess: $13.02 Truth: $16.99 Error: $3.97 SLE: 0.06 Item: Fun Express Insect F...\u001b[0m\n",
      "\u001b[92m26: Guess: $13.04 Truth: $7.99 Error: $5.05 SLE: 0.20 Item: WAFJAMF Roller Stamp...\u001b[0m\n",
      "\u001b[92m27: Guess: $232.25 Truth: $199.99 Error: $32.26 SLE: 0.02 Item: Capulina Tiffany Flo...\u001b[0m\n",
      "\u001b[92m28: Guess: $259.00 Truth: $251.45 Error: $7.55 SLE: 0.00 Item: Apple Watch Series 6...\u001b[0m\n",
      "\u001b[92m29: Guess: $205.25 Truth: $231.62 Error: $26.37 SLE: 0.01 Item: ICON 01725 Tandem Ax...\u001b[0m\n",
      "\u001b[92m30: Guess: $103.19 Truth: $135.00 Error: $31.81 SLE: 0.07 Item: SanDisk 128GB Ultra ...\u001b[0m\n",
      "\u001b[92m31: Guess: $391.00 Truth: $356.62 Error: $34.38 SLE: 0.01 Item: Velvac - 715427\n",
      "2020...\u001b[0m\n",
      "\u001b[92m32: Guess: $235.62 Truth: $257.99 Error: $22.37 SLE: 0.01 Item: TCMT Passenger Backr...\u001b[0m\n",
      "\u001b[92m33: Guess: $36.94 Truth: $27.99 Error: $8.95 SLE: 0.07 Item: Alnicov 63.5MM Brass...\u001b[0m\n",
      "\u001b[93m34: Guess: $115.38 Truth: $171.20 Error: $55.82 SLE: 0.15 Item: Subaru Forester Outb...\u001b[0m\n",
      "\u001b[91m35: Guess: $372.50 Truth: $225.00 Error: $147.50 SLE: 0.25 Item: Richmond Auto Uphols...\u001b[0m\n",
      "\u001b[92m36: Guess: $115.62 Truth: $105.00 Error: $10.62 SLE: 0.01 Item: AP-39 Automotive Pai...\u001b[0m\n",
      "\u001b[93m37: Guess: $363.75 Truth: $299.99 Error: $63.76 SLE: 0.04 Item: Road Top Wireless Ca...\u001b[0m\n",
      "\u001b[92m38: Guess: $572.00 Truth: $535.09 Error: $36.91 SLE: 0.00 Item: Gibson Performance E...\u001b[0m\n",
      "\u001b[92m39: Guess: $25.72 Truth: $12.33 Error: $13.39 SLE: 0.48 Item: Bella Tunno Happy Li...\u001b[0m\n",
      "\u001b[92m40: Guess: $87.69 Truth: $84.99 Error: $2.70 SLE: 0.00 Item: CANMORE H300 Handhel...\u001b[0m\n",
      "\u001b[92m41: Guess: $15.89 Truth: $15.99 Error: $0.10 SLE: 0.00 Item: DCPOWER AC Adapter C...\u001b[0m\n",
      "\u001b[92m42: Guess: $52.34 Truth: $62.44 Error: $10.10 SLE: 0.03 Item: Sharp, Commercial De...\u001b[0m\n",
      "\u001b[92m43: Guess: $94.25 Truth: $82.99 Error: $11.26 SLE: 0.02 Item: Melissa & Doug Lifel...\u001b[0m\n",
      "\u001b[91m44: Guess: $286.25 Truth: $599.95 Error: $313.70 SLE: 0.54 Item: Sony SSCS8 2-Way Cen...\u001b[0m\n",
      "\u001b[92m45: Guess: $207.62 Truth: $194.99 Error: $12.63 SLE: 0.00 Item: ASUS Chromebook CX1,...\u001b[0m\n",
      "\u001b[93m46: Guess: $430.25 Truth: $344.95 Error: $85.30 SLE: 0.05 Item: FiiO X7 32GB Hi-Res ...\u001b[0m\n",
      "\u001b[92m47: Guess: $49.19 Truth: $37.99 Error: $11.20 SLE: 0.06 Item: TORRO Leather Case C...\u001b[0m\n",
      "\u001b[92m48: Guess: $247.25 Truth: $224.35 Error: $22.90 SLE: 0.01 Item: Universal Air Condit...\u001b[0m\n",
      "\u001b[92m49: Guess: $741.00 Truth: $814.00 Error: $73.00 SLE: 0.01 Item: Street Series Stainl...\u001b[0m\n",
      "\u001b[92m50: Guess: $354.75 Truth: $439.88 Error: $85.13 SLE: 0.05 Item: Lenovo IdeaPad 3 Lap...\u001b[0m\n",
      "\u001b[92m51: Guess: $309.50 Truth: $341.43 Error: $31.93 SLE: 0.01 Item: Access Bed Covers To...\u001b[0m\n",
      "\u001b[92m52: Guess: $45.59 Truth: $46.78 Error: $1.19 SLE: 0.00 Item: G.I. JOE Hasbro 3 3/...\u001b[0m\n",
      "\u001b[92m53: Guess: $209.12 Truth: $171.44 Error: $37.69 SLE: 0.04 Item: T&S Brass Double Pan...\u001b[0m\n",
      "\u001b[91m54: Guess: $271.25 Truth: $458.00 Error: $186.75 SLE: 0.27 Item: ZTUOAUMA Fuel Inject...\u001b[0m\n",
      "\u001b[92m55: Guess: $156.38 Truth: $130.75 Error: $25.62 SLE: 0.03 Item: Hp Prime Graphing Ca...\u001b[0m\n",
      "\u001b[92m56: Guess: $55.69 Truth: $83.81 Error: $28.12 SLE: 0.16 Item: Lowrance Nmea 2000 2...\u001b[0m\n",
      "\u001b[93m57: Guess: $252.25 Truth: $386.39 Error: $134.14 SLE: 0.18 Item: Jeep Genuine Accesso...\u001b[0m\n",
      "\u001b[92m58: Guess: $165.75 Truth: $169.00 Error: $3.25 SLE: 0.00 Item: GODOX CB-06 Hard Car...\u001b[0m\n",
      "\u001b[92m59: Guess: $24.72 Truth: $17.95 Error: $6.77 SLE: 0.09 Item: Au-Tomotive Gold, IN...\u001b[0m\n",
      "\u001b[92m60: Guess: $289.50 Truth: $269.00 Error: $20.50 SLE: 0.01 Item: Snailfly Black Roof ...\u001b[0m\n",
      "\u001b[92m61: Guess: $75.31 Truth: $77.77 Error: $2.46 SLE: 0.00 Item: KING SHA Anti Glare ...\u001b[0m\n",
      "\u001b[92m62: Guess: $78.81 Truth: $88.99 Error: $10.18 SLE: 0.01 Item: APS Compatible with ...\u001b[0m\n",
      "\u001b[92m63: Guess: $309.50 Truth: $364.41 Error: $54.91 SLE: 0.03 Item: Wilwood Engineering ...\u001b[0m\n",
      "\u001b[92m64: Guess: $159.75 Truth: $127.03 Error: $32.72 SLE: 0.05 Item: ACDelco Gold Starter...\u001b[0m\n",
      "\u001b[92m65: Guess: $629.50 Truth: $778.95 Error: $149.45 SLE: 0.05 Item: UWS Matte Black Heav...\u001b[0m\n",
      "\u001b[92m66: Guess: $183.88 Truth: $206.66 Error: $22.78 SLE: 0.01 Item: Dell Latitude E5440 ...\u001b[0m\n",
      "\u001b[93m67: Guess: $104.94 Truth: $35.94 Error: $69.00 SLE: 1.11 Item: (Plug and Play) Spar...\u001b[0m\n",
      "\u001b[93m68: Guess: $224.50 Truth: $149.00 Error: $75.50 SLE: 0.17 Item: The Ultimate Roadsid...\u001b[0m\n",
      "\u001b[92m69: Guess: $216.75 Truth: $251.98 Error: $35.23 SLE: 0.02 Item: Brand New 18 x 8.5 R...\u001b[0m\n",
      "\u001b[92m70: Guess: $188.00 Truth: $160.00 Error: $28.00 SLE: 0.03 Item: Headlight Headlamp L...\u001b[0m\n",
      "\u001b[92m71: Guess: $37.38 Truth: $39.99 Error: $2.62 SLE: 0.00 Item: Lilo And Stitch Delu...\u001b[0m\n",
      "\u001b[92m72: Guess: $295.00 Truth: $362.41 Error: $67.41 SLE: 0.04 Item: AC Compressor & A/C ...\u001b[0m\n",
      "\u001b[91m73: Guess: $484.50 Truth: $344.00 Error: $140.50 SLE: 0.12 Item: House Of Troy Pinnac...\u001b[0m\n",
      "\u001b[92m74: Guess: $32.25 Truth: $25.09 Error: $7.16 SLE: 0.06 Item: Juno T29 WH Floating...\u001b[0m\n",
      "\u001b[91m75: Guess: $68.62 Truth: $175.95 Error: $107.32 SLE: 0.87 Item: Sherman GO-PARTS - f...\u001b[0m\n",
      "\u001b[91m76: Guess: $266.75 Truth: $132.64 Error: $134.11 SLE: 0.48 Item: Roland RPU-3 Electro...\u001b[0m\n",
      "\u001b[92m77: Guess: $340.00 Truth: $422.99 Error: $82.99 SLE: 0.05 Item: Rockland VMI14 12,00...\u001b[0m\n",
      "\u001b[92m78: Guess: $145.88 Truth: $146.48 Error: $0.60 SLE: 0.00 Item: Max Advanced Brakes ...\u001b[0m\n",
      "\u001b[92m79: Guess: $152.00 Truth: $156.83 Error: $4.83 SLE: 0.00 Item: Quality-Built 11030 ...\u001b[0m\n",
      "\u001b[91m80: Guess: $147.00 Truth: $251.99 Error: $104.99 SLE: 0.29 Item: Lucida LG-510 Studen...\u001b[0m\n",
      "\u001b[91m81: Guess: $165.00 Truth: $940.33 Error: $775.33 SLE: 3.01 Item: Longacre Aluminum Tu...\u001b[0m\n",
      "\u001b[93m82: Guess: $122.00 Truth: $52.99 Error: $69.01 SLE: 0.68 Item: Motion Pro Adjustabl...\u001b[0m\n",
      "\u001b[92m83: Guess: $260.00 Truth: $219.95 Error: $40.05 SLE: 0.03 Item: Glyph Thunderbolt 3 ...\u001b[0m\n",
      "\u001b[93m84: Guess: $295.75 Truth: $441.03 Error: $145.28 SLE: 0.16 Item: TOYO Open Country MT...\u001b[0m\n",
      "\u001b[92m85: Guess: $145.38 Truth: $168.98 Error: $23.60 SLE: 0.02 Item: Razer Seiren X USB S...\u001b[0m\n",
      "\u001b[92m86: Guess: $3.87 Truth: $2.49 Error: $1.38 SLE: 0.11 Item: Happy Birthday to Da...\u001b[0m\n",
      "\u001b[92m87: Guess: $111.00 Truth: $98.62 Error: $12.38 SLE: 0.01 Item: Little Tikes My Real...\u001b[0m\n",
      "\u001b[93m88: Guess: $328.00 Truth: $256.95 Error: $71.05 SLE: 0.06 Item: Studio M Peace and H...\u001b[0m\n",
      "\u001b[92m89: Guess: $19.09 Truth: $30.99 Error: $11.90 SLE: 0.22 Item: MyVolts 12V Power Su...\u001b[0m\n",
      "\u001b[92m90: Guess: $595.00 Truth: $569.84 Error: $25.16 SLE: 0.00 Item: Dell Latitude 7212 R...\u001b[0m\n",
      "\u001b[92m91: Guess: $188.50 Truth: $177.99 Error: $10.51 SLE: 0.00 Item: Covermates Contour F...\u001b[0m\n",
      "\u001b[92m92: Guess: $994.00 Truth: $997.99 Error: $3.99 SLE: 0.00 Item: Westin Black HDX Gri...\u001b[0m\n",
      "\u001b[93m93: Guess: $275.50 Truth: $219.00 Error: $56.50 SLE: 0.05 Item: Fieldpiece JL2 Job L...\u001b[0m\n",
      "\u001b[93m94: Guess: $168.62 Truth: $225.55 Error: $56.93 SLE: 0.08 Item: hansgrohe Talis S Mo...\u001b[0m\n",
      "\u001b[91m95: Guess: $717.00 Truth: $495.95 Error: $221.05 SLE: 0.14 Item: G-Technology G-SPEED...\u001b[0m\n",
      "\u001b[92m96: Guess: $892.00 Truth: $942.37 Error: $50.37 SLE: 0.00 Item: DreamLine Shower Doo...\u001b[0m\n",
      "\u001b[92m97: Guess: $20.70 Truth: $1.94 Error: $18.76 SLE: 4.00 Item: Sanctuary Square Bac...\u001b[0m\n",
      "\u001b[93m98: Guess: $223.75 Truth: $284.34 Error: $60.59 SLE: 0.06 Item: Pelican Protector 17...\u001b[0m\n",
      "\u001b[92m99: Guess: $158.88 Truth: $171.90 Error: $13.03 SLE: 0.01 Item: Brock Replacement Dr...\u001b[0m\n",
      "\u001b[91m100: Guess: $261.75 Truth: $144.99 Error: $116.76 SLE: 0.35 Item: Carlinkit Ai Box Min...\u001b[0m\n",
      "\u001b[93m101: Guess: $327.50 Truth: $470.47 Error: $142.97 SLE: 0.13 Item: StarDot YouTube Live...\u001b[0m\n",
      "\u001b[92m102: Guess: $52.97 Truth: $66.95 Error: $13.98 SLE: 0.05 Item: Atomic Compatible ME...\u001b[0m\n",
      "\u001b[92m103: Guess: $98.00 Truth: $117.00 Error: $19.00 SLE: 0.03 Item: Bandai Awakening of ...\u001b[0m\n",
      "\u001b[93m104: Guess: $250.00 Truth: $172.14 Error: $77.86 SLE: 0.14 Item: Fit System 62135G Pa...\u001b[0m\n",
      "\u001b[92m105: Guess: $396.50 Truth: $392.74 Error: $3.76 SLE: 0.00 Item: Black Horse Black Al...\u001b[0m\n",
      "\u001b[92m106: Guess: $18.23 Truth: $16.99 Error: $1.24 SLE: 0.00 Item: Dearsun Twinkle Star...\u001b[0m\n",
      "\u001b[92m107: Guess: $1.24 Truth: $1.34 Error: $0.10 SLE: 0.00 Item: Pokemon - Gallade Sp...\u001b[0m\n",
      "\u001b[93m108: Guess: $252.50 Truth: $349.98 Error: $97.48 SLE: 0.11 Item: Ibanez GIO Series Cl...\u001b[0m\n",
      "\u001b[93m109: Guess: $467.75 Truth: $370.71 Error: $97.04 SLE: 0.05 Item: Set 2 Heavy Duty 12 ...\u001b[0m\n",
      "\u001b[92m110: Guess: $94.38 Truth: $65.88 Error: $28.50 SLE: 0.13 Item: Hairpin Table Legs 2...\u001b[0m\n",
      "\u001b[92m111: Guess: $225.62 Truth: $229.99 Error: $4.37 SLE: 0.00 Item: Marada Racing Seat w...\u001b[0m\n",
      "\u001b[92m112: Guess: $8.05 Truth: $9.14 Error: $1.09 SLE: 0.01 Item: Remington Industries...\u001b[0m\n",
      "\u001b[91m113: Guess: $331.00 Truth: $199.00 Error: $132.00 SLE: 0.26 Item: Acer Ultrabook, Inte...\u001b[0m\n",
      "\u001b[91m114: Guess: $283.50 Truth: $109.99 Error: $173.51 SLE: 0.89 Item: ICBEAMER 7 RGB LED H...\u001b[0m\n",
      "\u001b[93m115: Guess: $433.50 Truth: $570.42 Error: $136.92 SLE: 0.08 Item: R1 Concepts Front Re...\u001b[0m\n",
      "\u001b[93m116: Guess: $179.00 Truth: $279.99 Error: $100.99 SLE: 0.20 Item: Camplux 2.64 GPM Tan...\u001b[0m\n",
      "\u001b[92m117: Guess: $29.20 Truth: $30.99 Error: $1.79 SLE: 0.00 Item: KNOKLOCK 10 Pack 3.7...\u001b[0m\n",
      "\u001b[92m118: Guess: $44.75 Truth: $31.99 Error: $12.76 SLE: 0.11 Item: Valley Enterprises Y...\u001b[0m\n",
      "\u001b[92m119: Guess: $40.62 Truth: $15.90 Error: $24.73 SLE: 0.81 Item: G9 LED Light 100W re...\u001b[0m\n",
      "\u001b[92m120: Guess: $72.12 Truth: $45.99 Error: $26.13 SLE: 0.20 Item: ZCHAOZ 4 Lights Anti...\u001b[0m\n",
      "\u001b[93m121: Guess: $187.25 Truth: $113.52 Error: $73.73 SLE: 0.25 Item: Honeywell Honeywell ...\u001b[0m\n",
      "\u001b[93m122: Guess: $332.50 Truth: $516.99 Error: $184.49 SLE: 0.19 Item: Patriot Exhaust 1-7/...\u001b[0m\n",
      "\u001b[91m123: Guess: $112.00 Truth: $196.99 Error: $84.99 SLE: 0.31 Item: Fitrite Autopart New...\u001b[0m\n",
      "\u001b[92m124: Guess: $22.20 Truth: $46.55 Error: $24.35 SLE: 0.51 Item: Technical Precision ...\u001b[0m\n",
      "\u001b[92m125: Guess: $331.00 Truth: $356.99 Error: $25.99 SLE: 0.01 Item: Covercraft Carhartt ...\u001b[0m\n",
      "\u001b[92m126: Guess: $348.75 Truth: $319.95 Error: $28.80 SLE: 0.01 Item: Sennheiser SD Pro 2 ...\u001b[0m\n",
      "\u001b[92m127: Guess: $89.81 Truth: $96.06 Error: $6.25 SLE: 0.00 Item: Hitachi Mass Air Flo...\u001b[0m\n",
      "\u001b[91m128: Guess: $281.50 Truth: $190.99 Error: $90.51 SLE: 0.15 Item: AmScope LED Cordless...\u001b[0m\n",
      "\u001b[93m129: Guess: $175.12 Truth: $257.95 Error: $82.82 SLE: 0.15 Item: Front Left Driver Si...\u001b[0m\n",
      "\u001b[92m130: Guess: $90.88 Truth: $62.95 Error: $27.92 SLE: 0.13 Item: Premium Replica Hubc...\u001b[0m\n",
      "\u001b[92m131: Guess: $85.50 Truth: $47.66 Error: $37.84 SLE: 0.33 Item: Excellerations Phoni...\u001b[0m\n",
      "\u001b[93m132: Guess: $167.50 Truth: $226.99 Error: $59.49 SLE: 0.09 Item: RC4WD BigDog Dual Ax...\u001b[0m\n",
      "\u001b[93m133: Guess: $276.50 Truth: $359.95 Error: $83.45 SLE: 0.07 Item: Unknown Stage 2 Clut...\u001b[0m\n",
      "\u001b[92m134: Guess: $91.38 Truth: $78.40 Error: $12.97 SLE: 0.02 Item: Dodge Ram 1500 Mopar...\u001b[0m\n",
      "\u001b[92m135: Guess: $165.00 Truth: $172.77 Error: $7.77 SLE: 0.00 Item: Pro Comp Alloys Seri...\u001b[0m\n",
      "\u001b[92m136: Guess: $316.25 Truth: $316.45 Error: $0.20 SLE: 0.00 Item: Detroit Axle - Front...\u001b[0m\n",
      "\u001b[92m137: Guess: $103.50 Truth: $87.99 Error: $15.51 SLE: 0.03 Item: ECCPP Rear Wheel Axl...\u001b[0m\n",
      "\u001b[93m138: Guess: $279.25 Truth: $226.63 Error: $52.62 SLE: 0.04 Item: Dell Latitude E6520 ...\u001b[0m\n",
      "\u001b[92m139: Guess: $28.31 Truth: $31.49 Error: $3.18 SLE: 0.01 Item: F FIERCE CYCLE 251pc...\u001b[0m\n",
      "\u001b[91m140: Guess: $289.75 Truth: $196.00 Error: $93.75 SLE: 0.15 Item: Flash Furniture 4 Pk...\u001b[0m\n",
      "\u001b[92m141: Guess: $58.22 Truth: $78.40 Error: $20.18 SLE: 0.09 Item: B&M 30287 Throttle V...\u001b[0m\n",
      "\u001b[92m142: Guess: $151.62 Truth: $116.25 Error: $35.38 SLE: 0.07 Item: Gates TCK226 PowerGr...\u001b[0m\n",
      "\u001b[92m143: Guess: $115.50 Truth: $112.78 Error: $2.72 SLE: 0.00 Item: Monroe Shocks & Stru...\u001b[0m\n",
      "\u001b[92m144: Guess: $63.50 Truth: $27.32 Error: $36.18 SLE: 0.68 Item: Feit Electric 35W EQ...\u001b[0m\n",
      "\u001b[93m145: Guess: $86.75 Truth: $145.91 Error: $59.16 SLE: 0.27 Item: Yellow Jacket 2806 C...\u001b[0m\n",
      "\u001b[91m146: Guess: $315.00 Truth: $171.09 Error: $143.91 SLE: 0.37 Item: Garage-Pro Tailgate ...\u001b[0m\n",
      "\u001b[93m147: Guess: $111.00 Truth: $167.95 Error: $56.95 SLE: 0.17 Item: 3M Perfect It Buffin...\u001b[0m\n",
      "\u001b[92m148: Guess: $45.44 Truth: $28.49 Error: $16.95 SLE: 0.21 Item: Chinese Style Dollho...\u001b[0m\n",
      "\u001b[92m149: Guess: $103.00 Truth: $122.23 Error: $19.23 SLE: 0.03 Item: Generic NRG Innovati...\u001b[0m\n",
      "\u001b[92m150: Guess: $54.25 Truth: $32.99 Error: $21.26 SLE: 0.24 Item: Learning Resources C...\u001b[0m\n",
      "\u001b[92m151: Guess: $45.19 Truth: $71.20 Error: $26.01 SLE: 0.20 Item: Bosch Automotive 154...\u001b[0m\n",
      "\u001b[93m152: Guess: $56.22 Truth: $112.75 Error: $56.53 SLE: 0.47 Item: Case of 24-2 Inch Bl...\u001b[0m\n",
      "\u001b[93m153: Guess: $96.88 Truth: $142.43 Error: $45.56 SLE: 0.15 Item: MOCA Engine Water Pu...\u001b[0m\n",
      "\u001b[93m154: Guess: $277.00 Truth: $398.99 Error: $121.99 SLE: 0.13 Item: SAREMAS Foot Step Ba...\u001b[0m\n",
      "\u001b[91m155: Guess: $712.00 Truth: $449.00 Error: $263.00 SLE: 0.21 Item: Gretsch G9210 Square...\u001b[0m\n",
      "\u001b[93m156: Guess: $129.88 Truth: $189.00 Error: $59.12 SLE: 0.14 Item: NikoMaku Mirror Dash...\u001b[0m\n",
      "\u001b[92m157: Guess: $107.62 Truth: $120.91 Error: $13.28 SLE: 0.01 Item: Fenix HP25R v2.0 USB...\u001b[0m\n",
      "\u001b[92m158: Guess: $184.25 Truth: $203.53 Error: $19.28 SLE: 0.01 Item: R&L Racing Heavy Dut...\u001b[0m\n",
      "\u001b[92m159: Guess: $368.25 Truth: $349.99 Error: $18.26 SLE: 0.00 Item: Garmin GPSMAP 64sx, ...\u001b[0m\n",
      "\u001b[92m160: Guess: $21.97 Truth: $34.35 Error: $12.38 SLE: 0.19 Item: Brown 5-7/8 X 8-1/2 ...\u001b[0m\n",
      "\u001b[93m161: Guess: $270.75 Truth: $384.99 Error: $114.24 SLE: 0.12 Item: GAOMON PD2200 Pen Di...\u001b[0m\n",
      "\u001b[93m162: Guess: $156.50 Truth: $211.00 Error: $54.50 SLE: 0.09 Item: VXMOTOR for 97-03 Fo...\u001b[0m\n",
      "\u001b[92m163: Guess: $155.25 Truth: $129.00 Error: $26.25 SLE: 0.03 Item: HP EliteBook 2540p I...\u001b[0m\n",
      "\u001b[91m164: Guess: $30.92 Truth: $111.45 Error: $80.53 SLE: 1.59 Item: Green EPX Mixing Noz...\u001b[0m\n",
      "\u001b[93m165: Guess: $30.47 Truth: $81.12 Error: $50.65 SLE: 0.92 Item: Box Partners 6 1/4 x...\u001b[0m\n",
      "\u001b[92m166: Guess: $372.00 Truth: $457.08 Error: $85.08 SLE: 0.04 Item: Vixen Air 1/2 NPT Ai...\u001b[0m\n",
      "\u001b[92m167: Guess: $69.31 Truth: $49.49 Error: $19.82 SLE: 0.11 Item: Smart Floor Lamp, Mu...\u001b[0m\n",
      "\u001b[92m168: Guess: $100.12 Truth: $80.56 Error: $19.56 SLE: 0.05 Item: SOZG 324mm Wheelbase...\u001b[0m\n",
      "\u001b[92m169: Guess: $272.75 Truth: $278.39 Error: $5.64 SLE: 0.00 Item: Mickey Thompson ET S...\u001b[0m\n",
      "\u001b[92m170: Guess: $373.75 Truth: $364.50 Error: $9.25 SLE: 0.00 Item: Pirelli 106W XL RFT ...\u001b[0m\n",
      "\u001b[93m171: Guess: $297.50 Truth: $378.99 Error: $81.49 SLE: 0.06 Item: Torklift C3212 Rear ...\u001b[0m\n",
      "\u001b[91m172: Guess: $293.50 Truth: $165.28 Error: $128.22 SLE: 0.33 Item: Cardone Remanufactur...\u001b[0m\n",
      "\u001b[92m173: Guess: $82.50 Truth: $56.74 Error: $25.76 SLE: 0.14 Item: Kidde AccessPoint 00...\u001b[0m\n",
      "\u001b[92m174: Guess: $304.00 Truth: $307.95 Error: $3.95 SLE: 0.00 Item: 3M Protecta Self Ret...\u001b[0m\n",
      "\u001b[92m175: Guess: $69.75 Truth: $38.00 Error: $31.75 SLE: 0.35 Item: Plantronics Wired He...\u001b[0m\n",
      "\u001b[91m176: Guess: $301.75 Truth: $53.00 Error: $248.75 SLE: 2.97 Item: Logitech K750 Wirele...\u001b[0m\n",
      "\u001b[92m177: Guess: $573.50 Truth: $498.00 Error: $75.50 SLE: 0.02 Item: Olympus PEN E-PL9 Bo...\u001b[0m\n",
      "\u001b[92m178: Guess: $90.81 Truth: $53.99 Error: $36.82 SLE: 0.26 Item: Beck/Arnley Hub & Be...\u001b[0m\n",
      "\u001b[92m179: Guess: $349.50 Truth: $350.00 Error: $0.50 SLE: 0.00 Item: Eibach Pro-Kit Perfo...\u001b[0m\n",
      "\u001b[93m180: Guess: $226.75 Truth: $299.95 Error: $73.20 SLE: 0.08 Item: LEGO DC Batman 1989 ...\u001b[0m\n",
      "\u001b[92m181: Guess: $84.44 Truth: $94.93 Error: $10.49 SLE: 0.01 Item: Kingston Brass Resto...\u001b[0m\n",
      "\u001b[92m182: Guess: $311.25 Truth: $379.00 Error: $67.75 SLE: 0.04 Item: Polk Vanishing Serie...\u001b[0m\n",
      "\u001b[92m183: Guess: $255.75 Truth: $299.95 Error: $44.20 SLE: 0.03 Item: Spec-D Tuning LED Pr...\u001b[0m\n",
      "\u001b[92m184: Guess: $22.80 Truth: $24.99 Error: $2.19 SLE: 0.01 Item: RICHMOND & FINCH Air...\u001b[0m\n",
      "\u001b[93m185: Guess: $90.56 Truth: $41.04 Error: $49.52 SLE: 0.61 Item: LFA Industries - mm ...\u001b[0m\n",
      "\u001b[91m186: Guess: $126.62 Truth: $327.90 Error: $201.27 SLE: 0.90 Item: SAUTVS LED Headlight...\u001b[0m\n",
      "\u001b[92m187: Guess: $27.00 Truth: $10.99 Error: $16.01 SLE: 0.72 Item: 2 Pack Combo Womens ...\u001b[0m\n",
      "\u001b[92m188: Guess: $15.12 Truth: $14.99 Error: $0.13 SLE: 0.00 Item: Arepa - Venezuelan c...\u001b[0m\n",
      "\u001b[93m189: Guess: $22.30 Truth: $84.95 Error: $62.65 SLE: 1.70 Item: Schlage Lock Company...\u001b[0m\n",
      "\u001b[92m190: Guess: $111.75 Truth: $111.00 Error: $0.75 SLE: 0.00 Item: Techni Mobili White ...\u001b[0m\n",
      "\u001b[93m191: Guess: $175.62 Truth: $123.73 Error: $51.89 SLE: 0.12 Item: Special Lite Product...\u001b[0m\n",
      "\u001b[91m192: Guess: $322.50 Truth: $557.38 Error: $234.88 SLE: 0.30 Item: Tascam Digital Porta...\u001b[0m\n",
      "\u001b[92m193: Guess: $103.44 Truth: $95.55 Error: $7.89 SLE: 0.01 Item: Glow Lighting Vista ...\u001b[0m\n",
      "\u001b[93m194: Guess: $106.06 Truth: $154.00 Error: $47.94 SLE: 0.14 Item: Z3 Wind Deflector, S...\u001b[0m\n",
      "\u001b[92m195: Guess: $200.00 Truth: $198.99 Error: $1.01 SLE: 0.00 Item: Olympus E-20 5MP Dig...\u001b[0m\n",
      "\u001b[91m196: Guess: $179.75 Truth: $430.44 Error: $250.69 SLE: 0.76 Item: PHYNEDI 1 1000 World...\u001b[0m\n",
      "\u001b[92m197: Guess: $20.42 Truth: $45.67 Error: $25.25 SLE: 0.61 Item: YANGHUAN Unstable Un...\u001b[0m\n",
      "\u001b[92m198: Guess: $272.00 Truth: $249.00 Error: $23.00 SLE: 0.01 Item: Interlogix NetworX T...\u001b[0m\n",
      "\u001b[92m199: Guess: $10.31 Truth: $42.99 Error: $32.68 SLE: 1.84 Item: Steering Damper,Univ...\u001b[0m\n",
      "\u001b[93m200: Guess: $114.25 Truth: $181.33 Error: $67.08 SLE: 0.21 Item: Amprobe TIC 410A Hot...\u001b[0m\n"
     ]
    },
    {
     "data": {
      "image/png": "[encoded data removed]",
      "text/plain": [
       "<Figure size 1200x800 with 1 Axes>"
      ]
     },
     "metadata": {},
     "output_type": "display_data"
    },
    {
     "name": "stdout",
     "output_type": "stream",
     "text": [
      "{'avg_error': 54.464722070312526, 'rmsle': 0.46026090647832746, 'hits_percent': 65.0}\n"
     ]
    }
   ],
   "source": [
    "results = llama_evaluation(\"/home/lisa/Arupreza/ShopAI/price_llama_lora/checkpoint-20000\", test_amount=200)\n",
    "print(results)"
   ]
  },
  {
   "cell_type": "code",
   "execution_count": null,
   "id": "1b641e3f",
   "metadata": {},
   "outputs": [],
   "source": []
  },
  {
   "cell_type": "code",
   "execution_count": null,
   "id": "141abf9f",
   "metadata": {},
   "outputs": [],
   "source": []
  },
  {
   "cell_type": "code",
   "execution_count": null,
   "id": "5b32ffd2",
   "metadata": {},
   "outputs": [],
   "source": []
  },
  {
   "cell_type": "code",
   "execution_count": null,
   "id": "0cea023d",
   "metadata": {},
   "outputs": [],
   "source": []
  },
  {
   "cell_type": "code",
   "execution_count": null,
   "id": "ecc81d6d",
   "metadata": {},
   "outputs": [],
   "source": []
  },
  {
   "cell_type": "code",
   "execution_count": null,
   "id": "bfbed3d7",
   "metadata": {},
   "outputs": [
    {
     "name": "stderr",
     "output_type": "stream",
     "text": [
      "Note: Environment variable`HF_TOKEN` is set and is the current active token independently from the token you've just configured.\n",
      "\u001b[34m\u001b[1mwandb\u001b[0m: \u001b[33mWARNING\u001b[0m If you're specifying your api key in code, ensure this code is not shared publicly.\n",
      "\u001b[34m\u001b[1mwandb\u001b[0m: \u001b[33mWARNING\u001b[0m Consider setting the WANDB_API_KEY environment variable, or running `wandb login` from the command line.\n",
      "\u001b[34m\u001b[1mwandb\u001b[0m: Appending key for api.wandb.ai to your netrc file: /home/lisa/.netrc\n",
      "\u001b[34m\u001b[1mwandb\u001b[0m: Currently logged in as: \u001b[33marupreza\u001b[0m (\u001b[33marupreza-soonchunhyang-university\u001b[0m) to \u001b[32mhttps://api.wandb.ai\u001b[0m. Use \u001b[1m`wandb login --relogin`\u001b[0m to force relogin\n"
     ]
    },
    {
     "data": {
      "application/vnd.jupyter.widget-view+json": {
       "model_id": "91299c4ef99f4cb6a79924a5d9a27910",
       "version_major": 2,
       "version_minor": 0
      },
      "text/plain": [
       "Loading checkpoint shards:   0%|          | 0/5 [00:00<?, ?it/s]"
      ]
     },
     "metadata": {},
     "output_type": "display_data"
    },
    {
     "name": "stdout",
     "output_type": "stream",
     "text": [
      "Memory footprint: 5962.8 MB\n"
     ]
    },
    {
     "name": "stderr",
     "output_type": "stream",
     "text": [
      "The tokenizer has new PAD/BOS/EOS tokens that differ from the model config and generation config. The model config and generation config were aligned accordingly, being updated with the tokenizer's values. Updated tokens: {'bos_token_id': None, 'pad_token_id': 151643}.\n"
     ]
    },
    {
     "data": {
      "text/html": [
       "creating run (0.2s)"
      ],
      "text/plain": [
       "<IPython.core.display.HTML object>"
      ]
     },
     "metadata": {},
     "output_type": "display_data"
    },
    {
     "data": {
      "text/html": [
       "Tracking run with wandb version 0.21.3"
      ],
      "text/plain": [
       "<IPython.core.display.HTML object>"
      ]
     },
     "metadata": {},
     "output_type": "display_data"
    },
    {
     "data": {
      "text/html": [
       "Run data is saved locally in <code>/home/lisa/Arupreza/ShopAI/wandb/run-20250914_140126-czn5qx6a</code>"
      ],
      "text/plain": [
       "<IPython.core.display.HTML object>"
      ]
     },
     "metadata": {},
     "output_type": "display_data"
    },
    {
     "data": {
      "text/html": [
       "Syncing run <strong><a href='https://wandb.ai/arupreza-soonchunhyang-university/huggingface/runs/czn5qx6a' target=\"_blank\">trial_1</a></strong> to <a href='https://wandb.ai/arupreza-soonchunhyang-university/huggingface' target=\"_blank\">Weights & Biases</a> (<a href='https://wandb.me/developer-guide' target=\"_blank\">docs</a>)<br>"
      ],
      "text/plain": [
       "<IPython.core.display.HTML object>"
      ]
     },
     "metadata": {},
     "output_type": "display_data"
    },
    {
     "data": {
      "text/html": [
       " View project at <a href='https://wandb.ai/arupreza-soonchunhyang-university/huggingface' target=\"_blank\">https://wandb.ai/arupreza-soonchunhyang-university/huggingface</a>"
      ],
      "text/plain": [
       "<IPython.core.display.HTML object>"
      ]
     },
     "metadata": {},
     "output_type": "display_data"
    },
    {
     "data": {
      "text/html": [
       " View run at <a href='https://wandb.ai/arupreza-soonchunhyang-university/huggingface/runs/czn5qx6a' target=\"_blank\">https://wandb.ai/arupreza-soonchunhyang-university/huggingface/runs/czn5qx6a</a>"
      ],
      "text/plain": [
       "<IPython.core.display.HTML object>"
      ]
     },
     "metadata": {},
     "output_type": "display_data"
    },
    {
     "data": {
      "text/html": [
       "\n",
       "    <div>\n",
       "      \n",
       "      <progress value='54' max='20835' style='width:300px; height:20px; vertical-align: middle;'></progress>\n",
       "      [   54/20835 02:58 < 19:48:35, 0.29 it/s, Epoch 0.01/5]\n",
       "    </div>\n",
       "    <table border=\"1\" class=\"dataframe\">\n",
       "  <thead>\n",
       " <tr style=\"text-align: left;\">\n",
       "      <th>Step</th>\n",
       "      <th>Training Loss</th>\n",
       "      <th>Validation Loss</th>\n",
       "    </tr>\n",
       "  </thead>\n",
       "  <tbody>\n",
       "  </tbody>\n",
       "</table><p>"
      ],
      "text/plain": [
       "<IPython.core.display.HTML object>"
      ]
     },
     "metadata": {},
     "output_type": "display_data"
    }
   ],
   "source": [
    "from model_src.qwen_3_8_b_fine_tune import train_sft\n",
    "\n",
    "trainer, model, tokenizer, ds = train_sft(\n",
    "    hf_user=\"Arupreza\",\n",
    "    dataset_name=\"ed-donner/pricer-data\",\n",
    "    base_model=\"Qwen/Qwen3-8B\",     # ✅ dense version\n",
    "    project_name=\"price_qwen_lora\",\n",
    "    log_to_wandb=True,\n",
    "    epochs=5,\n",
    "    batch_size=12,\n",
    "    grad_accum=2,\n",
    "    save_steps=1000,\n",
    "    run_name=\"trial_1\",\n",
    "    push_to_hub=False,\n",
    "    train_size=100000,\n",
    "    eval_size=1000\n",
    ")"
   ]
  },
  {
   "cell_type": "code",
   "execution_count": null,
   "id": "2423b5d9",
   "metadata": {},
   "outputs": [],
   "source": []
  },
  {
   "cell_type": "code",
   "execution_count": 1,
   "id": "da5ed36f",
   "metadata": {},
   "outputs": [
    {
     "data": {
      "application/vnd.jupyter.widget-view+json": {
       "model_id": "23ba2d06cabb4941a4670988917e26c5",
       "version_major": 2,
       "version_minor": 0
      },
      "text/plain": [
       "Loading checkpoint shards:   0%|          | 0/5 [00:00<?, ?it/s]"
      ]
     },
     "metadata": {},
     "output_type": "display_data"
    },
    {
     "name": "stdout",
     "output_type": "stream",
     "text": [
      "Memory footprint: 6137.4 MB\n",
      "\u001b[91m1: Guess: $1.86 Truth: $374.41 Error: $372.55 SLE: 23.78 Item: OEM AC Compressor w/...\u001b[0m\n",
      "\u001b[91m2: Guess: $1.79 Truth: $225.11 Error: $223.32 SLE: 19.31 Item: Motorcraft YB3125 Fa...\u001b[0m\n",
      "\u001b[93m3: Guess: $2.48 Truth: $61.68 Error: $59.20 SLE: 8.36 Item: Dorman Front Washer ...\u001b[0m\n",
      "\u001b[91m4: Guess: $2.05 Truth: $599.99 Error: $597.94 SLE: 27.92 Item: HP Premium HD Plus T...\u001b[0m\n",
      "\u001b[92m5: Guess: $1.93 Truth: $16.99 Error: $15.06 SLE: 3.29 Item: Super Switch Pickup ...\u001b[0m\n",
      "\u001b[92m6: Guess: $1.79 Truth: $31.99 Error: $30.20 SLE: 6.10 Item: Horror Bookmarks, Re...\u001b[0m\n",
      "\u001b[91m7: Guess: $1.96 Truth: $101.79 Error: $99.83 SLE: 12.59 Item: SK6241 - Stinger 4 G...\u001b[0m\n",
      "\u001b[91m8: Guess: $2.05 Truth: $289.00 Error: $286.95 SLE: 20.74 Item: Godox ML60Bi LED Lig...\u001b[0m\n",
      "\u001b[91m9: Guess: $3.95 Truth: $635.86 Error: $631.91 SLE: 23.58 Item: Randall G3 Plus Comb...\u001b[0m\n",
      "\u001b[93m10: Guess: $2.68 Truth: $65.99 Error: $63.31 SLE: 8.42 Item: HOLDWILL 6 Pack LED ...\u001b[0m\n",
      "\u001b[91m11: Guess: $1.95 Truth: $254.21 Error: $252.26 SLE: 19.91 Item: Viking Horns 3 Gallo...\u001b[0m\n",
      "\u001b[91m12: Guess: $1.92 Truth: $412.99 Error: $411.07 SLE: 24.56 Item: CURT 70110 Custom To...\u001b[0m\n",
      "\u001b[91m13: Guess: $1.82 Truth: $205.50 Error: $203.68 SLE: 18.45 Item: Solar HAMMERED BRONZ...\u001b[0m\n",
      "\u001b[91m14: Guess: $1.60 Truth: $248.23 Error: $246.63 SLE: 20.82 Item: COSTWAY Electric Tum...\u001b[0m\n",
      "\u001b[91m15: Guess: $2.05 Truth: $399.00 Error: $396.95 SLE: 23.77 Item: FREE SIGNAL TV Trans...\u001b[0m\n",
      "\u001b[91m16: Guess: $2.93 Truth: $373.94 Error: $371.01 SLE: 20.78 Item: Bilstein 5100 Monotu...\u001b[0m\n",
      "\u001b[91m17: Guess: $1.45 Truth: $92.89 Error: $91.44 SLE: 13.28 Item: Sangean K-200 Multi-...\u001b[0m\n",
      "\u001b[93m18: Guess: $1.92 Truth: $51.99 Error: $50.07 SLE: 8.40 Item: Charles Leonard Magn...\u001b[0m\n",
      "\u001b[91m19: Guess: $1.74 Truth: $179.00 Error: $177.26 SLE: 17.52 Item: Gigabyte AMD Radeon ...\u001b[0m\n",
      "\u001b[92m20: Guess: $1.98 Truth: $19.42 Error: $17.44 SLE: 3.70 Item: 3dRose LLC 8 x 8 x 0...\u001b[0m\n",
      "\u001b[91m21: Guess: $5.02 Truth: $539.95 Error: $534.93 SLE: 20.24 Item: ROKINON 85mm F1.4 Au...\u001b[0m\n",
      "\u001b[91m22: Guess: $2.08 Truth: $147.67 Error: $145.59 SLE: 15.04 Item: Headlight Assembly C...\u001b[0m\n",
      "\u001b[92m23: Guess: $1.76 Truth: $24.99 Error: $23.23 SLE: 5.02 Item: ASI NAUTICAL 2.5 Inc...\u001b[0m\n",
      "\u001b[91m24: Guess: $1.97 Truth: $149.00 Error: $147.03 SLE: 15.38 Item: Behringer TUBE OVERD...\u001b[0m\n",
      "\u001b[92m25: Guess: $1.47 Truth: $16.99 Error: $15.52 SLE: 3.94 Item: Fun Express Insect F...\u001b[0m\n",
      "\u001b[92m26: Guess: $1.49 Truth: $7.99 Error: $6.50 SLE: 1.65 Item: WAFJAMF Roller Stamp...\u001b[0m\n",
      "\u001b[91m27: Guess: $1.76 Truth: $199.99 Error: $198.23 SLE: 18.38 Item: Capulina Tiffany Flo...\u001b[0m\n",
      "\u001b[91m28: Guess: $1.94 Truth: $251.45 Error: $249.51 SLE: 19.84 Item: Apple Watch Series 6...\u001b[0m\n",
      "\u001b[91m29: Guess: $1.52 Truth: $231.62 Error: $230.10 SLE: 20.47 Item: ICON 01725 Tandem Ax...\u001b[0m\n",
      "\u001b[91m30: Guess: $1.93 Truth: $135.00 Error: $133.07 SLE: 14.73 Item: SanDisk 128GB Ultra ...\u001b[0m\n",
      "\u001b[91m31: Guess: $2.90 Truth: $356.62 Error: $353.72 SLE: 20.42 Item: Velvac - 715427\n",
      "2020...\u001b[0m\n",
      "\u001b[91m32: Guess: $1.85 Truth: $257.99 Error: $256.14 SLE: 20.34 Item: TCMT Passenger Backr...\u001b[0m\n",
      "\u001b[92m33: Guess: $1.92 Truth: $27.99 Error: $26.07 SLE: 5.26 Item: Alnicov 63.5MM Brass...\u001b[0m\n",
      "\u001b[91m34: Guess: $2.10 Truth: $171.20 Error: $169.10 SLE: 16.13 Item: Subaru Forester Outb...\u001b[0m\n",
      "\u001b[91m35: Guess: $2.86 Truth: $225.00 Error: $222.14 SLE: 16.57 Item: Richmond Auto Uphols...\u001b[0m\n",
      "\u001b[91m36: Guess: $1.87 Truth: $105.00 Error: $103.13 SLE: 13.02 Item: AP-39 Automotive Pai...\u001b[0m\n",
      "\u001b[91m37: Guess: $1.72 Truth: $299.99 Error: $298.27 SLE: 22.16 Item: Road Top Wireless Ca...\u001b[0m\n",
      "\u001b[91m38: Guess: $4.02 Truth: $535.09 Error: $531.07 SLE: 21.82 Item: Gibson Performance E...\u001b[0m\n",
      "\u001b[92m39: Guess: $1.77 Truth: $12.33 Error: $10.56 SLE: 2.47 Item: Bella Tunno Happy Li...\u001b[0m\n",
      "\u001b[91m40: Guess: $1.48 Truth: $84.99 Error: $83.51 SLE: 12.58 Item: CANMORE H300 Handhel...\u001b[0m\n",
      "\u001b[92m41: Guess: $1.71 Truth: $15.99 Error: $14.28 SLE: 3.37 Item: DCPOWER AC Adapter C...\u001b[0m\n",
      "\u001b[93m42: Guess: $1.87 Truth: $62.44 Error: $60.57 SLE: 9.58 Item: Sharp, Commercial De...\u001b[0m\n",
      "\u001b[93m43: Guess: $3.40 Truth: $82.99 Error: $79.59 SLE: 8.69 Item: Melissa & Doug Lifel...\u001b[0m\n",
      "\u001b[91m44: Guess: $2.04 Truth: $599.95 Error: $597.91 SLE: 27.94 Item: Sony SSCS8 2-Way Cen...\u001b[0m\n",
      "\u001b[91m45: Guess: $1.83 Truth: $194.99 Error: $193.16 SLE: 17.95 Item: ASUS Chromebook CX1,...\u001b[0m\n",
      "\u001b[91m46: Guess: $1.88 Truth: $344.95 Error: $343.07 SLE: 22.94 Item: FiiO X7 32GB Hi-Res ...\u001b[0m\n",
      "\u001b[92m47: Guess: $2.05 Truth: $37.99 Error: $35.94 SLE: 6.49 Item: TORRO Leather Case C...\u001b[0m\n",
      "\u001b[91m48: Guess: $1.76 Truth: $224.35 Error: $222.59 SLE: 19.39 Item: Universal Air Condit...\u001b[0m\n",
      "\u001b[91m49: Guess: $3.99 Truth: $814.00 Error: $810.01 SLE: 25.97 Item: Street Series Stainl...\u001b[0m\n",
      "\u001b[91m50: Guess: $2.08 Truth: $439.88 Error: $437.80 SLE: 24.63 Item: Lenovo IdeaPad 3 Lap...\u001b[0m\n",
      "\u001b[91m51: Guess: $2.06 Truth: $341.43 Error: $339.37 SLE: 22.27 Item: Access Bed Covers To...\u001b[0m\n",
      "\u001b[93m52: Guess: $1.76 Truth: $46.78 Error: $45.02 SLE: 8.13 Item: G.I. JOE Hasbro 3 3/...\u001b[0m\n",
      "\u001b[91m53: Guess: $1.55 Truth: $171.44 Error: $169.89 SLE: 17.75 Item: T&S Brass Double Pan...\u001b[0m\n",
      "\u001b[91m54: Guess: $1.86 Truth: $458.00 Error: $456.14 SLE: 25.80 Item: ZTUOAUMA Fuel Inject...\u001b[0m\n",
      "\u001b[91m55: Guess: $1.55 Truth: $130.75 Error: $129.20 SLE: 15.56 Item: Hp Prime Graphing Ca...\u001b[0m\n",
      "\u001b[91m56: Guess: $1.63 Truth: $83.81 Error: $82.18 SLE: 12.06 Item: Lowrance Nmea 2000 2...\u001b[0m\n",
      "\u001b[91m57: Guess: $2.02 Truth: $386.39 Error: $384.37 SLE: 23.57 Item: Jeep Genuine Accesso...\u001b[0m\n",
      "\u001b[91m58: Guess: $1.56 Truth: $169.00 Error: $167.44 SLE: 17.60 Item: GODOX CB-06 Hard Car...\u001b[0m\n",
      "\u001b[92m59: Guess: $2.02 Truth: $17.95 Error: $15.93 SLE: 3.38 Item: Au-Tomotive Gold, IN...\u001b[0m\n",
      "\u001b[91m60: Guess: $1.97 Truth: $269.00 Error: $267.03 SLE: 20.33 Item: Snailfly Black Roof ...\u001b[0m\n",
      "\u001b[93m61: Guess: $1.64 Truth: $77.77 Error: $76.13 SLE: 11.53 Item: KING SHA Anti Glare ...\u001b[0m\n",
      "\u001b[91m62: Guess: $1.71 Truth: $88.99 Error: $87.28 SLE: 12.28 Item: APS Compatible with ...\u001b[0m\n",
      "\u001b[91m63: Guess: $1.96 Truth: $364.41 Error: $362.45 SLE: 23.19 Item: Wilwood Engineering ...\u001b[0m\n",
      "\u001b[91m64: Guess: $1.89 Truth: $127.03 Error: $125.14 SLE: 14.36 Item: ACDelco Gold Starter...\u001b[0m\n",
      "\u001b[91m65: Guess: $2.94 Truth: $778.95 Error: $776.01 SLE: 27.95 Item: UWS Matte Black Heav...\u001b[0m\n",
      "\u001b[91m66: Guess: $2.05 Truth: $206.66 Error: $204.61 SLE: 17.82 Item: Dell Latitude E5440 ...\u001b[0m\n",
      "\u001b[92m67: Guess: $2.81 Truth: $35.94 Error: $33.13 SLE: 5.16 Item: (Plug and Play) Spar...\u001b[0m\n",
      "\u001b[91m68: Guess: $1.62 Truth: $149.00 Error: $147.38 SLE: 16.38 Item: The Ultimate Roadsid...\u001b[0m\n",
      "\u001b[91m69: Guess: $2.05 Truth: $251.98 Error: $249.93 SLE: 19.52 Item: Brand New 18 x 8.5 R...\u001b[0m\n",
      "\u001b[91m70: Guess: $1.45 Truth: $160.00 Error: $158.55 SLE: 17.52 Item: Headlight Headlamp L...\u001b[0m\n",
      "\u001b[92m71: Guess: $2.07 Truth: $39.99 Error: $37.92 SLE: 6.72 Item: Lilo And Stitch Delu...\u001b[0m\n",
      "\u001b[91m72: Guess: $1.50 Truth: $362.41 Error: $360.91 SLE: 24.78 Item: AC Compressor & A/C ...\u001b[0m\n",
      "\u001b[91m73: Guess: $1.58 Truth: $344.00 Error: $342.42 SLE: 23.98 Item: House Of Troy Pinnac...\u001b[0m\n",
      "\u001b[92m74: Guess: $1.58 Truth: $25.09 Error: $23.51 SLE: 5.35 Item: Juno T29 WH Floating...\u001b[0m\n",
      "\u001b[91m75: Guess: $1.82 Truth: $175.95 Error: $174.13 SLE: 17.14 Item: Sherman GO-PARTS - f...\u001b[0m\n",
      "\u001b[91m76: Guess: $1.73 Truth: $132.64 Error: $130.91 SLE: 15.14 Item: Roland RPU-3 Electro...\u001b[0m\n",
      "\u001b[91m77: Guess: $2.07 Truth: $422.99 Error: $420.92 SLE: 24.27 Item: Rockland VMI14 12,00...\u001b[0m\n",
      "\u001b[91m78: Guess: $1.47 Truth: $146.48 Error: $145.01 SLE: 16.71 Item: Max Advanced Brakes ...\u001b[0m\n",
      "\u001b[91m79: Guess: $1.42 Truth: $156.83 Error: $155.41 SLE: 17.46 Item: Quality-Built 11030 ...\u001b[0m\n",
      "\u001b[91m80: Guess: $1.62 Truth: $251.99 Error: $250.37 SLE: 20.88 Item: Lucida LG-510 Studen...\u001b[0m\n",
      "\u001b[91m81: Guess: $1.59 Truth: $940.33 Error: $938.74 SLE: 34.77 Item: Longacre Aluminum Tu...\u001b[0m\n",
      "\u001b[93m82: Guess: $1.87 Truth: $52.99 Error: $51.12 SLE: 8.60 Item: Motion Pro Adjustabl...\u001b[0m\n",
      "\u001b[91m83: Guess: $1.66 Truth: $219.95 Error: $218.29 SLE: 19.54 Item: Glyph Thunderbolt 3 ...\u001b[0m\n",
      "\u001b[91m84: Guess: $2.12 Truth: $441.03 Error: $438.91 SLE: 24.53 Item: TOYO Open Country MT...\u001b[0m\n",
      "\u001b[91m85: Guess: $1.66 Truth: $168.98 Error: $167.32 SLE: 17.30 Item: Razer Seiren X USB S...\u001b[0m\n",
      "\u001b[92m86: Guess: $2.04 Truth: $2.49 Error: $0.45 SLE: 0.02 Item: Happy Birthday to Da...\u001b[0m\n",
      "\u001b[91m87: Guess: $2.01 Truth: $98.62 Error: $96.61 SLE: 12.26 Item: Little Tikes My Real...\u001b[0m\n",
      "\u001b[91m88: Guess: $1.72 Truth: $256.95 Error: $255.23 SLE: 20.71 Item: Studio M Peace and H...\u001b[0m\n",
      "\u001b[92m89: Guess: $1.94 Truth: $30.99 Error: $29.05 SLE: 5.69 Item: MyVolts 12V Power Su...\u001b[0m\n",
      "\u001b[91m90: Guess: $3.95 Truth: $569.84 Error: $565.89 SLE: 22.55 Item: Dell Latitude 7212 R...\u001b[0m\n",
      "\u001b[91m91: Guess: $2.16 Truth: $177.99 Error: $175.83 SLE: 16.31 Item: Covermates Contour F...\u001b[0m\n",
      "\u001b[91m92: Guess: $3.10 Truth: $997.99 Error: $994.89 SLE: 30.20 Item: Westin Black HDX Gri...\u001b[0m\n",
      "\u001b[91m93: Guess: $1.83 Truth: $219.00 Error: $217.17 SLE: 18.94 Item: Fieldpiece JL2 Job L...\u001b[0m\n",
      "\u001b[91m94: Guess: $1.72 Truth: $225.55 Error: $223.83 SLE: 19.55 Item: hansgrohe Talis S Mo...\u001b[0m\n",
      "\u001b[91m95: Guess: $1.84 Truth: $495.95 Error: $494.11 SLE: 26.68 Item: G-Technology G-SPEED...\u001b[0m\n",
      "\u001b[91m96: Guess: $3.96 Truth: $942.37 Error: $938.41 SLE: 27.54 Item: DreamLine Shower Doo...\u001b[0m\n",
      "\u001b[92m97: Guess: $1.65 Truth: $1.94 Error: $0.29 SLE: 0.01 Item: Sanctuary Square Bac...\u001b[0m\n",
      "\u001b[91m98: Guess: $2.08 Truth: $284.34 Error: $282.26 SLE: 20.51 Item: Pelican Protector 17...\u001b[0m\n",
      "\u001b[91m99: Guess: $1.56 Truth: $171.90 Error: $170.34 SLE: 17.74 Item: Brock Replacement Dr...\u001b[0m\n",
      "\u001b[91m100: Guess: $1.46 Truth: $144.99 Error: $143.53 SLE: 16.66 Item: Carlinkit Ai Box Min...\u001b[0m\n",
      "\u001b[91m101: Guess: $1.78 Truth: $470.47 Error: $468.69 SLE: 26.35 Item: StarDot YouTube Live...\u001b[0m\n",
      "\u001b[93m102: Guess: $1.89 Truth: $66.95 Error: $65.06 SLE: 9.98 Item: Atomic Compatible ME...\u001b[0m\n",
      "\u001b[91m103: Guess: $1.92 Truth: $117.00 Error: $115.08 SLE: 13.69 Item: Bandai Awakening of ...\u001b[0m\n",
      "\u001b[91m104: Guess: $1.57 Truth: $172.14 Error: $170.57 SLE: 17.72 Item: Fit System 62135G Pa...\u001b[0m\n",
      "\u001b[91m105: Guess: $1.91 Truth: $392.74 Error: $390.83 SLE: 24.08 Item: Black Horse Black Al...\u001b[0m\n",
      "\u001b[92m106: Guess: $1.63 Truth: $16.99 Error: $15.36 SLE: 3.70 Item: Dearsun Twinkle Star...\u001b[0m\n",
      "\u001b[92m107: Guess: $1.32 Truth: $1.34 Error: $0.02 SLE: 0.00 Item: Pokemon - Gallade Sp...\u001b[0m\n",
      "\u001b[91m108: Guess: $1.76 Truth: $349.98 Error: $348.22 SLE: 23.47 Item: Ibanez GIO Series Cl...\u001b[0m\n",
      "\u001b[91m109: Guess: $1.85 Truth: $370.71 Error: $368.86 SLE: 23.72 Item: Set 2 Heavy Duty 12 ...\u001b[0m\n",
      "\u001b[93m110: Guess: $3.20 Truth: $65.88 Error: $62.68 SLE: 7.66 Item: Hairpin Table Legs 2...\u001b[0m\n",
      "\u001b[91m111: Guess: $1.87 Truth: $229.99 Error: $228.12 SLE: 19.26 Item: Marada Racing Seat w...\u001b[0m\n",
      "\u001b[92m112: Guess: $1.57 Truth: $9.14 Error: $7.57 SLE: 1.89 Item: Remington Industries...\u001b[0m\n",
      "\u001b[91m113: Guess: $2.93 Truth: $199.00 Error: $196.07 SLE: 15.45 Item: Acer Ultrabook, Inte...\u001b[0m\n",
      "\u001b[91m114: Guess: $1.53 Truth: $109.99 Error: $108.46 SLE: 14.30 Item: ICBEAMER 7 RGB LED H...\u001b[0m\n",
      "\u001b[91m115: Guess: $2.67 Truth: $570.42 Error: $567.75 SLE: 25.49 Item: R1 Concepts Front Re...\u001b[0m\n",
      "\u001b[91m116: Guess: $1.98 Truth: $279.99 Error: $278.01 SLE: 20.67 Item: Camplux 2.64 GPM Tan...\u001b[0m\n",
      "\u001b[92m117: Guess: $1.73 Truth: $30.99 Error: $29.26 SLE: 6.05 Item: KNOKLOCK 10 Pack 3.7...\u001b[0m\n",
      "\u001b[92m118: Guess: $1.85 Truth: $31.99 Error: $30.14 SLE: 6.00 Item: Valley Enterprises Y...\u001b[0m\n",
      "\u001b[92m119: Guess: $1.77 Truth: $15.90 Error: $14.13 SLE: 3.27 Item: G9 LED Light 100W re...\u001b[0m\n",
      "\u001b[93m120: Guess: $2.99 Truth: $45.99 Error: $43.00 SLE: 6.08 Item: ZCHAOZ 4 Lights Anti...\u001b[0m\n",
      "\u001b[91m121: Guess: $1.58 Truth: $113.52 Error: $111.94 SLE: 14.40 Item: Honeywell Honeywell ...\u001b[0m\n",
      "\u001b[91m122: Guess: $2.94 Truth: $516.99 Error: $514.05 SLE: 23.79 Item: Patriot Exhaust 1-7/...\u001b[0m\n",
      "\u001b[91m123: Guess: $1.68 Truth: $196.99 Error: $195.31 SLE: 18.53 Item: Fitrite Autopart New...\u001b[0m\n",
      "\u001b[93m124: Guess: $1.62 Truth: $46.55 Error: $44.93 SLE: 8.40 Item: Technical Precision ...\u001b[0m\n",
      "\u001b[91m125: Guess: $1.72 Truth: $356.99 Error: $355.27 SLE: 23.82 Item: Covercraft Carhartt ...\u001b[0m\n",
      "\u001b[91m126: Guess: $1.77 Truth: $319.95 Error: $318.18 SLE: 22.59 Item: Sennheiser SD Pro 2 ...\u001b[0m\n",
      "\u001b[91m127: Guess: $1.50 Truth: $96.06 Error: $94.56 SLE: 13.40 Item: Hitachi Mass Air Flo...\u001b[0m\n",
      "\u001b[91m128: Guess: $1.94 Truth: $190.99 Error: $189.05 SLE: 17.47 Item: AmScope LED Cordless...\u001b[0m\n",
      "\u001b[91m129: Guess: $1.98 Truth: $257.95 Error: $255.97 SLE: 19.93 Item: Front Left Driver Si...\u001b[0m\n",
      "\u001b[93m130: Guess: $2.03 Truth: $62.95 Error: $60.92 SLE: 9.30 Item: Premium Replica Hubc...\u001b[0m\n",
      "\u001b[93m131: Guess: $2.00 Truth: $47.66 Error: $45.66 SLE: 7.76 Item: Excellerations Phoni...\u001b[0m\n",
      "\u001b[91m132: Guess: $1.83 Truth: $226.99 Error: $225.16 SLE: 19.26 Item: RC4WD BigDog Dual Ax...\u001b[0m\n",
      "\u001b[91m133: Guess: $2.11 Truth: $359.95 Error: $357.84 SLE: 22.60 Item: Unknown Stage 2 Clut...\u001b[0m\n",
      "\u001b[93m134: Guess: $1.71 Truth: $78.40 Error: $76.69 SLE: 11.40 Item: Dodge Ram 1500 Mopar...\u001b[0m\n",
      "\u001b[91m135: Guess: $1.96 Truth: $172.77 Error: $170.81 SLE: 16.58 Item: Pro Comp Alloys Seri...\u001b[0m\n",
      "\u001b[91m136: Guess: $1.44 Truth: $316.45 Error: $315.01 SLE: 23.72 Item: Detroit Axle - Front...\u001b[0m\n",
      "\u001b[91m137: Guess: $2.00 Truth: $87.99 Error: $85.99 SLE: 11.50 Item: ECCPP Rear Wheel Axl...\u001b[0m\n",
      "\u001b[91m138: Guess: $1.96 Truth: $226.63 Error: $224.67 SLE: 18.87 Item: Dell Latitude E6520 ...\u001b[0m\n",
      "\u001b[92m139: Guess: $1.69 Truth: $31.49 Error: $29.80 SLE: 6.20 Item: F FIERCE CYCLE 251pc...\u001b[0m\n",
      "\u001b[91m140: Guess: $1.68 Truth: $196.00 Error: $194.32 SLE: 18.45 Item: Flash Furniture 4 Pk...\u001b[0m\n",
      "\u001b[93m141: Guess: $2.13 Truth: $78.40 Error: $76.27 SLE: 10.46 Item: B&M 30287 Throttle V...\u001b[0m\n",
      "\u001b[91m142: Guess: $1.53 Truth: $116.25 Error: $114.72 SLE: 14.71 Item: Gates TCK226 PowerGr...\u001b[0m\n",
      "\u001b[91m143: Guess: $1.84 Truth: $112.78 Error: $110.94 SLE: 13.62 Item: Monroe Shocks & Stru...\u001b[0m\n",
      "\u001b[92m144: Guess: $2.60 Truth: $27.32 Error: $24.72 SLE: 4.25 Item: Feit Electric 35W EQ...\u001b[0m\n",
      "\u001b[91m145: Guess: $1.85 Truth: $145.91 Error: $144.06 SLE: 15.53 Item: Yellow Jacket 2806 C...\u001b[0m\n",
      "\u001b[91m146: Guess: $1.69 Truth: $171.09 Error: $169.40 SLE: 17.31 Item: Garage-Pro Tailgate ...\u001b[0m\n",
      "\u001b[91m147: Guess: $1.88 Truth: $167.95 Error: $166.07 SLE: 16.57 Item: 3M Perfect It Buffin...\u001b[0m\n",
      "\u001b[92m148: Guess: $1.81 Truth: $28.49 Error: $26.68 SLE: 5.53 Item: Chinese Style Dollho...\u001b[0m\n",
      "\u001b[91m149: Guess: $2.04 Truth: $122.23 Error: $120.19 SLE: 13.71 Item: Generic NRG Innovati...\u001b[0m\n",
      "\u001b[92m150: Guess: $5.01 Truth: $32.99 Error: $27.98 SLE: 3.00 Item: Learning Resources C...\u001b[0m\n",
      "\u001b[93m151: Guess: $1.78 Truth: $71.20 Error: $69.42 SLE: 10.61 Item: Bosch Automotive 154...\u001b[0m\n",
      "\u001b[91m152: Guess: $1.78 Truth: $112.75 Error: $110.97 SLE: 13.78 Item: Case of 24-2 Inch Bl...\u001b[0m\n",
      "\u001b[91m153: Guess: $1.80 Truth: $142.43 Error: $140.63 SLE: 15.50 Item: MOCA Engine Water Pu...\u001b[0m\n",
      "\u001b[91m154: Guess: $1.97 Truth: $398.99 Error: $397.02 SLE: 24.05 Item: SAREMAS Foot Step Ba...\u001b[0m\n",
      "\u001b[91m155: Guess: $2.16 Truth: $449.00 Error: $446.84 SLE: 24.60 Item: Gretsch G9210 Square...\u001b[0m\n",
      "\u001b[91m156: Guess: $1.55 Truth: $189.00 Error: $187.45 SLE: 18.58 Item: NikoMaku Mirror Dash...\u001b[0m\n",
      "\u001b[91m157: Guess: $1.91 Truth: $120.91 Error: $119.00 SLE: 13.94 Item: Fenix HP25R v2.0 USB...\u001b[0m\n",
      "\u001b[91m158: Guess: $1.83 Truth: $203.53 Error: $201.70 SLE: 18.31 Item: R&L Racing Heavy Dut...\u001b[0m\n",
      "\u001b[91m159: Guess: $2.92 Truth: $349.99 Error: $347.07 SLE: 20.19 Item: Garmin GPSMAP 64sx, ...\u001b[0m\n",
      "\u001b[92m160: Guess: $1.53 Truth: $34.35 Error: $32.82 SLE: 6.95 Item: Brown 5-7/8 X 8-1/2 ...\u001b[0m\n",
      "\u001b[91m161: Guess: $1.71 Truth: $384.99 Error: $383.28 SLE: 24.58 Item: GAOMON PD2200 Pen Di...\u001b[0m\n",
      "\u001b[91m162: Guess: $1.76 Truth: $211.00 Error: $209.24 SLE: 18.85 Item: VXMOTOR for 97-03 Fo...\u001b[0m\n",
      "\u001b[91m163: Guess: $1.61 Truth: $129.00 Error: $127.39 SLE: 15.26 Item: HP EliteBook 2540p I...\u001b[0m\n",
      "\u001b[91m164: Guess: $1.73 Truth: $111.45 Error: $109.72 SLE: 13.83 Item: Green EPX Mixing Noz...\u001b[0m\n",
      "\u001b[93m165: Guess: $1.73 Truth: $81.12 Error: $79.39 SLE: 11.60 Item: Box Partners 6 1/4 x...\u001b[0m\n",
      "\u001b[91m166: Guess: $1.62 Truth: $457.08 Error: $455.46 SLE: 26.66 Item: Vixen Air 1/2 NPT Ai...\u001b[0m\n",
      "\u001b[93m167: Guess: $3.38 Truth: $49.49 Error: $46.11 SLE: 5.97 Item: Smart Floor Lamp, Mu...\u001b[0m\n",
      "\u001b[93m168: Guess: $1.84 Truth: $80.56 Error: $78.72 SLE: 11.27 Item: SOZG 324mm Wheelbase...\u001b[0m\n",
      "\u001b[91m169: Guess: $2.88 Truth: $278.39 Error: $275.51 SLE: 18.29 Item: Mickey Thompson ET S...\u001b[0m\n",
      "\u001b[91m170: Guess: $1.77 Truth: $364.50 Error: $362.73 SLE: 23.85 Item: Pirelli 106W XL RFT ...\u001b[0m\n",
      "\u001b[91m171: Guess: $1.75 Truth: $378.99 Error: $377.24 SLE: 24.30 Item: Torklift C3212 Rear ...\u001b[0m\n",
      "\u001b[91m172: Guess: $1.70 Truth: $165.28 Error: $163.58 SLE: 16.99 Item: Cardone Remanufactur...\u001b[0m\n",
      "\u001b[93m173: Guess: $1.89 Truth: $56.74 Error: $54.85 SLE: 8.97 Item: Kidde AccessPoint 00...\u001b[0m\n",
      "\u001b[91m174: Guess: $1.81 Truth: $307.95 Error: $306.14 SLE: 22.08 Item: 3M Protecta Self Ret...\u001b[0m\n",
      "\u001b[92m175: Guess: $3.00 Truth: $38.00 Error: $35.00 SLE: 5.19 Item: Plantronics Wired He...\u001b[0m\n",
      "\u001b[93m176: Guess: $3.40 Truth: $53.00 Error: $49.60 SLE: 6.29 Item: Logitech K750 Wirele...\u001b[0m\n",
      "\u001b[91m177: Guess: $4.98 Truth: $498.00 Error: $493.02 SLE: 19.57 Item: Olympus PEN E-PL9 Bo...\u001b[0m\n",
      "\u001b[93m178: Guess: $2.05 Truth: $53.99 Error: $51.94 SLE: 8.36 Item: Beck/Arnley Hub & Be...\u001b[0m\n",
      "\u001b[91m179: Guess: $2.11 Truth: $350.00 Error: $347.89 SLE: 22.35 Item: Eibach Pro-Kit Perfo...\u001b[0m\n",
      "\u001b[91m180: Guess: $1.82 Truth: $299.95 Error: $298.13 SLE: 21.80 Item: LEGO DC Batman 1989 ...\u001b[0m\n",
      "\u001b[91m181: Guess: $1.42 Truth: $94.93 Error: $93.51 SLE: 13.53 Item: Kingston Brass Resto...\u001b[0m\n",
      "\u001b[91m182: Guess: $1.98 Truth: $379.00 Error: $377.02 SLE: 23.51 Item: Polk Vanishing Serie...\u001b[0m\n",
      "\u001b[91m183: Guess: $1.63 Truth: $299.95 Error: $298.32 SLE: 22.47 Item: Spec-D Tuning LED Pr...\u001b[0m\n",
      "\u001b[92m184: Guess: $1.93 Truth: $24.99 Error: $23.06 SLE: 4.76 Item: RICHMOND & FINCH Air...\u001b[0m\n",
      "\u001b[92m185: Guess: $1.89 Truth: $41.04 Error: $39.15 SLE: 7.17 Item: LFA Industries - mm ...\u001b[0m\n",
      "\u001b[91m186: Guess: $1.50 Truth: $327.90 Error: $326.40 SLE: 23.79 Item: SAUTVS LED Headlight...\u001b[0m\n",
      "\u001b[92m187: Guess: $1.81 Truth: $10.99 Error: $9.18 SLE: 2.10 Item: 2 Pack Combo Womens ...\u001b[0m\n",
      "\u001b[92m188: Guess: $1.44 Truth: $14.99 Error: $13.55 SLE: 3.53 Item: Arepa - Venezuelan c...\u001b[0m\n",
      "\u001b[91m189: Guess: $1.76 Truth: $84.95 Error: $83.19 SLE: 11.83 Item: Schlage Lock Company...\u001b[0m\n",
      "\u001b[91m190: Guess: $3.24 Truth: $111.00 Error: $107.76 SLE: 10.72 Item: Techni Mobili White ...\u001b[0m\n",
      "\u001b[91m191: Guess: $1.52 Truth: $123.73 Error: $122.21 SLE: 15.24 Item: Special Lite Product...\u001b[0m\n",
      "\u001b[91m192: Guess: $1.87 Truth: $557.38 Error: $555.51 SLE: 27.77 Item: Tascam Digital Porta...\u001b[0m\n",
      "\u001b[91m193: Guess: $1.52 Truth: $95.55 Error: $94.03 SLE: 13.29 Item: Glow Lighting Vista ...\u001b[0m\n",
      "\u001b[91m194: Guess: $2.16 Truth: $154.00 Error: $151.84 SLE: 15.16 Item: Z3 Wind Deflector, S...\u001b[0m\n",
      "\u001b[91m195: Guess: $1.82 Truth: $198.99 Error: $197.17 SLE: 18.17 Item: Olympus E-20 5MP Dig...\u001b[0m\n",
      "\u001b[91m196: Guess: $1.60 Truth: $430.44 Error: $428.84 SLE: 26.12 Item: PHYNEDI 1 1000 World...\u001b[0m\n",
      "\u001b[93m197: Guess: $1.67 Truth: $45.67 Error: $44.00 SLE: 8.19 Item: YANGHUAN Unstable Un...\u001b[0m\n",
      "\u001b[91m198: Guess: $1.92 Truth: $249.00 Error: $247.08 SLE: 19.79 Item: Interlogix NetworX T...\u001b[0m\n",
      "\u001b[93m199: Guess: $1.93 Truth: $42.99 Error: $41.06 SLE: 7.33 Item: Steering Damper,Univ...\u001b[0m\n",
      "\u001b[91m200: Guess: $1.76 Truth: $181.33 Error: $179.57 SLE: 17.57 Item: Amprobe TIC 410A Hot...\u001b[0m\n"
     ]
    },
    {
     "data": {
      "image/png": "[encoded data removed]",
      "text/plain": [
       "<Figure size 1200x800 with 1 Axes>"
      ]
     },
     "metadata": {},
     "output_type": "display_data"
    },
    {
     "name": "stdout",
     "output_type": "stream",
     "text": [
      "{'avg_error': 209.9834618784624, 'rmsle': 3.9613083117925942, 'hits_percent': 16.5}\n"
     ]
    }
   ],
   "source": [
    "from model_src.evaluation import qwen_evaluation\n",
    "\n",
    "results = qwen_evaluation(\"price_qwen_lora-trial_1/checkpoint-1000\", test_amount=200)\n",
    "print(results)"
   ]
  },
  {
   "cell_type": "code",
   "execution_count": null,
   "id": "709fc6bb",
   "metadata": {},
   "outputs": [],
   "source": []
  }
 ],
 "metadata": {
  "kernelspec": {
   "display_name": "llm_env",
   "language": "python",
   "name": "python3"
  },
  "language_info": {
   "codemirror_mode": {
    "name": "ipython",
    "version": 3
   },
   "file_extension": ".py",
   "mimetype": "text/x-python",
   "name": "python",
   "nbconvert_exporter": "python",
   "pygments_lexer": "ipython3",
   "version": "3.10.16"
  }
 },
 "nbformat": 4,
 "nbformat_minor": 5
}
