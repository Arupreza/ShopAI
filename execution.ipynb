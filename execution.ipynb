{
 "cells": [
  {
   "cell_type": "markdown",
   "id": "838088e2",
   "metadata": {},
   "source": [
    "Roberta Model Fine Tune"
   ]
  },
  {
   "cell_type": "code",
   "execution_count": 1,
   "id": "db849968",
   "metadata": {},
   "outputs": [
    {
     "name": "stderr",
     "output_type": "stream",
     "text": [
      "/home/lisa/anaconda3/envs/llm_env/lib/python3.10/site-packages/tqdm/auto.py:21: TqdmWarning: IProgress not found. Please update jupyter and ipywidgets. See https://ipywidgets.readthedocs.io/en/stable/user_install.html\n",
      "  from .autonotebook import tqdm as notebook_tqdm\n",
      "Map: 100%|██████████| 2000/2000 [00:00<00:00, 11673.61 examples/s]\n",
      "Some weights of RobertaForSequenceClassification were not initialized from the model checkpoint at FacebookAI/roberta-base and are newly initialized: ['classifier.dense.bias', 'classifier.dense.weight', 'classifier.out_proj.bias', 'classifier.out_proj.weight']\n",
      "You should probably TRAIN this model on a down-stream task to be able to use it for predictions and inference.\n",
      "/home/lisa/Arupreza/ShopAI/model_src/roberta_base_fine_tune.py:157: FutureWarning: `tokenizer` is deprecated and will be removed in version 5.0.0 for `Trainer.__init__`. Use `processing_class` instead.\n",
      "  trainer = Trainer(\n"
     ]
    },
    {
     "data": {
      "text/html": [
       "\n",
       "    <div>\n",
       "      \n",
       "      <progress value='8000' max='33750' style='width:300px; height:20px; vertical-align: middle;'></progress>\n",
       "      [ 8000/33750 21:56 < 1:10:37, 6.08 it/s, Epoch 0/3]\n",
       "    </div>\n",
       "    <table border=\"1\" class=\"dataframe\">\n",
       "  <thead>\n",
       " <tr style=\"text-align: left;\">\n",
       "      <th>Step</th>\n",
       "      <th>Training Loss</th>\n",
       "      <th>Validation Loss</th>\n",
       "      <th>Rmse</th>\n",
       "      <th>Mae</th>\n",
       "      <th>R2</th>\n",
       "    </tr>\n",
       "  </thead>\n",
       "  <tbody>\n",
       "    <tr>\n",
       "      <td>500</td>\n",
       "      <td>15.544700</td>\n",
       "      <td>14.559072</td>\n",
       "      <td>287.939575</td>\n",
       "      <td>217.006348</td>\n",
       "      <td>-1.314369</td>\n",
       "    </tr>\n",
       "    <tr>\n",
       "      <td>1000</td>\n",
       "      <td>0.977900</td>\n",
       "      <td>0.890997</td>\n",
       "      <td>176.437424</td>\n",
       "      <td>120.645210</td>\n",
       "      <td>0.131017</td>\n",
       "    </tr>\n",
       "    <tr>\n",
       "      <td>1500</td>\n",
       "      <td>0.694600</td>\n",
       "      <td>0.703207</td>\n",
       "      <td>158.974655</td>\n",
       "      <td>112.898949</td>\n",
       "      <td>0.294518</td>\n",
       "    </tr>\n",
       "    <tr>\n",
       "      <td>2000</td>\n",
       "      <td>0.195600</td>\n",
       "      <td>0.188815</td>\n",
       "      <td>169.201813</td>\n",
       "      <td>110.696526</td>\n",
       "      <td>0.200829</td>\n",
       "    </tr>\n",
       "    <tr>\n",
       "      <td>2500</td>\n",
       "      <td>0.093400</td>\n",
       "      <td>0.080346</td>\n",
       "      <td>122.888908</td>\n",
       "      <td>75.294235</td>\n",
       "      <td>0.578444</td>\n",
       "    </tr>\n",
       "    <tr>\n",
       "      <td>3000</td>\n",
       "      <td>0.068400</td>\n",
       "      <td>0.043254</td>\n",
       "      <td>109.873390</td>\n",
       "      <td>56.812489</td>\n",
       "      <td>0.663012</td>\n",
       "    </tr>\n",
       "    <tr>\n",
       "      <td>3500</td>\n",
       "      <td>0.052400</td>\n",
       "      <td>0.030408</td>\n",
       "      <td>84.135246</td>\n",
       "      <td>43.545132</td>\n",
       "      <td>0.802400</td>\n",
       "    </tr>\n",
       "    <tr>\n",
       "      <td>4000</td>\n",
       "      <td>0.046800</td>\n",
       "      <td>0.032830</td>\n",
       "      <td>100.425034</td>\n",
       "      <td>47.959381</td>\n",
       "      <td>0.718477</td>\n",
       "    </tr>\n",
       "    <tr>\n",
       "      <td>4500</td>\n",
       "      <td>0.040100</td>\n",
       "      <td>0.031249</td>\n",
       "      <td>96.855003</td>\n",
       "      <td>46.911621</td>\n",
       "      <td>0.738137</td>\n",
       "    </tr>\n",
       "    <tr>\n",
       "      <td>5000</td>\n",
       "      <td>0.035100</td>\n",
       "      <td>0.016704</td>\n",
       "      <td>75.063004</td>\n",
       "      <td>32.138050</td>\n",
       "      <td>0.842717</td>\n",
       "    </tr>\n",
       "    <tr>\n",
       "      <td>5500</td>\n",
       "      <td>0.033600</td>\n",
       "      <td>0.031277</td>\n",
       "      <td>100.202209</td>\n",
       "      <td>50.389397</td>\n",
       "      <td>0.719725</td>\n",
       "    </tr>\n",
       "    <tr>\n",
       "      <td>6000</td>\n",
       "      <td>0.032500</td>\n",
       "      <td>0.023198</td>\n",
       "      <td>86.810829</td>\n",
       "      <td>41.496498</td>\n",
       "      <td>0.789633</td>\n",
       "    </tr>\n",
       "    <tr>\n",
       "      <td>6500</td>\n",
       "      <td>0.028300</td>\n",
       "      <td>0.016085</td>\n",
       "      <td>73.467285</td>\n",
       "      <td>31.877796</td>\n",
       "      <td>0.849333</td>\n",
       "    </tr>\n",
       "    <tr>\n",
       "      <td>7000</td>\n",
       "      <td>0.027700</td>\n",
       "      <td>0.020667</td>\n",
       "      <td>81.041908</td>\n",
       "      <td>37.943089</td>\n",
       "      <td>0.816663</td>\n",
       "    </tr>\n",
       "    <tr>\n",
       "      <td>7500</td>\n",
       "      <td>0.027100</td>\n",
       "      <td>0.015802</td>\n",
       "      <td>74.896851</td>\n",
       "      <td>33.839577</td>\n",
       "      <td>0.843413</td>\n",
       "    </tr>\n",
       "    <tr>\n",
       "      <td>8000</td>\n",
       "      <td>0.024300</td>\n",
       "      <td>0.017829</td>\n",
       "      <td>76.651970</td>\n",
       "      <td>35.400452</td>\n",
       "      <td>0.835988</td>\n",
       "    </tr>\n",
       "  </tbody>\n",
       "</table><p>"
      ],
      "text/plain": [
       "<IPython.core.display.HTML object>"
      ]
     },
     "metadata": {},
     "output_type": "display_data"
    },
    {
     "data": {
      "text/html": [
       "\n",
       "    <div>\n",
       "      \n",
       "      <progress value='2625' max='2500' style='width:300px; height:20px; vertical-align: middle;'></progress>\n",
       "      [2500/2500 00:41]\n",
       "    </div>\n",
       "    "
      ],
      "text/plain": [
       "<IPython.core.display.HTML object>"
      ]
     },
     "metadata": {},
     "output_type": "display_data"
    },
    {
     "name": "stdout",
     "output_type": "stream",
     "text": [
      "Validation metrics: {'eval_loss': 0.016085434705018997, 'eval_rmse': 73.46728515625, 'eval_mae': 31.877796173095703, 'eval_r2': 0.8493330711305338, 'eval_runtime': 39.7625, 'eval_samples_per_second': 1005.974, 'eval_steps_per_second': 62.873, 'epoch': 0.7111111111111111}\n",
      "Test metrics: {'eval_loss': 1.402895450592041, 'eval_rmse': 224.31961059570312, 'eval_mae': 154.30364990234375, 'eval_r2': -0.4710033425457487, 'eval_runtime': 2.0528, 'eval_samples_per_second': 974.258, 'eval_steps_per_second': 60.891, 'epoch': 0.7111111111111111}\n",
      "✅ Model saved to ./price_roberta_lora\n"
     ]
    }
   ],
   "source": [
    "from model_src.roberta_base_fine_tune import train_model\n",
    "\n",
    "trainer, model, tok, dataset = train_model(\n",
    "    source=\"ed-donner/pricer-data\",\n",
    "    text_column=\"text\",\n",
    "    label_column=\"price\",\n",
    "    epochs=3,\n",
    "    batch_size=16,\n",
    "    eval_steps=500\n",
    ")\n"
   ]
  },
  {
   "cell_type": "code",
   "execution_count": 3,
   "id": "7e300a6a",
   "metadata": {},
   "outputs": [
    {
     "name": "stderr",
     "output_type": "stream",
     "text": [
      "Some weights of RobertaForSequenceClassification were not initialized from the model checkpoint at FacebookAI/roberta-base and are newly initialized: ['classifier.dense.bias', 'classifier.dense.weight', 'classifier.out_proj.bias', 'classifier.out_proj.weight']\n",
      "You should probably TRAIN this model on a down-stream task to be able to use it for predictions and inference.\n"
     ]
    },
    {
     "data": {
      "image/png": "[encoded data removed]",
      "text/plain": [
       "<Figure size 800x600 with 1 Axes>"
      ]
     },
     "metadata": {},
     "output_type": "display_data"
    },
    {
     "name": "stdout",
     "output_type": "stream",
     "text": [
      "{'mae': 154.31402530077656, 'rmse': 222.39675161721857, 'r2': -0.4883020307624757, 'rmsle': 1.1910769360450686, 'avg_diff': -127.51351284671159}\n"
     ]
    }
   ],
   "source": [
    "from model_src.evaluation import evaluate_model\n",
    "\n",
    "metrics = evaluate_model(\"price_roberta_lora/checkpoint-6500\", num_samples=1000)\n",
    "print(metrics)"
   ]
  },
  {
   "cell_type": "code",
   "execution_count": null,
   "id": "4bc7e522",
   "metadata": {},
   "outputs": [],
   "source": []
  },
  {
   "cell_type": "code",
   "execution_count": null,
   "id": "48897bfa",
   "metadata": {},
   "outputs": [],
   "source": []
  },
  {
   "cell_type": "code",
   "execution_count": null,
   "id": "a7a2210d",
   "metadata": {},
   "outputs": [],
   "source": []
  },
  {
   "cell_type": "code",
   "execution_count": null,
   "id": "eaf4288d",
   "metadata": {},
   "outputs": [],
   "source": []
  },
  {
   "cell_type": "code",
   "execution_count": null,
   "id": "3f4595a3",
   "metadata": {},
   "outputs": [],
   "source": []
  },
  {
   "cell_type": "markdown",
   "id": "5ca7ea1b",
   "metadata": {},
   "source": [
    "Llama Model Fine Tune"
   ]
  },
  {
   "cell_type": "code",
   "execution_count": 1,
   "id": "a966ffe9",
   "metadata": {},
   "outputs": [
    {
     "name": "stderr",
     "output_type": "stream",
     "text": [
      "Note: Environment variable`HF_TOKEN` is set and is the current active token independently from the token you've just configured.\n",
      "\u001b[34m\u001b[1mwandb\u001b[0m: \u001b[33mWARNING\u001b[0m If you're specifying your api key in code, ensure this code is not shared publicly.\n",
      "\u001b[34m\u001b[1mwandb\u001b[0m: \u001b[33mWARNING\u001b[0m Consider setting the WANDB_API_KEY environment variable, or running `wandb login` from the command line.\n",
      "\u001b[34m\u001b[1mwandb\u001b[0m: Appending key for api.wandb.ai to your netrc file: /home/lisa/.netrc\n",
      "\u001b[34m\u001b[1mwandb\u001b[0m: Currently logged in as: \u001b[33marupreza\u001b[0m (\u001b[33marupreza-soonchunhyang-university\u001b[0m) to \u001b[32mhttps://api.wandb.ai\u001b[0m. Use \u001b[1m`wandb login --relogin`\u001b[0m to force relogin\n"
     ]
    },
    {
     "data": {
      "application/vnd.jupyter.widget-view+json": {
       "model_id": "ca4e2ddf33d14beeaac316923f7deaf4",
       "version_major": 2,
       "version_minor": 0
      },
      "text/plain": [
       "Map:   0%|          | 0/400000 [00:00<?, ? examples/s]"
      ]
     },
     "metadata": {},
     "output_type": "display_data"
    },
    {
     "data": {
      "application/vnd.jupyter.widget-view+json": {
       "model_id": "bd4475145a554ac49e756204b804b08c",
       "version_major": 2,
       "version_minor": 0
      },
      "text/plain": [
       "Map:   0%|          | 0/2000 [00:00<?, ? examples/s]"
      ]
     },
     "metadata": {},
     "output_type": "display_data"
    },
    {
     "data": {
      "application/vnd.jupyter.widget-view+json": {
       "model_id": "af80e5d1f45c4de7b4cc1fa49cc34594",
       "version_major": 2,
       "version_minor": 0
      },
      "text/plain": [
       "Loading checkpoint shards:   0%|          | 0/4 [00:00<?, ?it/s]"
      ]
     },
     "metadata": {},
     "output_type": "display_data"
    },
    {
     "name": "stdout",
     "output_type": "stream",
     "text": [
      "Memory footprint: 5591.5 MB\n"
     ]
    },
    {
     "data": {
      "application/vnd.jupyter.widget-view+json": {
       "model_id": "cd849f5201ca446dbb3a4284b59ae8c1",
       "version_major": 2,
       "version_minor": 0
      },
      "text/plain": [
       "Map:   0%|          | 0/1000 [00:00<?, ? examples/s]"
      ]
     },
     "metadata": {},
     "output_type": "display_data"
    },
    {
     "data": {
      "application/vnd.jupyter.widget-view+json": {
       "model_id": "d6219362c0c0460a845dbfea7c176121",
       "version_major": 2,
       "version_minor": 0
      },
      "text/plain": [
       "Map:   0%|          | 0/100 [00:00<?, ? examples/s]"
      ]
     },
     "metadata": {},
     "output_type": "display_data"
    },
    {
     "name": "stderr",
     "output_type": "stream",
     "text": [
      "The tokenizer has new PAD/BOS/EOS tokens that differ from the model config and generation config. The model config and generation config were aligned accordingly, being updated with the tokenizer's values. Updated tokens: {'pad_token_id': 128001}.\n"
     ]
    },
    {
     "data": {
      "text/html": [
       "creating run (0.2s)"
      ],
      "text/plain": [
       "<IPython.core.display.HTML object>"
      ]
     },
     "metadata": {},
     "output_type": "display_data"
    },
    {
     "data": {
      "text/html": [
       "Tracking run with wandb version 0.21.3"
      ],
      "text/plain": [
       "<IPython.core.display.HTML object>"
      ]
     },
     "metadata": {},
     "output_type": "display_data"
    },
    {
     "data": {
      "text/html": [
       "Run data is saved locally in <code>/home/lisa/Arupreza/ShopAI/wandb/run-20250914_115608-feu8uivl</code>"
      ],
      "text/plain": [
       "<IPython.core.display.HTML object>"
      ]
     },
     "metadata": {},
     "output_type": "display_data"
    },
    {
     "data": {
      "text/html": [
       "Syncing run <strong><a href='https://wandb.ai/arupreza-soonchunhyang-university/huggingface/runs/feu8uivl' target=\"_blank\">debug_run</a></strong> to <a href='https://wandb.ai/arupreza-soonchunhyang-university/huggingface' target=\"_blank\">Weights & Biases</a> (<a href='https://wandb.me/developer-guide' target=\"_blank\">docs</a>)<br>"
      ],
      "text/plain": [
       "<IPython.core.display.HTML object>"
      ]
     },
     "metadata": {},
     "output_type": "display_data"
    },
    {
     "data": {
      "text/html": [
       " View project at <a href='https://wandb.ai/arupreza-soonchunhyang-university/huggingface' target=\"_blank\">https://wandb.ai/arupreza-soonchunhyang-university/huggingface</a>"
      ],
      "text/plain": [
       "<IPython.core.display.HTML object>"
      ]
     },
     "metadata": {},
     "output_type": "display_data"
    },
    {
     "data": {
      "text/html": [
       " View run at <a href='https://wandb.ai/arupreza-soonchunhyang-university/huggingface/runs/feu8uivl' target=\"_blank\">https://wandb.ai/arupreza-soonchunhyang-university/huggingface/runs/feu8uivl</a>"
      ],
      "text/plain": [
       "<IPython.core.display.HTML object>"
      ]
     },
     "metadata": {},
     "output_type": "display_data"
    },
    {
     "data": {
      "text/html": [
       "\n",
       "    <div>\n",
       "      \n",
       "      <progress value='250' max='250' style='width:300px; height:20px; vertical-align: middle;'></progress>\n",
       "      [250/250 02:57, Epoch 1/1]\n",
       "    </div>\n",
       "    <table border=\"1\" class=\"dataframe\">\n",
       "  <thead>\n",
       " <tr style=\"text-align: left;\">\n",
       "      <th>Step</th>\n",
       "      <th>Training Loss</th>\n",
       "      <th>Validation Loss</th>\n",
       "    </tr>\n",
       "  </thead>\n",
       "  <tbody>\n",
       "    <tr>\n",
       "      <td>200</td>\n",
       "      <td>2.315800</td>\n",
       "      <td>2.230994</td>\n",
       "    </tr>\n",
       "  </tbody>\n",
       "</table><p>"
      ],
      "text/plain": [
       "<IPython.core.display.HTML object>"
      ]
     },
     "metadata": {},
     "output_type": "display_data"
    },
    {
     "name": "stderr",
     "output_type": "stream",
     "text": [
      "\u001b[34m\u001b[1mwandb\u001b[0m: \u001b[32m\u001b[41mERROR\u001b[0m The nbformat package was not found. It is required to save notebook history.\n"
     ]
    },
    {
     "data": {
      "text/html": [],
      "text/plain": [
       "<IPython.core.display.HTML object>"
      ]
     },
     "metadata": {},
     "output_type": "display_data"
    },
    {
     "data": {
      "text/html": [
       "<br>    <style><br>        .wandb-row {<br>            display: flex;<br>            flex-direction: row;<br>            flex-wrap: wrap;<br>            justify-content: flex-start;<br>            width: 100%;<br>        }<br>        .wandb-col {<br>            display: flex;<br>            flex-direction: column;<br>            flex-basis: 100%;<br>            flex: 1;<br>            padding: 10px;<br>        }<br>    </style><br><div class=\"wandb-row\"><div class=\"wandb-col\"><h3>Run history:</h3><br/><table class=\"wandb\"><tr><td>eval/loss</td><td>▁</td></tr><tr><td>eval/runtime</td><td>▁</td></tr><tr><td>eval/samples_per_second</td><td>▁</td></tr><tr><td>eval/steps_per_second</td><td>▁</td></tr><tr><td>train/epoch</td><td>▁▃▅▆▆██</td></tr><tr><td>train/global_step</td><td>▁▃▅▆▆██</td></tr><tr><td>train/grad_norm</td><td>▂▁▂▂█</td></tr><tr><td>train/learning_rate</td><td>█▆▄▂▁</td></tr><tr><td>train/loss</td><td>█▂▁▂▂</td></tr></table><br/></div><div class=\"wandb-col\"><h3>Run summary:</h3><br/><table class=\"wandb\"><tr><td>eval/loss</td><td>2.23099</td></tr><tr><td>eval/runtime</td><td>20.4774</td></tr><tr><td>eval/samples_per_second</td><td>4.883</td></tr><tr><td>eval/steps_per_second</td><td>4.883</td></tr><tr><td>total_flos</td><td>8034976237879296.0</td></tr><tr><td>train/epoch</td><td>1</td></tr><tr><td>train/global_step</td><td>250</td></tr><tr><td>train/grad_norm</td><td>1.96918</td></tr><tr><td>train/learning_rate</td><td>0.0</td></tr><tr><td>train/loss</td><td>2.3112</td></tr><tr><td>+4</td><td>...</td></tr></table><br/></div></div>"
      ],
      "text/plain": [
       "<IPython.core.display.HTML object>"
      ]
     },
     "metadata": {},
     "output_type": "display_data"
    },
    {
     "data": {
      "text/html": [
       " View run <strong style=\"color:#cdcd00\">debug_run</strong> at: <a href='https://wandb.ai/arupreza-soonchunhyang-university/huggingface/runs/feu8uivl' target=\"_blank\">https://wandb.ai/arupreza-soonchunhyang-university/huggingface/runs/feu8uivl</a><br> View project at: <a href='https://wandb.ai/arupreza-soonchunhyang-university/huggingface' target=\"_blank\">https://wandb.ai/arupreza-soonchunhyang-university/huggingface</a><br>Synced 5 W&B file(s), 0 media file(s), 0 artifact file(s) and 0 other file(s)"
      ],
      "text/plain": [
       "<IPython.core.display.HTML object>"
      ]
     },
     "metadata": {},
     "output_type": "display_data"
    },
    {
     "data": {
      "text/html": [
       "Find logs at: <code>./wandb/run-20250914_115608-feu8uivl/logs</code>"
      ],
      "text/plain": [
       "<IPython.core.display.HTML object>"
      ]
     },
     "metadata": {},
     "output_type": "display_data"
    }
   ],
   "source": [
    "from model_src.llama_8_b_base_fine_tune import train_sft\n",
    "\n",
    "trainer, model, tokenizer, ds = train_sft(\n",
    "    hf_user=\"Arupreza\",\n",
    "    dataset_name=\"ed-donner/pricer-data\",\n",
    "    base_model=\"meta-llama/Meta-Llama-3.1-8B\",\n",
    "    project_name=\"pricer\",\n",
    "    log_to_wandb=True,\n",
    "    epochs=1,\n",
    "    batch_size=4,\n",
    "    save_steps=2000,\n",
    "    run_name=\"debug_run\",\n",
    "    push_to_hub=False,       # don’t push when debugging\n",
    "    train_size=1000,       # optional: subset\n",
    "    eval_size=100           # optional: subset\n",
    ")"
   ]
  },
  {
   "cell_type": "code",
   "execution_count": null,
   "id": "54242dc3",
   "metadata": {},
   "outputs": [],
   "source": []
  },
  {
   "cell_type": "code",
   "execution_count": null,
   "id": "c79fc3e8",
   "metadata": {},
   "outputs": [],
   "source": []
  },
  {
   "cell_type": "code",
   "execution_count": null,
   "id": "84463c2d",
   "metadata": {},
   "outputs": [],
   "source": []
  },
  {
   "cell_type": "code",
   "execution_count": null,
   "id": "815e4e7f",
   "metadata": {},
   "outputs": [],
   "source": []
  },
  {
   "cell_type": "code",
   "execution_count": 2,
   "id": "835b8b52",
   "metadata": {},
   "outputs": [],
   "source": [
    "from model_src.evaluation import llama_evaluation"
   ]
  },
  {
   "cell_type": "code",
   "execution_count": 4,
   "id": "dbf8f1de",
   "metadata": {},
   "outputs": [
    {
     "data": {
      "application/vnd.jupyter.widget-view+json": {
       "model_id": "a45fe7c34f214560ba7a7a0736e7c251",
       "version_major": 2,
       "version_minor": 0
      },
      "text/plain": [
       "Loading checkpoint shards:   0%|          | 0/4 [00:00<?, ?it/s]"
      ]
     },
     "metadata": {},
     "output_type": "display_data"
    },
    {
     "name": "stdout",
     "output_type": "stream",
     "text": [
      "Memory footprint: 5700.6 MB\n",
      "\u001b[92m1: Guess: $329.50 Truth: $374.41 Error: $44.91 SLE: 0.02 Item: OEM AC Compressor w/...\u001b[0m\n",
      "\u001b[93m2: Guess: $158.25 Truth: $225.11 Error: $66.86 SLE: 0.12 Item: Motorcraft YB3125 Fa...\u001b[0m\n",
      "\u001b[92m3: Guess: $44.69 Truth: $61.68 Error: $16.99 SLE: 0.10 Item: Dorman Front Washer ...\u001b[0m\n",
      "\u001b[92m4: Guess: $486.00 Truth: $599.99 Error: $113.99 SLE: 0.04 Item: HP Premium HD Plus T...\u001b[0m\n",
      "\u001b[92m5: Guess: $18.14 Truth: $16.99 Error: $1.15 SLE: 0.00 Item: Super Switch Pickup ...\u001b[0m\n",
      "\u001b[92m6: Guess: $12.98 Truth: $31.99 Error: $19.01 SLE: 0.74 Item: Horror Bookmarks, Re...\u001b[0m\n",
      "\u001b[93m7: Guess: $149.75 Truth: $101.79 Error: $47.96 SLE: 0.15 Item: SK6241 - Stinger 4 G...\u001b[0m\n",
      "\u001b[92m8: Guess: $270.25 Truth: $289.00 Error: $18.75 SLE: 0.00 Item: Godox ML60Bi LED Lig...\u001b[0m\n",
      "\u001b[93m9: Guess: $771.00 Truth: $635.86 Error: $135.14 SLE: 0.04 Item: Randall G3 Plus Comb...\u001b[0m\n",
      "\u001b[92m10: Guess: $76.12 Truth: $65.99 Error: $10.14 SLE: 0.02 Item: HOLDWILL 6 Pack LED ...\u001b[0m\n",
      "\u001b[92m11: Guess: $256.50 Truth: $254.21 Error: $2.29 SLE: 0.00 Item: Viking Horns 3 Gallo...\u001b[0m\n",
      "\u001b[92m12: Guess: $403.00 Truth: $412.99 Error: $9.99 SLE: 0.00 Item: CURT 70110 Custom To...\u001b[0m\n",
      "\u001b[92m13: Guess: $198.25 Truth: $205.50 Error: $7.25 SLE: 0.00 Item: Solar HAMMERED BRONZ...\u001b[0m\n",
      "\u001b[92m14: Guess: $260.25 Truth: $248.23 Error: $12.02 SLE: 0.00 Item: COSTWAY Electric Tum...\u001b[0m\n",
      "\u001b[92m15: Guess: $326.00 Truth: $399.00 Error: $73.00 SLE: 0.04 Item: FREE SIGNAL TV Trans...\u001b[0m\n",
      "\u001b[92m16: Guess: $367.00 Truth: $373.94 Error: $6.94 SLE: 0.00 Item: Bilstein 5100 Monotu...\u001b[0m\n",
      "\u001b[93m17: Guess: $133.62 Truth: $92.89 Error: $40.73 SLE: 0.13 Item: Sangean K-200 Multi-...\u001b[0m\n",
      "\u001b[93m18: Guess: $98.12 Truth: $51.99 Error: $46.13 SLE: 0.39 Item: Charles Leonard Magn...\u001b[0m\n",
      "\u001b[93m19: Guess: $243.62 Truth: $179.00 Error: $64.62 SLE: 0.09 Item: Gigabyte AMD Radeon ...\u001b[0m\n",
      "\u001b[92m20: Guess: $16.44 Truth: $19.42 Error: $2.98 SLE: 0.02 Item: 3dRose LLC 8 x 8 x 0...\u001b[0m\n",
      "\u001b[92m21: Guess: $534.50 Truth: $539.95 Error: $5.45 SLE: 0.00 Item: ROKINON 85mm F1.4 Au...\u001b[0m\n",
      "\u001b[93m22: Guess: $68.94 Truth: $147.67 Error: $78.73 SLE: 0.57 Item: Headlight Assembly C...\u001b[0m\n",
      "\u001b[92m23: Guess: $32.06 Truth: $24.99 Error: $7.07 SLE: 0.06 Item: ASI NAUTICAL 2.5 Inc...\u001b[0m\n",
      "\u001b[92m24: Guess: $118.19 Truth: $149.00 Error: $30.81 SLE: 0.05 Item: Behringer TUBE OVERD...\u001b[0m\n",
      "\u001b[92m25: Guess: $13.02 Truth: $16.99 Error: $3.97 SLE: 0.06 Item: Fun Express Insect F...\u001b[0m\n",
      "\u001b[92m26: Guess: $13.04 Truth: $7.99 Error: $5.05 SLE: 0.20 Item: WAFJAMF Roller Stamp...\u001b[0m\n",
      "\u001b[92m27: Guess: $232.25 Truth: $199.99 Error: $32.26 SLE: 0.02 Item: Capulina Tiffany Flo...\u001b[0m\n",
      "\u001b[92m28: Guess: $259.00 Truth: $251.45 Error: $7.55 SLE: 0.00 Item: Apple Watch Series 6...\u001b[0m\n",
      "\u001b[92m29: Guess: $205.25 Truth: $231.62 Error: $26.37 SLE: 0.01 Item: ICON 01725 Tandem Ax...\u001b[0m\n",
      "\u001b[92m30: Guess: $103.19 Truth: $135.00 Error: $31.81 SLE: 0.07 Item: SanDisk 128GB Ultra ...\u001b[0m\n",
      "\u001b[92m31: Guess: $391.00 Truth: $356.62 Error: $34.38 SLE: 0.01 Item: Velvac - 715427\n",
      "2020...\u001b[0m\n",
      "\u001b[92m32: Guess: $235.62 Truth: $257.99 Error: $22.37 SLE: 0.01 Item: TCMT Passenger Backr...\u001b[0m\n",
      "\u001b[92m33: Guess: $36.94 Truth: $27.99 Error: $8.95 SLE: 0.07 Item: Alnicov 63.5MM Brass...\u001b[0m\n",
      "\u001b[93m34: Guess: $115.38 Truth: $171.20 Error: $55.82 SLE: 0.15 Item: Subaru Forester Outb...\u001b[0m\n",
      "\u001b[91m35: Guess: $372.50 Truth: $225.00 Error: $147.50 SLE: 0.25 Item: Richmond Auto Uphols...\u001b[0m\n",
      "\u001b[92m36: Guess: $115.62 Truth: $105.00 Error: $10.62 SLE: 0.01 Item: AP-39 Automotive Pai...\u001b[0m\n",
      "\u001b[93m37: Guess: $363.75 Truth: $299.99 Error: $63.76 SLE: 0.04 Item: Road Top Wireless Ca...\u001b[0m\n",
      "\u001b[92m38: Guess: $572.00 Truth: $535.09 Error: $36.91 SLE: 0.00 Item: Gibson Performance E...\u001b[0m\n",
      "\u001b[92m39: Guess: $25.72 Truth: $12.33 Error: $13.39 SLE: 0.48 Item: Bella Tunno Happy Li...\u001b[0m\n",
      "\u001b[92m40: Guess: $87.69 Truth: $84.99 Error: $2.70 SLE: 0.00 Item: CANMORE H300 Handhel...\u001b[0m\n",
      "\u001b[92m41: Guess: $15.89 Truth: $15.99 Error: $0.10 SLE: 0.00 Item: DCPOWER AC Adapter C...\u001b[0m\n",
      "\u001b[92m42: Guess: $52.34 Truth: $62.44 Error: $10.10 SLE: 0.03 Item: Sharp, Commercial De...\u001b[0m\n",
      "\u001b[92m43: Guess: $94.25 Truth: $82.99 Error: $11.26 SLE: 0.02 Item: Melissa & Doug Lifel...\u001b[0m\n",
      "\u001b[91m44: Guess: $286.25 Truth: $599.95 Error: $313.70 SLE: 0.54 Item: Sony SSCS8 2-Way Cen...\u001b[0m\n",
      "\u001b[92m45: Guess: $207.62 Truth: $194.99 Error: $12.63 SLE: 0.00 Item: ASUS Chromebook CX1,...\u001b[0m\n",
      "\u001b[93m46: Guess: $430.25 Truth: $344.95 Error: $85.30 SLE: 0.05 Item: FiiO X7 32GB Hi-Res ...\u001b[0m\n",
      "\u001b[92m47: Guess: $49.19 Truth: $37.99 Error: $11.20 SLE: 0.06 Item: TORRO Leather Case C...\u001b[0m\n",
      "\u001b[92m48: Guess: $247.25 Truth: $224.35 Error: $22.90 SLE: 0.01 Item: Universal Air Condit...\u001b[0m\n",
      "\u001b[92m49: Guess: $741.00 Truth: $814.00 Error: $73.00 SLE: 0.01 Item: Street Series Stainl...\u001b[0m\n",
      "\u001b[92m50: Guess: $354.75 Truth: $439.88 Error: $85.13 SLE: 0.05 Item: Lenovo IdeaPad 3 Lap...\u001b[0m\n",
      "\u001b[92m51: Guess: $309.50 Truth: $341.43 Error: $31.93 SLE: 0.01 Item: Access Bed Covers To...\u001b[0m\n",
      "\u001b[92m52: Guess: $45.59 Truth: $46.78 Error: $1.19 SLE: 0.00 Item: G.I. JOE Hasbro 3 3/...\u001b[0m\n",
      "\u001b[92m53: Guess: $209.12 Truth: $171.44 Error: $37.69 SLE: 0.04 Item: T&S Brass Double Pan...\u001b[0m\n",
      "\u001b[91m54: Guess: $271.25 Truth: $458.00 Error: $186.75 SLE: 0.27 Item: ZTUOAUMA Fuel Inject...\u001b[0m\n",
      "\u001b[92m55: Guess: $156.38 Truth: $130.75 Error: $25.62 SLE: 0.03 Item: Hp Prime Graphing Ca...\u001b[0m\n",
      "\u001b[92m56: Guess: $55.69 Truth: $83.81 Error: $28.12 SLE: 0.16 Item: Lowrance Nmea 2000 2...\u001b[0m\n",
      "\u001b[93m57: Guess: $252.25 Truth: $386.39 Error: $134.14 SLE: 0.18 Item: Jeep Genuine Accesso...\u001b[0m\n",
      "\u001b[92m58: Guess: $165.75 Truth: $169.00 Error: $3.25 SLE: 0.00 Item: GODOX CB-06 Hard Car...\u001b[0m\n",
      "\u001b[92m59: Guess: $24.72 Truth: $17.95 Error: $6.77 SLE: 0.09 Item: Au-Tomotive Gold, IN...\u001b[0m\n",
      "\u001b[92m60: Guess: $289.50 Truth: $269.00 Error: $20.50 SLE: 0.01 Item: Snailfly Black Roof ...\u001b[0m\n",
      "\u001b[92m61: Guess: $75.31 Truth: $77.77 Error: $2.46 SLE: 0.00 Item: KING SHA Anti Glare ...\u001b[0m\n",
      "\u001b[92m62: Guess: $78.81 Truth: $88.99 Error: $10.18 SLE: 0.01 Item: APS Compatible with ...\u001b[0m\n",
      "\u001b[92m63: Guess: $309.50 Truth: $364.41 Error: $54.91 SLE: 0.03 Item: Wilwood Engineering ...\u001b[0m\n",
      "\u001b[92m64: Guess: $159.75 Truth: $127.03 Error: $32.72 SLE: 0.05 Item: ACDelco Gold Starter...\u001b[0m\n",
      "\u001b[92m65: Guess: $629.50 Truth: $778.95 Error: $149.45 SLE: 0.05 Item: UWS Matte Black Heav...\u001b[0m\n",
      "\u001b[92m66: Guess: $183.88 Truth: $206.66 Error: $22.78 SLE: 0.01 Item: Dell Latitude E5440 ...\u001b[0m\n",
      "\u001b[93m67: Guess: $104.94 Truth: $35.94 Error: $69.00 SLE: 1.11 Item: (Plug and Play) Spar...\u001b[0m\n",
      "\u001b[93m68: Guess: $224.50 Truth: $149.00 Error: $75.50 SLE: 0.17 Item: The Ultimate Roadsid...\u001b[0m\n",
      "\u001b[92m69: Guess: $216.75 Truth: $251.98 Error: $35.23 SLE: 0.02 Item: Brand New 18 x 8.5 R...\u001b[0m\n",
      "\u001b[92m70: Guess: $188.00 Truth: $160.00 Error: $28.00 SLE: 0.03 Item: Headlight Headlamp L...\u001b[0m\n",
      "\u001b[92m71: Guess: $37.38 Truth: $39.99 Error: $2.62 SLE: 0.00 Item: Lilo And Stitch Delu...\u001b[0m\n",
      "\u001b[92m72: Guess: $295.00 Truth: $362.41 Error: $67.41 SLE: 0.04 Item: AC Compressor & A/C ...\u001b[0m\n",
      "\u001b[91m73: Guess: $484.50 Truth: $344.00 Error: $140.50 SLE: 0.12 Item: House Of Troy Pinnac...\u001b[0m\n",
      "\u001b[92m74: Guess: $32.25 Truth: $25.09 Error: $7.16 SLE: 0.06 Item: Juno T29 WH Floating...\u001b[0m\n",
      "\u001b[91m75: Guess: $68.62 Truth: $175.95 Error: $107.32 SLE: 0.87 Item: Sherman GO-PARTS - f...\u001b[0m\n",
      "\u001b[91m76: Guess: $266.75 Truth: $132.64 Error: $134.11 SLE: 0.48 Item: Roland RPU-3 Electro...\u001b[0m\n",
      "\u001b[92m77: Guess: $340.00 Truth: $422.99 Error: $82.99 SLE: 0.05 Item: Rockland VMI14 12,00...\u001b[0m\n",
      "\u001b[92m78: Guess: $145.88 Truth: $146.48 Error: $0.60 SLE: 0.00 Item: Max Advanced Brakes ...\u001b[0m\n",
      "\u001b[92m79: Guess: $152.00 Truth: $156.83 Error: $4.83 SLE: 0.00 Item: Quality-Built 11030 ...\u001b[0m\n",
      "\u001b[91m80: Guess: $147.00 Truth: $251.99 Error: $104.99 SLE: 0.29 Item: Lucida LG-510 Studen...\u001b[0m\n",
      "\u001b[91m81: Guess: $165.00 Truth: $940.33 Error: $775.33 SLE: 3.01 Item: Longacre Aluminum Tu...\u001b[0m\n",
      "\u001b[93m82: Guess: $122.00 Truth: $52.99 Error: $69.01 SLE: 0.68 Item: Motion Pro Adjustabl...\u001b[0m\n",
      "\u001b[92m83: Guess: $260.00 Truth: $219.95 Error: $40.05 SLE: 0.03 Item: Glyph Thunderbolt 3 ...\u001b[0m\n",
      "\u001b[93m84: Guess: $295.75 Truth: $441.03 Error: $145.28 SLE: 0.16 Item: TOYO Open Country MT...\u001b[0m\n",
      "\u001b[92m85: Guess: $145.38 Truth: $168.98 Error: $23.60 SLE: 0.02 Item: Razer Seiren X USB S...\u001b[0m\n",
      "\u001b[92m86: Guess: $3.87 Truth: $2.49 Error: $1.38 SLE: 0.11 Item: Happy Birthday to Da...\u001b[0m\n",
      "\u001b[92m87: Guess: $111.00 Truth: $98.62 Error: $12.38 SLE: 0.01 Item: Little Tikes My Real...\u001b[0m\n",
      "\u001b[93m88: Guess: $328.00 Truth: $256.95 Error: $71.05 SLE: 0.06 Item: Studio M Peace and H...\u001b[0m\n",
      "\u001b[92m89: Guess: $19.09 Truth: $30.99 Error: $11.90 SLE: 0.22 Item: MyVolts 12V Power Su...\u001b[0m\n",
      "\u001b[92m90: Guess: $595.00 Truth: $569.84 Error: $25.16 SLE: 0.00 Item: Dell Latitude 7212 R...\u001b[0m\n",
      "\u001b[92m91: Guess: $188.50 Truth: $177.99 Error: $10.51 SLE: 0.00 Item: Covermates Contour F...\u001b[0m\n",
      "\u001b[92m92: Guess: $994.00 Truth: $997.99 Error: $3.99 SLE: 0.00 Item: Westin Black HDX Gri...\u001b[0m\n",
      "\u001b[93m93: Guess: $275.50 Truth: $219.00 Error: $56.50 SLE: 0.05 Item: Fieldpiece JL2 Job L...\u001b[0m\n",
      "\u001b[93m94: Guess: $168.62 Truth: $225.55 Error: $56.93 SLE: 0.08 Item: hansgrohe Talis S Mo...\u001b[0m\n",
      "\u001b[91m95: Guess: $717.00 Truth: $495.95 Error: $221.05 SLE: 0.14 Item: G-Technology G-SPEED...\u001b[0m\n",
      "\u001b[92m96: Guess: $892.00 Truth: $942.37 Error: $50.37 SLE: 0.00 Item: DreamLine Shower Doo...\u001b[0m\n",
      "\u001b[92m97: Guess: $20.70 Truth: $1.94 Error: $18.76 SLE: 4.00 Item: Sanctuary Square Bac...\u001b[0m\n",
      "\u001b[93m98: Guess: $223.75 Truth: $284.34 Error: $60.59 SLE: 0.06 Item: Pelican Protector 17...\u001b[0m\n",
      "\u001b[92m99: Guess: $158.88 Truth: $171.90 Error: $13.03 SLE: 0.01 Item: Brock Replacement Dr...\u001b[0m\n",
      "\u001b[91m100: Guess: $261.75 Truth: $144.99 Error: $116.76 SLE: 0.35 Item: Carlinkit Ai Box Min...\u001b[0m\n",
      "\u001b[93m101: Guess: $327.50 Truth: $470.47 Error: $142.97 SLE: 0.13 Item: StarDot YouTube Live...\u001b[0m\n",
      "\u001b[92m102: Guess: $52.97 Truth: $66.95 Error: $13.98 SLE: 0.05 Item: Atomic Compatible ME...\u001b[0m\n",
      "\u001b[92m103: Guess: $98.00 Truth: $117.00 Error: $19.00 SLE: 0.03 Item: Bandai Awakening of ...\u001b[0m\n",
      "\u001b[93m104: Guess: $250.00 Truth: $172.14 Error: $77.86 SLE: 0.14 Item: Fit System 62135G Pa...\u001b[0m\n",
      "\u001b[92m105: Guess: $396.50 Truth: $392.74 Error: $3.76 SLE: 0.00 Item: Black Horse Black Al...\u001b[0m\n",
      "\u001b[92m106: Guess: $18.23 Truth: $16.99 Error: $1.24 SLE: 0.00 Item: Dearsun Twinkle Star...\u001b[0m\n",
      "\u001b[92m107: Guess: $1.24 Truth: $1.34 Error: $0.10 SLE: 0.00 Item: Pokemon - Gallade Sp...\u001b[0m\n",
      "\u001b[93m108: Guess: $252.50 Truth: $349.98 Error: $97.48 SLE: 0.11 Item: Ibanez GIO Series Cl...\u001b[0m\n",
      "\u001b[93m109: Guess: $467.75 Truth: $370.71 Error: $97.04 SLE: 0.05 Item: Set 2 Heavy Duty 12 ...\u001b[0m\n",
      "\u001b[92m110: Guess: $94.38 Truth: $65.88 Error: $28.50 SLE: 0.13 Item: Hairpin Table Legs 2...\u001b[0m\n",
      "\u001b[92m111: Guess: $225.62 Truth: $229.99 Error: $4.37 SLE: 0.00 Item: Marada Racing Seat w...\u001b[0m\n",
      "\u001b[92m112: Guess: $8.05 Truth: $9.14 Error: $1.09 SLE: 0.01 Item: Remington Industries...\u001b[0m\n",
      "\u001b[91m113: Guess: $331.00 Truth: $199.00 Error: $132.00 SLE: 0.26 Item: Acer Ultrabook, Inte...\u001b[0m\n",
      "\u001b[91m114: Guess: $283.50 Truth: $109.99 Error: $173.51 SLE: 0.89 Item: ICBEAMER 7 RGB LED H...\u001b[0m\n",
      "\u001b[93m115: Guess: $433.50 Truth: $570.42 Error: $136.92 SLE: 0.08 Item: R1 Concepts Front Re...\u001b[0m\n",
      "\u001b[93m116: Guess: $179.00 Truth: $279.99 Error: $100.99 SLE: 0.20 Item: Camplux 2.64 GPM Tan...\u001b[0m\n",
      "\u001b[92m117: Guess: $29.20 Truth: $30.99 Error: $1.79 SLE: 0.00 Item: KNOKLOCK 10 Pack 3.7...\u001b[0m\n",
      "\u001b[92m118: Guess: $44.75 Truth: $31.99 Error: $12.76 SLE: 0.11 Item: Valley Enterprises Y...\u001b[0m\n",
      "\u001b[92m119: Guess: $40.62 Truth: $15.90 Error: $24.73 SLE: 0.81 Item: G9 LED Light 100W re...\u001b[0m\n",
      "\u001b[92m120: Guess: $72.12 Truth: $45.99 Error: $26.13 SLE: 0.20 Item: ZCHAOZ 4 Lights Anti...\u001b[0m\n",
      "\u001b[93m121: Guess: $187.25 Truth: $113.52 Error: $73.73 SLE: 0.25 Item: Honeywell Honeywell ...\u001b[0m\n",
      "\u001b[93m122: Guess: $332.50 Truth: $516.99 Error: $184.49 SLE: 0.19 Item: Patriot Exhaust 1-7/...\u001b[0m\n",
      "\u001b[91m123: Guess: $112.00 Truth: $196.99 Error: $84.99 SLE: 0.31 Item: Fitrite Autopart New...\u001b[0m\n",
      "\u001b[92m124: Guess: $22.20 Truth: $46.55 Error: $24.35 SLE: 0.51 Item: Technical Precision ...\u001b[0m\n",
      "\u001b[92m125: Guess: $331.00 Truth: $356.99 Error: $25.99 SLE: 0.01 Item: Covercraft Carhartt ...\u001b[0m\n",
      "\u001b[92m126: Guess: $348.75 Truth: $319.95 Error: $28.80 SLE: 0.01 Item: Sennheiser SD Pro 2 ...\u001b[0m\n",
      "\u001b[92m127: Guess: $89.81 Truth: $96.06 Error: $6.25 SLE: 0.00 Item: Hitachi Mass Air Flo...\u001b[0m\n",
      "\u001b[91m128: Guess: $281.50 Truth: $190.99 Error: $90.51 SLE: 0.15 Item: AmScope LED Cordless...\u001b[0m\n",
      "\u001b[93m129: Guess: $175.12 Truth: $257.95 Error: $82.82 SLE: 0.15 Item: Front Left Driver Si...\u001b[0m\n",
      "\u001b[92m130: Guess: $90.88 Truth: $62.95 Error: $27.92 SLE: 0.13 Item: Premium Replica Hubc...\u001b[0m\n",
      "\u001b[92m131: Guess: $85.50 Truth: $47.66 Error: $37.84 SLE: 0.33 Item: Excellerations Phoni...\u001b[0m\n",
      "\u001b[93m132: Guess: $167.50 Truth: $226.99 Error: $59.49 SLE: 0.09 Item: RC4WD BigDog Dual Ax...\u001b[0m\n",
      "\u001b[93m133: Guess: $276.50 Truth: $359.95 Error: $83.45 SLE: 0.07 Item: Unknown Stage 2 Clut...\u001b[0m\n",
      "\u001b[92m134: Guess: $91.38 Truth: $78.40 Error: $12.97 SLE: 0.02 Item: Dodge Ram 1500 Mopar...\u001b[0m\n",
      "\u001b[92m135: Guess: $165.00 Truth: $172.77 Error: $7.77 SLE: 0.00 Item: Pro Comp Alloys Seri...\u001b[0m\n",
      "\u001b[92m136: Guess: $316.25 Truth: $316.45 Error: $0.20 SLE: 0.00 Item: Detroit Axle - Front...\u001b[0m\n",
      "\u001b[92m137: Guess: $103.50 Truth: $87.99 Error: $15.51 SLE: 0.03 Item: ECCPP Rear Wheel Axl...\u001b[0m\n",
      "\u001b[93m138: Guess: $279.25 Truth: $226.63 Error: $52.62 SLE: 0.04 Item: Dell Latitude E6520 ...\u001b[0m\n",
      "\u001b[92m139: Guess: $28.31 Truth: $31.49 Error: $3.18 SLE: 0.01 Item: F FIERCE CYCLE 251pc...\u001b[0m\n",
      "\u001b[91m140: Guess: $289.75 Truth: $196.00 Error: $93.75 SLE: 0.15 Item: Flash Furniture 4 Pk...\u001b[0m\n",
      "\u001b[92m141: Guess: $58.22 Truth: $78.40 Error: $20.18 SLE: 0.09 Item: B&M 30287 Throttle V...\u001b[0m\n",
      "\u001b[92m142: Guess: $151.62 Truth: $116.25 Error: $35.38 SLE: 0.07 Item: Gates TCK226 PowerGr...\u001b[0m\n",
      "\u001b[92m143: Guess: $115.50 Truth: $112.78 Error: $2.72 SLE: 0.00 Item: Monroe Shocks & Stru...\u001b[0m\n",
      "\u001b[92m144: Guess: $63.50 Truth: $27.32 Error: $36.18 SLE: 0.68 Item: Feit Electric 35W EQ...\u001b[0m\n",
      "\u001b[93m145: Guess: $86.75 Truth: $145.91 Error: $59.16 SLE: 0.27 Item: Yellow Jacket 2806 C...\u001b[0m\n",
      "\u001b[91m146: Guess: $315.00 Truth: $171.09 Error: $143.91 SLE: 0.37 Item: Garage-Pro Tailgate ...\u001b[0m\n",
      "\u001b[93m147: Guess: $111.00 Truth: $167.95 Error: $56.95 SLE: 0.17 Item: 3M Perfect It Buffin...\u001b[0m\n",
      "\u001b[92m148: Guess: $45.44 Truth: $28.49 Error: $16.95 SLE: 0.21 Item: Chinese Style Dollho...\u001b[0m\n",
      "\u001b[92m149: Guess: $103.00 Truth: $122.23 Error: $19.23 SLE: 0.03 Item: Generic NRG Innovati...\u001b[0m\n",
      "\u001b[92m150: Guess: $54.25 Truth: $32.99 Error: $21.26 SLE: 0.24 Item: Learning Resources C...\u001b[0m\n",
      "\u001b[92m151: Guess: $45.19 Truth: $71.20 Error: $26.01 SLE: 0.20 Item: Bosch Automotive 154...\u001b[0m\n",
      "\u001b[93m152: Guess: $56.22 Truth: $112.75 Error: $56.53 SLE: 0.47 Item: Case of 24-2 Inch Bl...\u001b[0m\n",
      "\u001b[93m153: Guess: $96.88 Truth: $142.43 Error: $45.56 SLE: 0.15 Item: MOCA Engine Water Pu...\u001b[0m\n",
      "\u001b[93m154: Guess: $277.00 Truth: $398.99 Error: $121.99 SLE: 0.13 Item: SAREMAS Foot Step Ba...\u001b[0m\n",
      "\u001b[91m155: Guess: $712.00 Truth: $449.00 Error: $263.00 SLE: 0.21 Item: Gretsch G9210 Square...\u001b[0m\n",
      "\u001b[93m156: Guess: $129.88 Truth: $189.00 Error: $59.12 SLE: 0.14 Item: NikoMaku Mirror Dash...\u001b[0m\n",
      "\u001b[92m157: Guess: $107.62 Truth: $120.91 Error: $13.28 SLE: 0.01 Item: Fenix HP25R v2.0 USB...\u001b[0m\n",
      "\u001b[92m158: Guess: $184.25 Truth: $203.53 Error: $19.28 SLE: 0.01 Item: R&L Racing Heavy Dut...\u001b[0m\n",
      "\u001b[92m159: Guess: $368.25 Truth: $349.99 Error: $18.26 SLE: 0.00 Item: Garmin GPSMAP 64sx, ...\u001b[0m\n",
      "\u001b[92m160: Guess: $21.97 Truth: $34.35 Error: $12.38 SLE: 0.19 Item: Brown 5-7/8 X 8-1/2 ...\u001b[0m\n",
      "\u001b[93m161: Guess: $270.75 Truth: $384.99 Error: $114.24 SLE: 0.12 Item: GAOMON PD2200 Pen Di...\u001b[0m\n",
      "\u001b[93m162: Guess: $156.50 Truth: $211.00 Error: $54.50 SLE: 0.09 Item: VXMOTOR for 97-03 Fo...\u001b[0m\n",
      "\u001b[92m163: Guess: $155.25 Truth: $129.00 Error: $26.25 SLE: 0.03 Item: HP EliteBook 2540p I...\u001b[0m\n",
      "\u001b[91m164: Guess: $30.92 Truth: $111.45 Error: $80.53 SLE: 1.59 Item: Green EPX Mixing Noz...\u001b[0m\n",
      "\u001b[93m165: Guess: $30.47 Truth: $81.12 Error: $50.65 SLE: 0.92 Item: Box Partners 6 1/4 x...\u001b[0m\n",
      "\u001b[92m166: Guess: $372.00 Truth: $457.08 Error: $85.08 SLE: 0.04 Item: Vixen Air 1/2 NPT Ai...\u001b[0m\n",
      "\u001b[92m167: Guess: $69.31 Truth: $49.49 Error: $19.82 SLE: 0.11 Item: Smart Floor Lamp, Mu...\u001b[0m\n",
      "\u001b[92m168: Guess: $100.12 Truth: $80.56 Error: $19.56 SLE: 0.05 Item: SOZG 324mm Wheelbase...\u001b[0m\n",
      "\u001b[92m169: Guess: $272.75 Truth: $278.39 Error: $5.64 SLE: 0.00 Item: Mickey Thompson ET S...\u001b[0m\n",
      "\u001b[92m170: Guess: $373.75 Truth: $364.50 Error: $9.25 SLE: 0.00 Item: Pirelli 106W XL RFT ...\u001b[0m\n",
      "\u001b[93m171: Guess: $297.50 Truth: $378.99 Error: $81.49 SLE: 0.06 Item: Torklift C3212 Rear ...\u001b[0m\n",
      "\u001b[91m172: Guess: $293.50 Truth: $165.28 Error: $128.22 SLE: 0.33 Item: Cardone Remanufactur...\u001b[0m\n",
      "\u001b[92m173: Guess: $82.50 Truth: $56.74 Error: $25.76 SLE: 0.14 Item: Kidde AccessPoint 00...\u001b[0m\n",
      "\u001b[92m174: Guess: $304.00 Truth: $307.95 Error: $3.95 SLE: 0.00 Item: 3M Protecta Self Ret...\u001b[0m\n",
      "\u001b[92m175: Guess: $69.75 Truth: $38.00 Error: $31.75 SLE: 0.35 Item: Plantronics Wired He...\u001b[0m\n",
      "\u001b[91m176: Guess: $301.75 Truth: $53.00 Error: $248.75 SLE: 2.97 Item: Logitech K750 Wirele...\u001b[0m\n",
      "\u001b[92m177: Guess: $573.50 Truth: $498.00 Error: $75.50 SLE: 0.02 Item: Olympus PEN E-PL9 Bo...\u001b[0m\n",
      "\u001b[92m178: Guess: $90.81 Truth: $53.99 Error: $36.82 SLE: 0.26 Item: Beck/Arnley Hub & Be...\u001b[0m\n",
      "\u001b[92m179: Guess: $349.50 Truth: $350.00 Error: $0.50 SLE: 0.00 Item: Eibach Pro-Kit Perfo...\u001b[0m\n",
      "\u001b[93m180: Guess: $226.75 Truth: $299.95 Error: $73.20 SLE: 0.08 Item: LEGO DC Batman 1989 ...\u001b[0m\n",
      "\u001b[92m181: Guess: $84.44 Truth: $94.93 Error: $10.49 SLE: 0.01 Item: Kingston Brass Resto...\u001b[0m\n",
      "\u001b[92m182: Guess: $311.25 Truth: $379.00 Error: $67.75 SLE: 0.04 Item: Polk Vanishing Serie...\u001b[0m\n",
      "\u001b[92m183: Guess: $255.75 Truth: $299.95 Error: $44.20 SLE: 0.03 Item: Spec-D Tuning LED Pr...\u001b[0m\n",
      "\u001b[92m184: Guess: $22.80 Truth: $24.99 Error: $2.19 SLE: 0.01 Item: RICHMOND & FINCH Air...\u001b[0m\n",
      "\u001b[93m185: Guess: $90.56 Truth: $41.04 Error: $49.52 SLE: 0.61 Item: LFA Industries - mm ...\u001b[0m\n",
      "\u001b[91m186: Guess: $126.62 Truth: $327.90 Error: $201.27 SLE: 0.90 Item: SAUTVS LED Headlight...\u001b[0m\n",
      "\u001b[92m187: Guess: $27.00 Truth: $10.99 Error: $16.01 SLE: 0.72 Item: 2 Pack Combo Womens ...\u001b[0m\n",
      "\u001b[92m188: Guess: $15.12 Truth: $14.99 Error: $0.13 SLE: 0.00 Item: Arepa - Venezuelan c...\u001b[0m\n",
      "\u001b[93m189: Guess: $22.30 Truth: $84.95 Error: $62.65 SLE: 1.70 Item: Schlage Lock Company...\u001b[0m\n",
      "\u001b[92m190: Guess: $111.75 Truth: $111.00 Error: $0.75 SLE: 0.00 Item: Techni Mobili White ...\u001b[0m\n",
      "\u001b[93m191: Guess: $175.62 Truth: $123.73 Error: $51.89 SLE: 0.12 Item: Special Lite Product...\u001b[0m\n",
      "\u001b[91m192: Guess: $322.50 Truth: $557.38 Error: $234.88 SLE: 0.30 Item: Tascam Digital Porta...\u001b[0m\n",
      "\u001b[92m193: Guess: $103.44 Truth: $95.55 Error: $7.89 SLE: 0.01 Item: Glow Lighting Vista ...\u001b[0m\n",
      "\u001b[93m194: Guess: $106.06 Truth: $154.00 Error: $47.94 SLE: 0.14 Item: Z3 Wind Deflector, S...\u001b[0m\n",
      "\u001b[92m195: Guess: $200.00 Truth: $198.99 Error: $1.01 SLE: 0.00 Item: Olympus E-20 5MP Dig...\u001b[0m\n",
      "\u001b[91m196: Guess: $179.75 Truth: $430.44 Error: $250.69 SLE: 0.76 Item: PHYNEDI 1 1000 World...\u001b[0m\n",
      "\u001b[92m197: Guess: $20.42 Truth: $45.67 Error: $25.25 SLE: 0.61 Item: YANGHUAN Unstable Un...\u001b[0m\n",
      "\u001b[92m198: Guess: $272.00 Truth: $249.00 Error: $23.00 SLE: 0.01 Item: Interlogix NetworX T...\u001b[0m\n",
      "\u001b[92m199: Guess: $10.31 Truth: $42.99 Error: $32.68 SLE: 1.84 Item: Steering Damper,Univ...\u001b[0m\n",
      "\u001b[93m200: Guess: $114.25 Truth: $181.33 Error: $67.08 SLE: 0.21 Item: Amprobe TIC 410A Hot...\u001b[0m\n"
     ]
    },
    {
     "data": {
      "image/png": "[encoded data removed]",
      "text/plain": [
       "<Figure size 1200x800 with 1 Axes>"
      ]
     },
     "metadata": {},
     "output_type": "display_data"
    },
    {
     "name": "stdout",
     "output_type": "stream",
     "text": [
      "{'avg_error': 54.464722070312526, 'rmsle': 0.46026090647832746, 'hits_percent': 65.0}\n"
     ]
    }
   ],
   "source": [
    "results = llama_evaluation(\"/home/lisa/Arupreza/ShopAI/price_llama_lora/checkpoint-20000\", test_amount=200)\n",
    "print(results)"
   ]
  },
  {
   "cell_type": "code",
   "execution_count": null,
   "id": "1b641e3f",
   "metadata": {},
   "outputs": [],
   "source": []
  },
  {
   "cell_type": "code",
   "execution_count": null,
   "id": "141abf9f",
   "metadata": {},
   "outputs": [],
   "source": []
  },
  {
   "cell_type": "code",
   "execution_count": null,
   "id": "5b32ffd2",
   "metadata": {},
   "outputs": [],
   "source": []
  },
  {
   "cell_type": "code",
   "execution_count": null,
   "id": "0cea023d",
   "metadata": {},
   "outputs": [],
   "source": []
  },
  {
   "cell_type": "code",
   "execution_count": null,
   "id": "ecc81d6d",
   "metadata": {},
   "outputs": [],
   "source": []
  },
  {
   "cell_type": "code",
   "execution_count": 1,
   "id": "bfbed3d7",
   "metadata": {},
   "outputs": [
    {
     "name": "stderr",
     "output_type": "stream",
     "text": [
      "Note: Environment variable`HF_TOKEN` is set and is the current active token independently from the token you've just configured.\n",
      "\u001b[34m\u001b[1mwandb\u001b[0m: \u001b[33mWARNING\u001b[0m If you're specifying your api key in code, ensure this code is not shared publicly.\n",
      "\u001b[34m\u001b[1mwandb\u001b[0m: \u001b[33mWARNING\u001b[0m Consider setting the WANDB_API_KEY environment variable, or running `wandb login` from the command line.\n",
      "\u001b[34m\u001b[1mwandb\u001b[0m: Appending key for api.wandb.ai to your netrc file: /home/lisa/.netrc\n",
      "\u001b[34m\u001b[1mwandb\u001b[0m: Currently logged in as: \u001b[33marupreza\u001b[0m (\u001b[33marupreza-soonchunhyang-university\u001b[0m) to \u001b[32mhttps://api.wandb.ai\u001b[0m. Use \u001b[1m`wandb login --relogin`\u001b[0m to force relogin\n"
     ]
    },
    {
     "data": {
      "application/vnd.jupyter.widget-view+json": {
       "model_id": "91299c4ef99f4cb6a79924a5d9a27910",
       "version_major": 2,
       "version_minor": 0
      },
      "text/plain": [
       "Loading checkpoint shards:   0%|          | 0/5 [00:00<?, ?it/s]"
      ]
     },
     "metadata": {},
     "output_type": "display_data"
    },
    {
     "name": "stdout",
     "output_type": "stream",
     "text": [
      "Memory footprint: 5962.8 MB\n"
     ]
    },
    {
     "name": "stderr",
     "output_type": "stream",
     "text": [
      "The tokenizer has new PAD/BOS/EOS tokens that differ from the model config and generation config. The model config and generation config were aligned accordingly, being updated with the tokenizer's values. Updated tokens: {'bos_token_id': None, 'pad_token_id': 151643}.\n"
     ]
    },
    {
     "data": {
      "text/html": [
       "creating run (0.2s)"
      ],
      "text/plain": [
       "<IPython.core.display.HTML object>"
      ]
     },
     "metadata": {},
     "output_type": "display_data"
    },
    {
     "data": {
      "text/html": [
       "Tracking run with wandb version 0.21.3"
      ],
      "text/plain": [
       "<IPython.core.display.HTML object>"
      ]
     },
     "metadata": {},
     "output_type": "display_data"
    },
    {
     "data": {
      "text/html": [
       "Run data is saved locally in <code>/home/lisa/Arupreza/ShopAI/wandb/run-20250914_140126-czn5qx6a</code>"
      ],
      "text/plain": [
       "<IPython.core.display.HTML object>"
      ]
     },
     "metadata": {},
     "output_type": "display_data"
    },
    {
     "data": {
      "text/html": [
       "Syncing run <strong><a href='https://wandb.ai/arupreza-soonchunhyang-university/huggingface/runs/czn5qx6a' target=\"_blank\">trial_1</a></strong> to <a href='https://wandb.ai/arupreza-soonchunhyang-university/huggingface' target=\"_blank\">Weights & Biases</a> (<a href='https://wandb.me/developer-guide' target=\"_blank\">docs</a>)<br>"
      ],
      "text/plain": [
       "<IPython.core.display.HTML object>"
      ]
     },
     "metadata": {},
     "output_type": "display_data"
    },
    {
     "data": {
      "text/html": [
       " View project at <a href='https://wandb.ai/arupreza-soonchunhyang-university/huggingface' target=\"_blank\">https://wandb.ai/arupreza-soonchunhyang-university/huggingface</a>"
      ],
      "text/plain": [
       "<IPython.core.display.HTML object>"
      ]
     },
     "metadata": {},
     "output_type": "display_data"
    },
    {
     "data": {
      "text/html": [
       " View run at <a href='https://wandb.ai/arupreza-soonchunhyang-university/huggingface/runs/czn5qx6a' target=\"_blank\">https://wandb.ai/arupreza-soonchunhyang-university/huggingface/runs/czn5qx6a</a>"
      ],
      "text/plain": [
       "<IPython.core.display.HTML object>"
      ]
     },
     "metadata": {},
     "output_type": "display_data"
    },
    {
     "data": {
      "text/html": [
       "\n",
       "    <div>\n",
       "      \n",
       "      <progress value='20835' max='20835' style='width:300px; height:20px; vertical-align: middle;'></progress>\n",
       "      [20835/20835 26:29:00, Epoch 5/5]\n",
       "    </div>\n",
       "    <table border=\"1\" class=\"dataframe\">\n",
       "  <thead>\n",
       " <tr style=\"text-align: left;\">\n",
       "      <th>Step</th>\n",
       "      <th>Training Loss</th>\n",
       "      <th>Validation Loss</th>\n",
       "    </tr>\n",
       "  </thead>\n",
       "  <tbody>\n",
       "    <tr>\n",
       "      <td>200</td>\n",
       "      <td>2.604400</td>\n",
       "      <td>2.574637</td>\n",
       "    </tr>\n",
       "    <tr>\n",
       "      <td>400</td>\n",
       "      <td>2.450700</td>\n",
       "      <td>2.424467</td>\n",
       "    </tr>\n",
       "    <tr>\n",
       "      <td>600</td>\n",
       "      <td>2.332800</td>\n",
       "      <td>2.365294</td>\n",
       "    </tr>\n",
       "    <tr>\n",
       "      <td>800</td>\n",
       "      <td>2.297100</td>\n",
       "      <td>2.302678</td>\n",
       "    </tr>\n",
       "    <tr>\n",
       "      <td>1000</td>\n",
       "      <td>2.254000</td>\n",
       "      <td>2.253749</td>\n",
       "    </tr>\n",
       "    <tr>\n",
       "      <td>1200</td>\n",
       "      <td>2.202700</td>\n",
       "      <td>2.223572</td>\n",
       "    </tr>\n",
       "    <tr>\n",
       "      <td>1400</td>\n",
       "      <td>2.240100</td>\n",
       "      <td>2.196068</td>\n",
       "    </tr>\n",
       "    <tr>\n",
       "      <td>1600</td>\n",
       "      <td>2.182700</td>\n",
       "      <td>2.173706</td>\n",
       "    </tr>\n",
       "    <tr>\n",
       "      <td>1800</td>\n",
       "      <td>2.158600</td>\n",
       "      <td>2.156249</td>\n",
       "    </tr>\n",
       "    <tr>\n",
       "      <td>2000</td>\n",
       "      <td>2.159800</td>\n",
       "      <td>2.140558</td>\n",
       "    </tr>\n",
       "    <tr>\n",
       "      <td>2200</td>\n",
       "      <td>2.135200</td>\n",
       "      <td>2.126512</td>\n",
       "    </tr>\n",
       "    <tr>\n",
       "      <td>2400</td>\n",
       "      <td>2.180500</td>\n",
       "      <td>2.110631</td>\n",
       "    </tr>\n",
       "    <tr>\n",
       "      <td>2600</td>\n",
       "      <td>2.119400</td>\n",
       "      <td>2.097551</td>\n",
       "    </tr>\n",
       "    <tr>\n",
       "      <td>2800</td>\n",
       "      <td>2.087200</td>\n",
       "      <td>2.085056</td>\n",
       "    </tr>\n",
       "    <tr>\n",
       "      <td>3000</td>\n",
       "      <td>2.074300</td>\n",
       "      <td>2.076684</td>\n",
       "    </tr>\n",
       "    <tr>\n",
       "      <td>3200</td>\n",
       "      <td>2.080500</td>\n",
       "      <td>2.063102</td>\n",
       "    </tr>\n",
       "    <tr>\n",
       "      <td>3400</td>\n",
       "      <td>2.083700</td>\n",
       "      <td>2.053024</td>\n",
       "    </tr>\n",
       "    <tr>\n",
       "      <td>3600</td>\n",
       "      <td>2.062700</td>\n",
       "      <td>2.043285</td>\n",
       "    </tr>\n",
       "    <tr>\n",
       "      <td>3800</td>\n",
       "      <td>2.091500</td>\n",
       "      <td>2.035614</td>\n",
       "    </tr>\n",
       "    <tr>\n",
       "      <td>4000</td>\n",
       "      <td>2.046200</td>\n",
       "      <td>2.026163</td>\n",
       "    </tr>\n",
       "    <tr>\n",
       "      <td>4200</td>\n",
       "      <td>1.979400</td>\n",
       "      <td>2.018247</td>\n",
       "    </tr>\n",
       "    <tr>\n",
       "      <td>4400</td>\n",
       "      <td>2.031500</td>\n",
       "      <td>2.012520</td>\n",
       "    </tr>\n",
       "    <tr>\n",
       "      <td>4600</td>\n",
       "      <td>1.997200</td>\n",
       "      <td>2.003908</td>\n",
       "    </tr>\n",
       "    <tr>\n",
       "      <td>4800</td>\n",
       "      <td>1.996100</td>\n",
       "      <td>1.995476</td>\n",
       "    </tr>\n",
       "    <tr>\n",
       "      <td>5000</td>\n",
       "      <td>2.003800</td>\n",
       "      <td>1.989352</td>\n",
       "    </tr>\n",
       "    <tr>\n",
       "      <td>5200</td>\n",
       "      <td>1.989600</td>\n",
       "      <td>1.981054</td>\n",
       "    </tr>\n",
       "    <tr>\n",
       "      <td>5400</td>\n",
       "      <td>1.944300</td>\n",
       "      <td>1.973825</td>\n",
       "    </tr>\n",
       "    <tr>\n",
       "      <td>5600</td>\n",
       "      <td>1.986600</td>\n",
       "      <td>1.968860</td>\n",
       "    </tr>\n",
       "    <tr>\n",
       "      <td>5800</td>\n",
       "      <td>1.968500</td>\n",
       "      <td>1.963685</td>\n",
       "    </tr>\n",
       "    <tr>\n",
       "      <td>6000</td>\n",
       "      <td>1.955700</td>\n",
       "      <td>1.957525</td>\n",
       "    </tr>\n",
       "    <tr>\n",
       "      <td>6200</td>\n",
       "      <td>1.956700</td>\n",
       "      <td>1.953500</td>\n",
       "    </tr>\n",
       "    <tr>\n",
       "      <td>6400</td>\n",
       "      <td>1.958100</td>\n",
       "      <td>1.946259</td>\n",
       "    </tr>\n",
       "    <tr>\n",
       "      <td>6600</td>\n",
       "      <td>1.947600</td>\n",
       "      <td>1.941352</td>\n",
       "    </tr>\n",
       "    <tr>\n",
       "      <td>6800</td>\n",
       "      <td>1.917100</td>\n",
       "      <td>1.936402</td>\n",
       "    </tr>\n",
       "    <tr>\n",
       "      <td>7000</td>\n",
       "      <td>1.953500</td>\n",
       "      <td>1.933907</td>\n",
       "    </tr>\n",
       "    <tr>\n",
       "      <td>7200</td>\n",
       "      <td>1.912000</td>\n",
       "      <td>1.928534</td>\n",
       "    </tr>\n",
       "    <tr>\n",
       "      <td>7400</td>\n",
       "      <td>1.909600</td>\n",
       "      <td>1.925994</td>\n",
       "    </tr>\n",
       "    <tr>\n",
       "      <td>7600</td>\n",
       "      <td>1.906400</td>\n",
       "      <td>1.920205</td>\n",
       "    </tr>\n",
       "    <tr>\n",
       "      <td>7800</td>\n",
       "      <td>1.922100</td>\n",
       "      <td>1.917019</td>\n",
       "    </tr>\n",
       "    <tr>\n",
       "      <td>8000</td>\n",
       "      <td>1.954400</td>\n",
       "      <td>1.911740</td>\n",
       "    </tr>\n",
       "    <tr>\n",
       "      <td>8200</td>\n",
       "      <td>1.899600</td>\n",
       "      <td>1.907945</td>\n",
       "    </tr>\n",
       "    <tr>\n",
       "      <td>8400</td>\n",
       "      <td>1.826800</td>\n",
       "      <td>1.904833</td>\n",
       "    </tr>\n",
       "    <tr>\n",
       "      <td>8600</td>\n",
       "      <td>1.850000</td>\n",
       "      <td>1.907225</td>\n",
       "    </tr>\n",
       "    <tr>\n",
       "      <td>8800</td>\n",
       "      <td>1.825800</td>\n",
       "      <td>1.902716</td>\n",
       "    </tr>\n",
       "    <tr>\n",
       "      <td>9000</td>\n",
       "      <td>1.874300</td>\n",
       "      <td>1.899660</td>\n",
       "    </tr>\n",
       "    <tr>\n",
       "      <td>9200</td>\n",
       "      <td>1.879000</td>\n",
       "      <td>1.896961</td>\n",
       "    </tr>\n",
       "    <tr>\n",
       "      <td>9400</td>\n",
       "      <td>1.839200</td>\n",
       "      <td>1.892532</td>\n",
       "    </tr>\n",
       "    <tr>\n",
       "      <td>9600</td>\n",
       "      <td>1.832200</td>\n",
       "      <td>1.891723</td>\n",
       "    </tr>\n",
       "    <tr>\n",
       "      <td>9800</td>\n",
       "      <td>1.812400</td>\n",
       "      <td>1.884987</td>\n",
       "    </tr>\n",
       "    <tr>\n",
       "      <td>10000</td>\n",
       "      <td>1.869400</td>\n",
       "      <td>1.882912</td>\n",
       "    </tr>\n",
       "    <tr>\n",
       "      <td>10200</td>\n",
       "      <td>1.807400</td>\n",
       "      <td>1.879256</td>\n",
       "    </tr>\n",
       "    <tr>\n",
       "      <td>10400</td>\n",
       "      <td>1.832500</td>\n",
       "      <td>1.879168</td>\n",
       "    </tr>\n",
       "    <tr>\n",
       "      <td>10600</td>\n",
       "      <td>1.806700</td>\n",
       "      <td>1.875232</td>\n",
       "    </tr>\n",
       "    <tr>\n",
       "      <td>10800</td>\n",
       "      <td>1.838800</td>\n",
       "      <td>1.872325</td>\n",
       "    </tr>\n",
       "    <tr>\n",
       "      <td>11000</td>\n",
       "      <td>1.795400</td>\n",
       "      <td>1.870992</td>\n",
       "    </tr>\n",
       "    <tr>\n",
       "      <td>11200</td>\n",
       "      <td>1.819700</td>\n",
       "      <td>1.867642</td>\n",
       "    </tr>\n",
       "    <tr>\n",
       "      <td>11400</td>\n",
       "      <td>1.795300</td>\n",
       "      <td>1.866333</td>\n",
       "    </tr>\n",
       "    <tr>\n",
       "      <td>11600</td>\n",
       "      <td>1.783500</td>\n",
       "      <td>1.863895</td>\n",
       "    </tr>\n",
       "    <tr>\n",
       "      <td>11800</td>\n",
       "      <td>1.841200</td>\n",
       "      <td>1.863511</td>\n",
       "    </tr>\n",
       "    <tr>\n",
       "      <td>12000</td>\n",
       "      <td>1.782100</td>\n",
       "      <td>1.858999</td>\n",
       "    </tr>\n",
       "    <tr>\n",
       "      <td>12200</td>\n",
       "      <td>1.843500</td>\n",
       "      <td>1.858303</td>\n",
       "    </tr>\n",
       "    <tr>\n",
       "      <td>12400</td>\n",
       "      <td>1.821300</td>\n",
       "      <td>1.855182</td>\n",
       "    </tr>\n",
       "    <tr>\n",
       "      <td>12600</td>\n",
       "      <td>1.758100</td>\n",
       "      <td>1.858451</td>\n",
       "    </tr>\n",
       "    <tr>\n",
       "      <td>12800</td>\n",
       "      <td>1.749000</td>\n",
       "      <td>1.858097</td>\n",
       "    </tr>\n",
       "    <tr>\n",
       "      <td>13000</td>\n",
       "      <td>1.788200</td>\n",
       "      <td>1.855529</td>\n",
       "    </tr>\n",
       "    <tr>\n",
       "      <td>13200</td>\n",
       "      <td>1.767000</td>\n",
       "      <td>1.852082</td>\n",
       "    </tr>\n",
       "    <tr>\n",
       "      <td>13400</td>\n",
       "      <td>1.719200</td>\n",
       "      <td>1.851255</td>\n",
       "    </tr>\n",
       "    <tr>\n",
       "      <td>13600</td>\n",
       "      <td>1.726100</td>\n",
       "      <td>1.850338</td>\n",
       "    </tr>\n",
       "    <tr>\n",
       "      <td>13800</td>\n",
       "      <td>1.742700</td>\n",
       "      <td>1.850056</td>\n",
       "    </tr>\n",
       "    <tr>\n",
       "      <td>14000</td>\n",
       "      <td>1.750700</td>\n",
       "      <td>1.847929</td>\n",
       "    </tr>\n",
       "    <tr>\n",
       "      <td>14200</td>\n",
       "      <td>1.762100</td>\n",
       "      <td>1.847052</td>\n",
       "    </tr>\n",
       "    <tr>\n",
       "      <td>14400</td>\n",
       "      <td>1.768000</td>\n",
       "      <td>1.845923</td>\n",
       "    </tr>\n",
       "    <tr>\n",
       "      <td>14600</td>\n",
       "      <td>1.748100</td>\n",
       "      <td>1.844229</td>\n",
       "    </tr>\n",
       "    <tr>\n",
       "      <td>14800</td>\n",
       "      <td>1.746600</td>\n",
       "      <td>1.844555</td>\n",
       "    </tr>\n",
       "    <tr>\n",
       "      <td>15000</td>\n",
       "      <td>1.760500</td>\n",
       "      <td>1.842617</td>\n",
       "    </tr>\n",
       "    <tr>\n",
       "      <td>15200</td>\n",
       "      <td>1.761000</td>\n",
       "      <td>1.841216</td>\n",
       "    </tr>\n",
       "    <tr>\n",
       "      <td>15400</td>\n",
       "      <td>1.769500</td>\n",
       "      <td>1.840393</td>\n",
       "    </tr>\n",
       "    <tr>\n",
       "      <td>15600</td>\n",
       "      <td>1.780200</td>\n",
       "      <td>1.838583</td>\n",
       "    </tr>\n",
       "    <tr>\n",
       "      <td>15800</td>\n",
       "      <td>1.734100</td>\n",
       "      <td>1.837601</td>\n",
       "    </tr>\n",
       "    <tr>\n",
       "      <td>16000</td>\n",
       "      <td>1.734600</td>\n",
       "      <td>1.837504</td>\n",
       "    </tr>\n",
       "    <tr>\n",
       "      <td>16200</td>\n",
       "      <td>1.736200</td>\n",
       "      <td>1.835589</td>\n",
       "    </tr>\n",
       "    <tr>\n",
       "      <td>16400</td>\n",
       "      <td>1.751600</td>\n",
       "      <td>1.836069</td>\n",
       "    </tr>\n",
       "    <tr>\n",
       "      <td>16600</td>\n",
       "      <td>1.737700</td>\n",
       "      <td>1.835444</td>\n",
       "    </tr>\n",
       "    <tr>\n",
       "      <td>16800</td>\n",
       "      <td>1.699300</td>\n",
       "      <td>1.837238</td>\n",
       "    </tr>\n",
       "    <tr>\n",
       "      <td>17000</td>\n",
       "      <td>1.711000</td>\n",
       "      <td>1.837943</td>\n",
       "    </tr>\n",
       "    <tr>\n",
       "      <td>17200</td>\n",
       "      <td>1.707300</td>\n",
       "      <td>1.837371</td>\n",
       "    </tr>\n",
       "    <tr>\n",
       "      <td>17400</td>\n",
       "      <td>1.733600</td>\n",
       "      <td>1.837955</td>\n",
       "    </tr>\n",
       "    <tr>\n",
       "      <td>17600</td>\n",
       "      <td>1.716400</td>\n",
       "      <td>1.838131</td>\n",
       "    </tr>\n",
       "    <tr>\n",
       "      <td>17800</td>\n",
       "      <td>1.718800</td>\n",
       "      <td>1.837521</td>\n",
       "    </tr>\n",
       "    <tr>\n",
       "      <td>18000</td>\n",
       "      <td>1.732100</td>\n",
       "      <td>1.837255</td>\n",
       "    </tr>\n",
       "    <tr>\n",
       "      <td>18200</td>\n",
       "      <td>1.717000</td>\n",
       "      <td>1.836925</td>\n",
       "    </tr>\n",
       "    <tr>\n",
       "      <td>18400</td>\n",
       "      <td>1.704200</td>\n",
       "      <td>1.836654</td>\n",
       "    </tr>\n",
       "    <tr>\n",
       "      <td>18600</td>\n",
       "      <td>1.748200</td>\n",
       "      <td>1.836315</td>\n",
       "    </tr>\n",
       "    <tr>\n",
       "      <td>18800</td>\n",
       "      <td>1.719600</td>\n",
       "      <td>1.836016</td>\n",
       "    </tr>\n",
       "    <tr>\n",
       "      <td>19000</td>\n",
       "      <td>1.715500</td>\n",
       "      <td>1.835967</td>\n",
       "    </tr>\n",
       "    <tr>\n",
       "      <td>19200</td>\n",
       "      <td>1.722300</td>\n",
       "      <td>1.835921</td>\n",
       "    </tr>\n",
       "    <tr>\n",
       "      <td>19400</td>\n",
       "      <td>1.680500</td>\n",
       "      <td>1.835506</td>\n",
       "    </tr>\n",
       "    <tr>\n",
       "      <td>19600</td>\n",
       "      <td>1.743600</td>\n",
       "      <td>1.835552</td>\n",
       "    </tr>\n",
       "    <tr>\n",
       "      <td>19800</td>\n",
       "      <td>1.735600</td>\n",
       "      <td>1.835614</td>\n",
       "    </tr>\n",
       "    <tr>\n",
       "      <td>20000</td>\n",
       "      <td>1.714300</td>\n",
       "      <td>1.835336</td>\n",
       "    </tr>\n",
       "    <tr>\n",
       "      <td>20200</td>\n",
       "      <td>1.714400</td>\n",
       "      <td>1.835394</td>\n",
       "    </tr>\n",
       "    <tr>\n",
       "      <td>20400</td>\n",
       "      <td>1.745800</td>\n",
       "      <td>1.835446</td>\n",
       "    </tr>\n",
       "    <tr>\n",
       "      <td>20600</td>\n",
       "      <td>1.734800</td>\n",
       "      <td>1.835434</td>\n",
       "    </tr>\n",
       "    <tr>\n",
       "      <td>20800</td>\n",
       "      <td>1.692800</td>\n",
       "      <td>1.835419</td>\n",
       "    </tr>\n",
       "  </tbody>\n",
       "</table><p>"
      ],
      "text/plain": [
       "<IPython.core.display.HTML object>"
      ]
     },
     "metadata": {},
     "output_type": "display_data"
    },
    {
     "name": "stderr",
     "output_type": "stream",
     "text": [
      "\u001b[34m\u001b[1mwandb\u001b[0m: \u001b[32m\u001b[41mERROR\u001b[0m The nbformat package was not found. It is required to save notebook history.\n"
     ]
    },
    {
     "data": {
      "text/html": [],
      "text/plain": [
       "<IPython.core.display.HTML object>"
      ]
     },
     "metadata": {},
     "output_type": "display_data"
    },
    {
     "data": {
      "text/html": [
       "<br>    <style><br>        .wandb-row {<br>            display: flex;<br>            flex-direction: row;<br>            flex-wrap: wrap;<br>            justify-content: flex-start;<br>            width: 100%;<br>        }<br>        .wandb-col {<br>            display: flex;<br>            flex-direction: column;<br>            flex-basis: 100%;<br>            flex: 1;<br>            padding: 10px;<br>        }<br>    </style><br><div class=\"wandb-row\"><div class=\"wandb-col\"><h3>Run history:</h3><br/><table class=\"wandb\"><tr><td>eval/loss</td><td>█▇▅▅▄▃▃▃▃▃▃▃▃▂▂▂▂▂▂▁▁▁▁▁▁▁▁▁▁▁▁▁▁▁▁▁▁▁▁▁</td></tr><tr><td>eval/runtime</td><td>▁▁▁▁▁▁▁▁▁▁▁▁▁▁▁█▁▁▁▁▁▁▁▁▁▁▁▁▁▁▁▁▁▁▁▁▁▁▁▁</td></tr><tr><td>eval/samples_per_second</td><td>█▇▅▄▄▅▅▅▅▄▅▄▆▅▄▅▅▅▄▄▅▄▅▅▄▄▄▄▃▄▃▃▃▃▃▂▂▂▂▁</td></tr><tr><td>eval/steps_per_second</td><td>▂▆▄█▇▄▅▄▄▄▄▅▅▅▆▄▅▅▅▄▅▄▄▅▅▄▅▄▄▃▃▃▃▃▃▂▂▂▂▁</td></tr><tr><td>train/epoch</td><td>▁▁▁▁▁▂▂▂▂▂▂▃▃▃▃▃▄▄▄▄▄▅▅▅▅▅▅▅▅▆▆▆▇▇▇▇████</td></tr><tr><td>train/global_step</td><td>▁▁▁▁▁▂▂▂▂▃▃▃▃▃▃▃▃▄▄▄▅▅▅▅▅▆▆▆▆▆▇▇▇▇▇▇▇▇██</td></tr><tr><td>train/grad_norm</td><td>▁▂▃▂▂▂▁▂▃▅▄▄▄▅▆▅▄▆▆▆▄▅▆▅▅▆▆▃▅▆▄▄▄▆▅▇▆█▇▇</td></tr><tr><td>train/learning_rate</td><td>██████▇▇▇▇▇▆▆▆▆▆▅▅▅▅▄▄▃▃▃▂▂▂▂▂▂▂▂▁▁▁▁▁▁▁</td></tr><tr><td>train/loss</td><td>█▇▆▅▅▄▄▄▄▄▃▃▃▃▃▃▃▂▂▂▃▂▂▂▂▂▂▂▂▂▂▂▂▂▁▁▁▁▁▁</td></tr></table><br/></div><div class=\"wandb-col\"><h3>Run summary:</h3><br/><table class=\"wandb\"><tr><td>eval/loss</td><td>1.83542</td></tr><tr><td>eval/runtime</td><td>218.5183</td></tr><tr><td>eval/samples_per_second</td><td>4.576</td></tr><tr><td>eval/steps_per_second</td><td>4.576</td></tr><tr><td>total_flos</td><td>4.1458645569734246e+18</td></tr><tr><td>train/epoch</td><td>5</td></tr><tr><td>train/global_step</td><td>20835</td></tr><tr><td>train/grad_norm</td><td>1.44135</td></tr><tr><td>train/learning_rate</td><td>0.0</td></tr><tr><td>train/loss</td><td>1.6928</td></tr><tr><td>+4</td><td>...</td></tr></table><br/></div></div>"
      ],
      "text/plain": [
       "<IPython.core.display.HTML object>"
      ]
     },
     "metadata": {},
     "output_type": "display_data"
    },
    {
     "data": {
      "text/html": [
       " View run <strong style=\"color:#cdcd00\">trial_1</strong> at: <a href='https://wandb.ai/arupreza-soonchunhyang-university/huggingface/runs/czn5qx6a' target=\"_blank\">https://wandb.ai/arupreza-soonchunhyang-university/huggingface/runs/czn5qx6a</a><br> View project at: <a href='https://wandb.ai/arupreza-soonchunhyang-university/huggingface' target=\"_blank\">https://wandb.ai/arupreza-soonchunhyang-university/huggingface</a><br>Synced 5 W&B file(s), 0 media file(s), 0 artifact file(s) and 0 other file(s)"
      ],
      "text/plain": [
       "<IPython.core.display.HTML object>"
      ]
     },
     "metadata": {},
     "output_type": "display_data"
    },
    {
     "data": {
      "text/html": [
       "Find logs at: <code>./wandb/run-20250914_140126-czn5qx6a/logs</code>"
      ],
      "text/plain": [
       "<IPython.core.display.HTML object>"
      ]
     },
     "metadata": {},
     "output_type": "display_data"
    }
   ],
   "source": [
    "from model_src.qwen_3_8_b_fine_tune import train_sft\n",
    "\n",
    "trainer, model, tokenizer, ds = train_sft(\n",
    "    hf_user=\"Arupreza\",\n",
    "    dataset_name=\"ed-donner/pricer-data\",\n",
    "    base_model=\"Qwen/Qwen3-8B\",     # ✅ dense version\n",
    "    project_name=\"price_qwen_lora\",\n",
    "    log_to_wandb=True,\n",
    "    epochs=5,\n",
    "    batch_size=12,\n",
    "    grad_accum=2,\n",
    "    save_steps=1000,\n",
    "    run_name=\"trial_1\",\n",
    "    push_to_hub=False,\n",
    "    train_size=100000,\n",
    "    eval_size=1000\n",
    ")"
   ]
  },
  {
   "cell_type": "code",
   "execution_count": null,
   "id": "2423b5d9",
   "metadata": {},
   "outputs": [],
   "source": []
  },
  {
   "cell_type": "code",
   "execution_count": 3,
   "id": "da5ed36f",
   "metadata": {},
   "outputs": [
    {
     "data": {
      "application/vnd.jupyter.widget-view+json": {
       "model_id": "13ff8a0f4fa045819348b7c7bf826c0a",
       "version_major": 2,
       "version_minor": 0
      },
      "text/plain": [
       "Loading checkpoint shards:   0%|          | 0/5 [00:00<?, ?it/s]"
      ]
     },
     "metadata": {},
     "output_type": "display_data"
    },
    {
     "name": "stdout",
     "output_type": "stream",
     "text": [
      "Memory footprint: 6137.4 MB\n",
      "\u001b[93m1: Guess: $232.00 Truth: $374.41 Error: $142.41 SLE: 0.23 Item: How much does this cost to the nearest d\u001b[0m\n",
      "\u001b[93m2: Guess: $151.00 Truth: $225.11 Error: $74.11 SLE: 0.16 Item: How much does this cost to the nearest d\u001b[0m\n",
      "\u001b[92m3: Guess: $101.00 Truth: $61.68 Error: $39.32 SLE: 0.24 Item: How much does this cost to the nearest d\u001b[0m\n",
      "\u001b[91m4: Guess: $300.00 Truth: $599.99 Error: $299.99 SLE: 0.48 Item: How much does this cost to the nearest d\u001b[0m\n",
      "\u001b[91m5: Guess: $109.00 Truth: $16.99 Error: $92.01 SLE: 3.28 Item: How much does this cost to the nearest d\u001b[0m\n",
      "\u001b[92m6: Guess: $10.00 Truth: $31.99 Error: $21.99 SLE: 1.21 Item: How much does this cost to the nearest d\u001b[0m\n",
      "\u001b[92m7: Guess: $102.00 Truth: $101.79 Error: $0.21 SLE: 0.00 Item: How much does this cost to the nearest d\u001b[0m\n",
      "\u001b[92m8: Guess: $299.00 Truth: $289.00 Error: $10.00 SLE: 0.00 Item: How much does this cost to the nearest d\u001b[0m\n",
      "\u001b[92m9: Guess: $599.00 Truth: $635.86 Error: $36.86 SLE: 0.00 Item: How much does this cost to the nearest d\u001b[0m\n",
      "\u001b[92m10: Guess: $100.00 Truth: $65.99 Error: $34.01 SLE: 0.17 Item: How much does this cost to the nearest d\u001b[0m\n",
      "\u001b[92m11: Guess: $250.00 Truth: $254.21 Error: $4.21 SLE: 0.00 Item: How much does this cost to the nearest d\u001b[0m\n",
      "\u001b[93m12: Guess: $250.00 Truth: $412.99 Error: $162.99 SLE: 0.25 Item: How much does this cost to the nearest d\u001b[0m\n",
      "\u001b[91m13: Guess: $105.00 Truth: $205.50 Error: $100.50 SLE: 0.44 Item: How much does this cost to the nearest d\u001b[0m\n",
      "\u001b[93m14: Guess: $150.00 Truth: $248.23 Error: $98.23 SLE: 0.25 Item: How much does this cost to the nearest d\u001b[0m\n",
      "\u001b[93m15: Guess: $300.00 Truth: $399.00 Error: $99.00 SLE: 0.08 Item: How much does this cost to the nearest d\u001b[0m\n",
      "\u001b[92m16: Guess: $350.00 Truth: $373.94 Error: $23.94 SLE: 0.00 Item: How much does this cost to the nearest d\u001b[0m\n",
      "\u001b[92m17: Guess: $100.00 Truth: $92.89 Error: $7.11 SLE: 0.01 Item: How much does this cost to the nearest d\u001b[0m\n",
      "\u001b[93m18: Guess: $105.00 Truth: $51.99 Error: $53.01 SLE: 0.48 Item: How much does this cost to the nearest d\u001b[0m\n",
      "\u001b[92m19: Guess: $159.00 Truth: $179.00 Error: $20.00 SLE: 0.01 Item: How much does this cost to the nearest d\u001b[0m\n",
      "\u001b[92m20: Guess: $10.00 Truth: $19.42 Error: $9.42 SLE: 0.38 Item: How much does this cost to the nearest d\u001b[0m\n",
      "\u001b[92m21: Guess: $499.00 Truth: $539.95 Error: $40.95 SLE: 0.01 Item: How much does this cost to the nearest d\u001b[0m\n",
      "\u001b[92m22: Guess: $133.00 Truth: $147.67 Error: $14.67 SLE: 0.01 Item: How much does this cost to the nearest d\u001b[0m\n",
      "\u001b[92m23: Guess: $10.00 Truth: $24.99 Error: $14.99 SLE: 0.74 Item: How much does this cost to the nearest d\u001b[0m\n",
      "\u001b[93m24: Guess: $100.00 Truth: $149.00 Error: $49.00 SLE: 0.16 Item: How much does this cost to the nearest d\u001b[0m\n",
      "\u001b[92m25: Guess: $14.00 Truth: $16.99 Error: $2.99 SLE: 0.03 Item: How much does this cost to the nearest d\u001b[0m\n",
      "\u001b[92m26: Guess: $10.00 Truth: $7.99 Error: $2.01 SLE: 0.04 Item: How much does this cost to the nearest d\u001b[0m\n",
      "\u001b[93m27: Guess: $250.00 Truth: $199.99 Error: $50.01 SLE: 0.05 Item: How much does this cost to the nearest d\u001b[0m\n",
      "\u001b[92m28: Guess: $240.00 Truth: $251.45 Error: $11.45 SLE: 0.00 Item: How much does this cost to the nearest d\u001b[0m\n",
      "\u001b[91m29: Guess: $111.00 Truth: $231.62 Error: $120.62 SLE: 0.53 Item: How much does this cost to the nearest d\u001b[0m\n",
      "\u001b[92m30: Guess: $120.00 Truth: $135.00 Error: $15.00 SLE: 0.01 Item: How much does this cost to the nearest d\u001b[0m\n",
      "\u001b[92m31: Guess: $299.00 Truth: $356.62 Error: $57.62 SLE: 0.03 Item: How much does this cost to the nearest d\u001b[0m\n",
      "\u001b[92m32: Guess: $250.00 Truth: $257.99 Error: $7.99 SLE: 0.00 Item: How much does this cost to the nearest d\u001b[0m\n",
      "\u001b[92m33: Guess: $36.00 Truth: $27.99 Error: $8.01 SLE: 0.06 Item: How much does this cost to the nearest d\u001b[0m\n",
      "\u001b[93m34: Guess: $111.00 Truth: $171.20 Error: $60.20 SLE: 0.19 Item: How much does this cost to the nearest d\u001b[0m\n",
      "\u001b[93m35: Guess: $299.00 Truth: $225.00 Error: $74.00 SLE: 0.08 Item: How much does this cost to the nearest d\u001b[0m\n",
      "\u001b[91m36: Guess: $250.00 Truth: $105.00 Error: $145.00 SLE: 0.74 Item: How much does this cost to the nearest d\u001b[0m\n",
      "\u001b[91m37: Guess: $169.00 Truth: $299.99 Error: $130.99 SLE: 0.33 Item: How much does this cost to the nearest d\u001b[0m\n",
      "\u001b[92m38: Guess: $525.00 Truth: $535.09 Error: $10.09 SLE: 0.00 Item: How much does this cost to the nearest d\u001b[0m\n",
      "\u001b[92m39: Guess: $25.00 Truth: $12.33 Error: $12.67 SLE: 0.45 Item: How much does this cost to the nearest d\u001b[0m\n",
      "\u001b[92m40: Guess: $100.00 Truth: $84.99 Error: $15.01 SLE: 0.03 Item: How much does this cost to the nearest d\u001b[0m\n",
      "\u001b[92m41: Guess: $22.00 Truth: $15.99 Error: $6.01 SLE: 0.09 Item: How much does this cost to the nearest d\u001b[0m\n",
      "\u001b[93m42: Guess: $105.00 Truth: $62.44 Error: $42.56 SLE: 0.26 Item: How much does this cost to the nearest d\u001b[0m\n",
      "\u001b[92m43: Guess: $100.00 Truth: $82.99 Error: $17.01 SLE: 0.03 Item: How much does this cost to the nearest d\u001b[0m\n",
      "\u001b[91m44: Guess: $300.00 Truth: $599.95 Error: $299.95 SLE: 0.48 Item: How much does this cost to the nearest d\u001b[0m\n",
      "\u001b[91m45: Guess: $300.00 Truth: $194.99 Error: $105.01 SLE: 0.18 Item: How much does this cost to the nearest d\u001b[0m\n",
      "\u001b[92m46: Guess: $299.00 Truth: $344.95 Error: $45.95 SLE: 0.02 Item: How much does this cost to the nearest d\u001b[0m\n",
      "\u001b[92m47: Guess: $35.00 Truth: $37.99 Error: $2.99 SLE: 0.01 Item: How much does this cost to the nearest d\u001b[0m\n",
      "\u001b[92m48: Guess: $212.00 Truth: $224.35 Error: $12.35 SLE: 0.00 Item: How much does this cost to the nearest d\u001b[0m\n",
      "\u001b[91m49: Guess: $400.00 Truth: $814.00 Error: $414.00 SLE: 0.50 Item: How much does this cost to the nearest d\u001b[0m\n",
      "\u001b[93m50: Guess: $300.00 Truth: $439.88 Error: $139.88 SLE: 0.15 Item: How much does this cost to the nearest d\u001b[0m\n",
      "\u001b[92m51: Guess: $350.00 Truth: $341.43 Error: $8.57 SLE: 0.00 Item: How much does this cost to the nearest d\u001b[0m\n",
      "\u001b[93m52: Guess: $100.00 Truth: $46.78 Error: $53.22 SLE: 0.56 Item: How much does this cost to the nearest d\u001b[0m\n",
      "\u001b[93m53: Guess: $111.00 Truth: $171.44 Error: $60.44 SLE: 0.19 Item: How much does this cost to the nearest d\u001b[0m\n",
      "\u001b[91m54: Guess: $250.00 Truth: $458.00 Error: $208.00 SLE: 0.36 Item: How much does this cost to the nearest d\u001b[0m\n",
      "\u001b[92m55: Guess: $150.00 Truth: $130.75 Error: $19.25 SLE: 0.02 Item: How much does this cost to the nearest d\u001b[0m\n",
      "\u001b[92m56: Guess: $102.00 Truth: $83.81 Error: $18.19 SLE: 0.04 Item: How much does this cost to the nearest d\u001b[0m\n",
      "\u001b[91m57: Guess: $141.00 Truth: $386.39 Error: $245.39 SLE: 1.01 Item: How much does this cost to the nearest d\u001b[0m\n",
      "\u001b[93m58: Guess: $129.00 Truth: $169.00 Error: $40.00 SLE: 0.07 Item: How much does this cost to the nearest d\u001b[0m\n",
      "\u001b[92m59: Guess: $10.00 Truth: $17.95 Error: $7.95 SLE: 0.30 Item: How much does this cost to the nearest d\u001b[0m\n",
      "\u001b[93m60: Guess: $176.00 Truth: $269.00 Error: $93.00 SLE: 0.18 Item: How much does this cost to the nearest d\u001b[0m\n",
      "\u001b[92m61: Guess: $100.00 Truth: $77.77 Error: $22.23 SLE: 0.06 Item: How much does this cost to the nearest d\u001b[0m\n",
      "\u001b[93m62: Guess: $133.00 Truth: $88.99 Error: $44.01 SLE: 0.16 Item: How much does this cost to the nearest d\u001b[0m\n",
      "\u001b[92m63: Guess: $340.00 Truth: $364.41 Error: $24.41 SLE: 0.00 Item: How much does this cost to the nearest d\u001b[0m\n",
      "\u001b[92m64: Guess: $152.00 Truth: $127.03 Error: $24.97 SLE: 0.03 Item: How much does this cost to the nearest d\u001b[0m\n",
      "\u001b[92m65: Guess: $810.00 Truth: $778.95 Error: $31.05 SLE: 0.00 Item: How much does this cost to the nearest d\u001b[0m\n",
      "\u001b[92m66: Guess: $229.00 Truth: $206.66 Error: $22.34 SLE: 0.01 Item: How much does this cost to the nearest d\u001b[0m\n",
      "\u001b[93m67: Guess: $109.00 Truth: $35.94 Error: $73.06 SLE: 1.19 Item: How much does this cost to the nearest d\u001b[0m\n",
      "\u001b[92m68: Guess: $150.00 Truth: $149.00 Error: $1.00 SLE: 0.00 Item: How much does this cost to the nearest d\u001b[0m\n",
      "\u001b[93m69: Guess: $172.00 Truth: $251.98 Error: $79.98 SLE: 0.14 Item: How much does this cost to the nearest d\u001b[0m\n",
      "\u001b[92m70: Guess: $176.00 Truth: $160.00 Error: $16.00 SLE: 0.01 Item: How much does this cost to the nearest d\u001b[0m\n",
      "\u001b[92m71: Guess: $25.00 Truth: $39.99 Error: $14.99 SLE: 0.21 Item: How much does this cost to the nearest d\u001b[0m\n",
      "\u001b[91m72: Guess: $171.00 Truth: $362.41 Error: $191.41 SLE: 0.56 Item: How much does this cost to the nearest d\u001b[0m\n",
      "\u001b[91m73: Guess: $156.00 Truth: $344.00 Error: $188.00 SLE: 0.62 Item: How much does this cost to the nearest d\u001b[0m\n",
      "\u001b[92m74: Guess: $11.00 Truth: $25.09 Error: $14.09 SLE: 0.60 Item: How much does this cost to the nearest d\u001b[0m\n",
      "\u001b[93m75: Guess: $121.00 Truth: $175.95 Error: $54.95 SLE: 0.14 Item: How much does this cost to the nearest d\u001b[0m\n",
      "\u001b[92m76: Guess: $159.00 Truth: $132.64 Error: $26.36 SLE: 0.03 Item: How much does this cost to the nearest d\u001b[0m\n",
      "\u001b[92m77: Guess: $350.00 Truth: $422.99 Error: $72.99 SLE: 0.04 Item: How much does this cost to the nearest d\u001b[0m\n",
      "\u001b[92m78: Guess: $157.00 Truth: $146.48 Error: $10.52 SLE: 0.00 Item: How much does this cost to the nearest d\u001b[0m\n",
      "\u001b[92m79: Guess: $132.00 Truth: $156.83 Error: $24.83 SLE: 0.03 Item: How much does this cost to the nearest d\u001b[0m\n",
      "\u001b[91m80: Guess: $150.00 Truth: $251.99 Error: $101.99 SLE: 0.27 Item: How much does this cost to the nearest d\u001b[0m\n",
      "\u001b[91m81: Guess: $112.00 Truth: $940.33 Error: $828.33 SLE: 4.49 Item: How much does this cost to the nearest d\u001b[0m\n",
      "\u001b[93m82: Guess: $101.00 Truth: $52.99 Error: $48.01 SLE: 0.40 Item: How much does this cost to the nearest d\u001b[0m\n",
      "\u001b[91m83: Guess: $129.00 Truth: $219.95 Error: $90.95 SLE: 0.28 Item: How much does this cost to the nearest d\u001b[0m\n",
      "\u001b[93m84: Guess: $340.00 Truth: $441.03 Error: $101.03 SLE: 0.07 Item: How much does this cost to the nearest d\u001b[0m\n",
      "\u001b[92m85: Guess: $200.00 Truth: $168.98 Error: $31.02 SLE: 0.03 Item: How much does this cost to the nearest d\u001b[0m\n",
      "\u001b[92m86: Guess: $4.00 Truth: $2.49 Error: $1.51 SLE: 0.13 Item: How much does this cost to the nearest d\u001b[0m\n",
      "\u001b[92m87: Guess: $100.00 Truth: $98.62 Error: $1.38 SLE: 0.00 Item: How much does this cost to the nearest d\u001b[0m\n",
      "\u001b[91m88: Guess: $150.00 Truth: $256.95 Error: $106.95 SLE: 0.29 Item: How much does this cost to the nearest d\u001b[0m\n",
      "\u001b[92m89: Guess: $25.00 Truth: $30.99 Error: $5.99 SLE: 0.04 Item: How much does this cost to the nearest d\u001b[0m\n",
      "\u001b[91m90: Guess: $340.00 Truth: $569.84 Error: $229.84 SLE: 0.27 Item: How much does this cost to the nearest d\u001b[0m\n",
      "\u001b[93m91: Guess: $105.00 Truth: $177.99 Error: $72.99 SLE: 0.27 Item: How much does this cost to the nearest d\u001b[0m\n",
      "\u001b[93m92: Guess: $700.00 Truth: $997.99 Error: $297.99 SLE: 0.13 Item: How much does this cost to the nearest d\u001b[0m\n",
      "\u001b[93m93: Guess: $299.00 Truth: $219.00 Error: $80.00 SLE: 0.10 Item: How much does this cost to the nearest d\u001b[0m\n",
      "\u001b[92m94: Guess: $230.00 Truth: $225.55 Error: $4.45 SLE: 0.00 Item: How much does this cost to the nearest d\u001b[0m\n",
      "\u001b[91m95: Guess: $799.00 Truth: $495.95 Error: $303.05 SLE: 0.23 Item: How much does this cost to the nearest d\u001b[0m\n",
      "\u001b[92m96: Guess: $890.00 Truth: $942.37 Error: $52.37 SLE: 0.00 Item: How much does this cost to the nearest d\u001b[0m\n",
      "\u001b[92m97: Guess: $1.00 Truth: $1.94 Error: $0.94 SLE: 0.15 Item: How much does this cost to the nearest d\u001b[0m\n",
      "\u001b[91m98: Guess: $500.00 Truth: $284.34 Error: $215.66 SLE: 0.32 Item: How much does this cost to the nearest d\u001b[0m\n",
      "\u001b[92m99: Guess: $157.00 Truth: $171.90 Error: $14.90 SLE: 0.01 Item: How much does this cost to the nearest d\u001b[0m\n",
      "\u001b[91m100: Guess: $299.00 Truth: $144.99 Error: $154.01 SLE: 0.52 Item: How much does this cost to the nearest d\u001b[0m\n",
      "\u001b[91m101: Guess: $150.00 Truth: $470.47 Error: $320.47 SLE: 1.30 Item: How much does this cost to the nearest d\u001b[0m\n",
      "\u001b[92m102: Guess: $101.00 Truth: $66.95 Error: $34.05 SLE: 0.16 Item: How much does this cost to the nearest d\u001b[0m\n",
      "\u001b[92m103: Guess: $112.00 Truth: $117.00 Error: $5.00 SLE: 0.00 Item: How much does this cost to the nearest d\u001b[0m\n",
      "\u001b[92m104: Guess: $171.00 Truth: $172.14 Error: $1.14 SLE: 0.00 Item: How much does this cost to the nearest d\u001b[0m\n",
      "\u001b[93m105: Guess: $250.00 Truth: $392.74 Error: $142.74 SLE: 0.20 Item: How much does this cost to the nearest d\u001b[0m\n",
      "\u001b[92m106: Guess: $25.00 Truth: $16.99 Error: $8.01 SLE: 0.14 Item: How much does this cost to the nearest d\u001b[0m\n",
      "\u001b[92m107: Guess: $1.00 Truth: $1.34 Error: $0.34 SLE: 0.02 Item: How much does this cost to the nearest d\u001b[0m\n",
      "\u001b[92m108: Guess: $299.00 Truth: $349.98 Error: $50.98 SLE: 0.02 Item: How much does this cost to the nearest d\u001b[0m\n",
      "\u001b[93m109: Guess: $250.00 Truth: $370.71 Error: $120.71 SLE: 0.15 Item: How much does this cost to the nearest d\u001b[0m\n",
      "\u001b[92m110: Guess: $100.00 Truth: $65.88 Error: $34.12 SLE: 0.17 Item: How much does this cost to the nearest d\u001b[0m\n",
      "\u001b[93m111: Guess: $150.00 Truth: $229.99 Error: $79.99 SLE: 0.18 Item: How much does this cost to the nearest d\u001b[0m\n",
      "\u001b[92m112: Guess: $10.00 Truth: $9.14 Error: $0.86 SLE: 0.01 Item: How much does this cost to the nearest d\u001b[0m\n",
      "\u001b[93m113: Guess: $250.00 Truth: $199.00 Error: $51.00 SLE: 0.05 Item: How much does this cost to the nearest d\u001b[0m\n",
      "\u001b[93m114: Guess: $150.00 Truth: $109.99 Error: $40.01 SLE: 0.09 Item: How much does this cost to the nearest d\u001b[0m\n",
      "\u001b[93m115: Guess: $350.00 Truth: $570.42 Error: $220.42 SLE: 0.24 Item: How much does this cost to the nearest d\u001b[0m\n",
      "\u001b[93m116: Guess: $390.00 Truth: $279.99 Error: $110.01 SLE: 0.11 Item: How much does this cost to the nearest d\u001b[0m\n",
      "\u001b[92m117: Guess: $36.00 Truth: $30.99 Error: $5.01 SLE: 0.02 Item: How much does this cost to the nearest d\u001b[0m\n",
      "\u001b[92m118: Guess: $25.00 Truth: $31.99 Error: $6.99 SLE: 0.06 Item: How much does this cost to the nearest d\u001b[0m\n",
      "\u001b[92m119: Guess: $26.00 Truth: $15.90 Error: $10.10 SLE: 0.22 Item: How much does this cost to the nearest d\u001b[0m\n",
      "\u001b[93m120: Guess: $100.00 Truth: $45.99 Error: $54.01 SLE: 0.59 Item: How much does this cost to the nearest d\u001b[0m\n",
      "\u001b[92m121: Guess: $119.00 Truth: $113.52 Error: $5.48 SLE: 0.00 Item: How much does this cost to the nearest d\u001b[0m\n",
      "\u001b[92m122: Guess: $599.00 Truth: $516.99 Error: $82.01 SLE: 0.02 Item: How much does this cost to the nearest d\u001b[0m\n",
      "\u001b[93m123: Guess: $151.00 Truth: $196.99 Error: $45.99 SLE: 0.07 Item: How much does this cost to the nearest d\u001b[0m\n",
      "\u001b[92m124: Guess: $11.00 Truth: $46.55 Error: $35.55 SLE: 1.90 Item: How much does this cost to the nearest d\u001b[0m\n",
      "\u001b[93m125: Guess: $270.00 Truth: $356.99 Error: $86.99 SLE: 0.08 Item: How much does this cost to the nearest d\u001b[0m\n",
      "\u001b[92m126: Guess: $299.00 Truth: $319.95 Error: $20.95 SLE: 0.00 Item: How much does this cost to the nearest d\u001b[0m\n",
      "\u001b[92m127: Guess: $131.00 Truth: $96.06 Error: $34.94 SLE: 0.09 Item: How much does this cost to the nearest d\u001b[0m\n",
      "\u001b[91m128: Guess: $290.00 Truth: $190.99 Error: $99.01 SLE: 0.17 Item: How much does this cost to the nearest d\u001b[0m\n",
      "\u001b[91m129: Guess: $102.00 Truth: $257.95 Error: $155.95 SLE: 0.85 Item: How much does this cost to the nearest d\u001b[0m\n",
      "\u001b[93m130: Guess: $105.00 Truth: $62.95 Error: $42.05 SLE: 0.26 Item: How much does this cost to the nearest d\u001b[0m\n",
      "\u001b[93m131: Guess: $100.00 Truth: $47.66 Error: $52.34 SLE: 0.53 Item: How much does this cost to the nearest d\u001b[0m\n",
      "\u001b[91m132: Guess: $350.00 Truth: $226.99 Error: $123.01 SLE: 0.19 Item: How much does this cost to the nearest d\u001b[0m\n",
      "\u001b[92m133: Guess: $300.00 Truth: $359.95 Error: $59.95 SLE: 0.03 Item: How much does this cost to the nearest d\u001b[0m\n",
      "\u001b[92m134: Guess: $111.00 Truth: $78.40 Error: $32.60 SLE: 0.12 Item: How much does this cost to the nearest d\u001b[0m\n",
      "\u001b[92m135: Guess: $172.00 Truth: $172.77 Error: $0.77 SLE: 0.00 Item: How much does this cost to the nearest d\u001b[0m\n",
      "\u001b[93m136: Guess: $250.00 Truth: $316.45 Error: $66.45 SLE: 0.06 Item: How much does this cost to the nearest d\u001b[0m\n",
      "\u001b[92m137: Guess: $116.00 Truth: $87.99 Error: $28.01 SLE: 0.07 Item: How much does this cost to the nearest d\u001b[0m\n",
      "\u001b[93m138: Guess: $159.00 Truth: $226.63 Error: $67.63 SLE: 0.12 Item: How much does this cost to the nearest d\u001b[0m\n",
      "\u001b[92m139: Guess: $36.00 Truth: $31.49 Error: $4.51 SLE: 0.02 Item: How much does this cost to the nearest d\u001b[0m\n",
      "\u001b[92m140: Guess: $210.00 Truth: $196.00 Error: $14.00 SLE: 0.00 Item: How much does this cost to the nearest d\u001b[0m\n",
      "\u001b[92m141: Guess: $101.00 Truth: $78.40 Error: $22.60 SLE: 0.06 Item: How much does this cost to the nearest d\u001b[0m\n",
      "\u001b[92m142: Guess: $152.00 Truth: $116.25 Error: $35.75 SLE: 0.07 Item: How much does this cost to the nearest d\u001b[0m\n",
      "\u001b[92m143: Guess: $102.00 Truth: $112.78 Error: $10.78 SLE: 0.01 Item: How much does this cost to the nearest d\u001b[0m\n",
      "\u001b[93m144: Guess: $101.00 Truth: $27.32 Error: $73.68 SLE: 1.64 Item: How much does this cost to the nearest d\u001b[0m\n",
      "\u001b[92m145: Guess: $112.00 Truth: $145.91 Error: $33.91 SLE: 0.07 Item: How much does this cost to the nearest d\u001b[0m\n",
      "\u001b[93m146: Guess: $212.00 Truth: $171.09 Error: $40.91 SLE: 0.05 Item: How much does this cost to the nearest d\u001b[0m\n",
      "\u001b[92m147: Guess: $159.00 Truth: $167.95 Error: $8.95 SLE: 0.00 Item: How much does this cost to the nearest d\u001b[0m\n",
      "\u001b[92m148: Guess: $25.00 Truth: $28.49 Error: $3.49 SLE: 0.02 Item: How much does this cost to the nearest d\u001b[0m\n",
      "\u001b[92m149: Guess: $112.00 Truth: $122.23 Error: $10.23 SLE: 0.01 Item: How much does this cost to the nearest d\u001b[0m\n",
      "\u001b[92m150: Guess: $35.00 Truth: $32.99 Error: $2.01 SLE: 0.00 Item: How much does this cost to the nearest d\u001b[0m\n",
      "\u001b[92m151: Guess: $111.00 Truth: $71.20 Error: $39.80 SLE: 0.19 Item: How much does this cost to the nearest d\u001b[0m\n",
      "\u001b[92m152: Guess: $105.00 Truth: $112.75 Error: $7.75 SLE: 0.00 Item: How much does this cost to the nearest d\u001b[0m\n",
      "\u001b[92m153: Guess: $133.00 Truth: $142.43 Error: $9.43 SLE: 0.00 Item: How much does this cost to the nearest d\u001b[0m\n",
      "\u001b[93m154: Guess: $300.00 Truth: $398.99 Error: $98.99 SLE: 0.08 Item: How much does this cost to the nearest d\u001b[0m\n",
      "\u001b[93m155: Guess: $599.00 Truth: $449.00 Error: $150.00 SLE: 0.08 Item: How much does this cost to the nearest d\u001b[0m\n",
      "\u001b[93m156: Guess: $120.00 Truth: $189.00 Error: $69.00 SLE: 0.20 Item: How much does this cost to the nearest d\u001b[0m\n",
      "\u001b[92m157: Guess: $150.00 Truth: $120.91 Error: $29.09 SLE: 0.05 Item: How much does this cost to the nearest d\u001b[0m\n",
      "\u001b[92m158: Guess: $186.00 Truth: $203.53 Error: $17.53 SLE: 0.01 Item: How much does this cost to the nearest d\u001b[0m\n",
      "\u001b[93m159: Guess: $240.00 Truth: $349.99 Error: $109.99 SLE: 0.14 Item: How much does this cost to the nearest d\u001b[0m\n",
      "\u001b[92m160: Guess: $11.00 Truth: $34.35 Error: $23.35 SLE: 1.17 Item: How much does this cost to the nearest d\u001b[0m\n",
      "\u001b[92m161: Guess: $399.00 Truth: $384.99 Error: $14.01 SLE: 0.00 Item: How much does this cost to the nearest d\u001b[0m\n",
      "\u001b[92m162: Guess: $176.00 Truth: $211.00 Error: $35.00 SLE: 0.03 Item: How much does this cost to the nearest d\u001b[0m\n",
      "\u001b[92m163: Guess: $119.00 Truth: $129.00 Error: $10.00 SLE: 0.01 Item: How much does this cost to the nearest d\u001b[0m\n",
      "\u001b[92m164: Guess: $105.00 Truth: $111.45 Error: $6.45 SLE: 0.00 Item: How much does this cost to the nearest d\u001b[0m\n",
      "\u001b[93m165: Guess: $10.00 Truth: $81.12 Error: $71.12 SLE: 4.04 Item: How much does this cost to the nearest d\u001b[0m\n",
      "\u001b[91m166: Guess: $157.00 Truth: $457.08 Error: $300.08 SLE: 1.13 Item: How much does this cost to the nearest d\u001b[0m\n",
      "\u001b[93m167: Guess: $100.00 Truth: $49.49 Error: $50.51 SLE: 0.48 Item: How much does this cost to the nearest d\u001b[0m\n",
      "\u001b[92m168: Guess: $115.00 Truth: $80.56 Error: $34.44 SLE: 0.12 Item: How much does this cost to the nearest d\u001b[0m\n",
      "\u001b[92m169: Guess: $240.00 Truth: $278.39 Error: $38.39 SLE: 0.02 Item: How much does this cost to the nearest d\u001b[0m\n",
      "\u001b[93m170: Guess: $250.00 Truth: $364.50 Error: $114.50 SLE: 0.14 Item: How much does this cost to the nearest d\u001b[0m\n",
      "\u001b[91m171: Guess: $212.00 Truth: $378.99 Error: $166.99 SLE: 0.34 Item: How much does this cost to the nearest d\u001b[0m\n",
      "\u001b[91m172: Guess: $252.00 Truth: $165.28 Error: $86.72 SLE: 0.18 Item: How much does this cost to the nearest d\u001b[0m\n",
      "\u001b[93m173: Guess: $102.00 Truth: $56.74 Error: $45.26 SLE: 0.33 Item: How much does this cost to the nearest d\u001b[0m\n",
      "\u001b[92m174: Guess: $250.00 Truth: $307.95 Error: $57.95 SLE: 0.04 Item: How much does this cost to the nearest d\u001b[0m\n",
      "\u001b[93m175: Guess: $100.00 Truth: $38.00 Error: $62.00 SLE: 0.91 Item: How much does this cost to the nearest d\u001b[0m\n",
      "\u001b[93m176: Guess: $100.00 Truth: $53.00 Error: $47.00 SLE: 0.39 Item: How much does this cost to the nearest d\u001b[0m\n",
      "\u001b[93m177: Guess: $598.00 Truth: $498.00 Error: $100.00 SLE: 0.03 Item: How much does this cost to the nearest d\u001b[0m\n",
      "\u001b[93m178: Guess: $121.00 Truth: $53.99 Error: $67.01 SLE: 0.64 Item: How much does this cost to the nearest d\u001b[0m\n",
      "\u001b[92m179: Guess: $300.00 Truth: $350.00 Error: $50.00 SLE: 0.02 Item: How much does this cost to the nearest d\u001b[0m\n",
      "\u001b[92m180: Guess: $250.00 Truth: $299.95 Error: $49.95 SLE: 0.03 Item: How much does this cost to the nearest d\u001b[0m\n",
      "\u001b[92m181: Guess: $103.00 Truth: $94.93 Error: $8.07 SLE: 0.01 Item: How much does this cost to the nearest d\u001b[0m\n",
      "\u001b[93m182: Guess: $299.00 Truth: $379.00 Error: $80.00 SLE: 0.06 Item: How much does this cost to the nearest d\u001b[0m\n",
      "\u001b[93m183: Guess: $186.00 Truth: $299.95 Error: $113.95 SLE: 0.23 Item: How much does this cost to the nearest d\u001b[0m\n",
      "\u001b[92m184: Guess: $15.00 Truth: $24.99 Error: $9.99 SLE: 0.24 Item: How much does this cost to the nearest d\u001b[0m\n",
      "\u001b[93m185: Guess: $119.00 Truth: $41.04 Error: $77.96 SLE: 1.10 Item: How much does this cost to the nearest d\u001b[0m\n",
      "\u001b[91m186: Guess: $150.00 Truth: $327.90 Error: $177.90 SLE: 0.61 Item: How much does this cost to the nearest d\u001b[0m\n",
      "\u001b[92m187: Guess: $16.00 Truth: $10.99 Error: $5.01 SLE: 0.12 Item: How much does this cost to the nearest d\u001b[0m\n",
      "\u001b[92m188: Guess: $15.00 Truth: $14.99 Error: $0.01 SLE: 0.00 Item: How much does this cost to the nearest d\u001b[0m\n",
      "\u001b[93m189: Guess: $11.00 Truth: $84.95 Error: $73.95 SLE: 3.88 Item: How much does this cost to the nearest d\u001b[0m\n",
      "\u001b[92m190: Guess: $109.00 Truth: $111.00 Error: $2.00 SLE: 0.00 Item: How much does this cost to the nearest d\u001b[0m\n",
      "\u001b[92m191: Guess: $117.00 Truth: $123.73 Error: $6.73 SLE: 0.00 Item: How much does this cost to the nearest d\u001b[0m\n",
      "\u001b[93m192: Guess: $399.00 Truth: $557.38 Error: $158.38 SLE: 0.11 Item: How much does this cost to the nearest d\u001b[0m\n",
      "\u001b[92m193: Guess: $114.00 Truth: $95.55 Error: $18.45 SLE: 0.03 Item: How much does this cost to the nearest d\u001b[0m\n",
      "\u001b[93m194: Guess: $105.00 Truth: $154.00 Error: $49.00 SLE: 0.14 Item: How much does this cost to the nearest d\u001b[0m\n",
      "\u001b[93m195: Guess: $250.00 Truth: $198.99 Error: $51.01 SLE: 0.05 Item: How much does this cost to the nearest d\u001b[0m\n",
      "\u001b[91m196: Guess: $150.00 Truth: $430.44 Error: $280.44 SLE: 1.10 Item: How much does this cost to the nearest d\u001b[0m\n",
      "\u001b[92m197: Guess: $25.00 Truth: $45.67 Error: $20.67 SLE: 0.34 Item: How much does this cost to the nearest d\u001b[0m\n",
      "\u001b[91m198: Guess: $129.00 Truth: $249.00 Error: $120.00 SLE: 0.43 Item: How much does this cost to the nearest d\u001b[0m\n",
      "\u001b[92m199: Guess: $36.00 Truth: $42.99 Error: $6.99 SLE: 0.03 Item: How much does this cost to the nearest d\u001b[0m\n",
      "\u001b[93m200: Guess: $119.00 Truth: $181.33 Error: $62.33 SLE: 0.17 Item: How much does this cost to the nearest d\u001b[0m\n"
     ]
    },
    {
     "data": {
      "image/png": "[encoded data removed]",
      "text/plain": [
       "<Figure size 1200x800 with 1 Axes>"
      ]
     },
     "metadata": {},
     "output_type": "display_data"
    },
    {
     "name": "stdout",
     "output_type": "stream",
     "text": [
      "{'avg_error': 67.87235000000004, 'rmsle': 0.534658496327335, 'hits_percent': 54.0}\n"
     ]
    }
   ],
   "source": [
    "from model_src.evaluation import qwen_evaluation\n",
    "\n",
    "results = qwen_evaluation(\"price_qwen_lora-trial_1/checkpoint-14000\", test_amount=200)\n",
    "print(results)"
   ]
  },
  {
   "cell_type": "code",
   "execution_count": null,
   "id": "709fc6bb",
   "metadata": {},
   "outputs": [],
   "source": []
  }
 ],
 "metadata": {
  "kernelspec": {
   "display_name": "llm_env",
   "language": "python",
   "name": "python3"
  },
  "language_info": {
   "codemirror_mode": {
    "name": "ipython",
    "version": 3
   },
   "file_extension": ".py",
   "mimetype": "text/x-python",
   "name": "python",
   "nbconvert_exporter": "python",
   "pygments_lexer": "ipython3",
   "version": "3.10.16"
  }
 },
 "nbformat": 4,
 "nbformat_minor": 5
}
